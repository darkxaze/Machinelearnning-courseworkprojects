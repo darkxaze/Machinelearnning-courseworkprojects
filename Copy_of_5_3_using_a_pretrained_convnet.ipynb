{
  "nbformat": 4,
  "nbformat_minor": 0,
  "metadata": {
    "kernelspec": {
      "display_name": "Python 3",
      "language": "python",
      "name": "python3"
    },
    "language_info": {
      "codemirror_mode": {
        "name": "ipython",
        "version": 3
      },
      "file_extension": ".py",
      "mimetype": "text/x-python",
      "name": "python",
      "nbconvert_exporter": "python",
      "pygments_lexer": "ipython3",
      "version": "3.5.2"
    },
    "colab": {
      "name": "Copy of 5.3-using-a-pretrained-convnet.ipynb",
      "provenance": [],
      "collapsed_sections": [],
      "include_colab_link": true
    },
    "accelerator": "GPU"
  },
  "cells": [
    {
      "cell_type": "markdown",
      "metadata": {
        "id": "view-in-github",
        "colab_type": "text"
      },
      "source": [
        "<a href=\"https://colab.research.google.com/github/darkxaze/Machinelearnning-courseworkprojects/blob/main/Copy_of_5_3_using_a_pretrained_convnet.ipynb\" target=\"_parent\"><img src=\"https://colab.research.google.com/assets/colab-badge.svg\" alt=\"Open In Colab\"/></a>"
      ]
    },
    {
      "cell_type": "code",
      "metadata": {
        "id": "VkfbkZO8I1HO"
      },
      "source": [
        "from tensorflow import keras\n",
        "keras.__version__"
      ],
      "execution_count": null,
      "outputs": []
    },
    {
      "cell_type": "markdown",
      "metadata": {
        "id": "4RkxW6AnI1HU"
      },
      "source": [
        "# Using a pre-trained convnet\n",
        "\n",
        "This notebook contains the code sample found in Chapter 5, Section 3 of [Deep Learning with Python](https://www.manning.com/books/deep-learning-with-python?a_aid=keras&a_bid=76564dff). Note that the original text features far more content, in particular further explanations and figures: in this notebook, you will only find source code and related comments.\n",
        "\n",
        "----\n",
        "\n",
        "A common and highly effective approach to deep learning on small image datasets is to leverage a pre-trained network. A pre-trained network \n",
        "is simply a saved network previously trained on a large dataset, typically on a large-scale image classification task. If this original \n",
        "dataset is large enough and general enough, then the spatial feature hierarchy learned by the pre-trained network can effectively act as a \n",
        "generic model of our visual world, and hence its features can prove useful for many different computer vision problems, even though these \n",
        "new problems might involve completely different classes from those of the original task. For instance, one might train a network on \n",
        "ImageNet (where classes are mostly animals and everyday objects) and then re-purpose this trained network for something as remote as \n",
        "identifying furniture items in images. Such portability of learned features across different problems is a key advantage of deep learning \n",
        "compared to many older shallow learning approaches, and it makes deep learning very effective for small-data problems.\n",
        "\n",
        "In our case, we will consider a large convnet trained on the ImageNet dataset (1.4 million labeled images and 1000 different classes). \n",
        "ImageNet contains many animal classes, including different species of cats and dogs, and we can thus expect to perform very well on our cat \n",
        "vs. dog classification problem.\n",
        "\n",
        "We will use the VGG16 architecture, developed by Karen Simonyan and Andrew Zisserman in 2014, a simple and widely used convnet architecture \n",
        "for ImageNet. Although it is a bit of an older model, far from the current state of the art and somewhat heavier than many other recent \n",
        "models, we chose it because its architecture is similar to what you are already familiar with, and easy to understand without introducing \n",
        "any new concepts. This may be your first encounter with one of these cutesie model names -- VGG, ResNet, Inception, Inception-ResNet, \n",
        "Xception... you will get used to them, as they will come up frequently if you keep doing deep learning for computer vision.\n",
        "\n",
        "There are two ways to leverage a pre-trained network: *feature extraction* and *fine-tuning*. We will cover both of them. Let's start with \n",
        "feature extraction."
      ]
    },
    {
      "cell_type": "code",
      "metadata": {
        "id": "sE-reAQPJE9c"
      },
      "source": [
        "!wget \"https://download.microsoft.com/download/3/E/1/3E1C3F21-ECDB-4869-8368-6DEBA77B919F/kagglecatsanddogs_3367a.zip\"\n",
        "!unzip -q kagglecatsanddogs_3367a.zip"
      ],
      "execution_count": null,
      "outputs": []
    },
    {
      "cell_type": "code",
      "metadata": {
        "id": "4hayR4SxJF6h"
      },
      "source": [
        "import os, shutil\n",
        "\n",
        "os.makedirs(\"train/cats\", exist_ok=True)\n",
        "os.makedirs(\"train/dogs\", exist_ok=True)\n",
        "os.makedirs(\"validation/cats\", exist_ok=True)\n",
        "os.makedirs(\"validation/dogs\", exist_ok=True)\n",
        "os.makedirs(\"test/cats\", exist_ok=True)\n",
        "os.makedirs(\"test/dogs\", exist_ok=True)\n",
        "\n",
        "cat_filenames = [\"PetImages/Cat/\" + x for x in os.listdir(\"PetImages/Cat\")]\n",
        "dog_filenames = [\"PetImages/Dog/\" + x for x in os.listdir(\"PetImages/Dog\")]\n",
        "\n",
        "for i in range(1000):\n",
        "    shutil.copyfile(cat_filenames[i], \"train/cats/\" + cat_filenames[i].split('/')[-1])\n",
        "    shutil.copyfile(dog_filenames[i], \"train/dogs/\" + dog_filenames[i].split('/')[-1])\n",
        "\n",
        "for i in range(1000, 1500):\n",
        "    shutil.copyfile(cat_filenames[i], \"validation/cats/\" + cat_filenames[i].split('/')[-1])\n",
        "    shutil.copyfile(dog_filenames[i], \"validation/dogs/\" + dog_filenames[i].split('/')[-1])\n",
        "\n",
        "for i in range(1500, 2000):\n",
        "    shutil.copyfile(cat_filenames[i], \"test/cats/\" + cat_filenames[i].split('/')[-1])\n",
        "    shutil.copyfile(dog_filenames[i], \"test/dogs/\" + dog_filenames[i].split('/')[-1])"
      ],
      "execution_count": null,
      "outputs": []
    },
    {
      "cell_type": "code",
      "metadata": {
        "id": "W6u1TQygJTpB"
      },
      "source": [
        "# Delete unnecessary files\n",
        "!rm -rf PetImages sample_data MSR-* kaggle* readme*"
      ],
      "execution_count": null,
      "outputs": []
    },
    {
      "cell_type": "markdown",
      "metadata": {
        "id": "AFPZEfrPI1HV"
      },
      "source": [
        "## Feature extraction\n",
        "\n",
        "Feature extraction consists of using the representations learned by a previous network to extract interesting features from new samples. \n",
        "These features are then run through a new classifier, which is trained from scratch.\n",
        "\n",
        "As we saw previously, convnets used for image classification comprise two parts: they start with a series of pooling and convolution \n",
        "layers, and they end with a densely-connected classifier. The first part is called the \"convolutional base\" of the model. In the case of \n",
        "convnets, \"feature extraction\" will simply consist of taking the convolutional base of a previously-trained network, running the new data \n",
        "through it, and training a new classifier on top of the output.\n",
        "\n",
        "![swapping FC classifiers](https://s3.amazonaws.com/book.keras.io/img/ch5/swapping_fc_classifier.png)\n",
        "\n",
        "Why only reuse the convolutional base? Could we reuse the densely-connected classifier as well? In general, it should be avoided. The \n",
        "reason is simply that the representations learned by the convolutional base are likely to be more generic and therefore more reusable: the \n",
        "feature maps of a convnet are presence maps of generic concepts over a picture, which is likely to be useful regardless of the computer \n",
        "vision problem at hand. On the other end, the representations learned by the classifier will necessarily be very specific to the set of \n",
        "classes that the model was trained on -- they will only contain information about the presence probability of this or that class in the \n",
        "entire picture. Additionally, representations found in densely-connected layers no longer contain any information about _where_ objects are \n",
        "located in the input image: these layers get rid of the notion of space, whereas the object location is still described by convolutional \n",
        "feature maps. For problems where object location matters, densely-connected features would be largely useless.\n",
        "\n",
        "Note that the level of generality (and therefore reusability) of the representations extracted by specific convolution layers depends on \n",
        "the depth of the layer in the model. Layers that come earlier in the model extract local, highly generic feature maps (such as visual \n",
        "edges, colors, and textures), while layers higher-up extract more abstract concepts (such as \"cat ear\" or \"dog eye\"). So if your new \n",
        "dataset differs a lot from the dataset that the original model was trained on, you may be better off using only the first few layers of the \n",
        "model to do feature extraction, rather than using the entire convolutional base.\n",
        "\n",
        "In our case, since the ImageNet class set did contain multiple dog and cat classes, it is likely that it would be beneficial to reuse the \n",
        "information contained in the densely-connected layers of the original model. However, we will chose not to, in order to cover the more \n",
        "general case where the class set of the new problem does not overlap with the class set of the original model."
      ]
    },
    {
      "cell_type": "markdown",
      "metadata": {
        "id": "YuzNbvzFI1HV"
      },
      "source": [
        "Let's put this in practice by using the convolutional base of the VGG16 network, trained on ImageNet, to extract interesting features from \n",
        "our cat and dog images, and then training a cat vs. dog classifier on top of these features.\n",
        "\n",
        "The VGG16 model, among others, comes pre-packaged with Keras. You can import it from the `keras.applications` module. Here's the list of \n",
        "image classification models (all pre-trained on the ImageNet dataset) that are available as part of `keras.applications`:\n",
        "\n",
        "* Xception\n",
        "* InceptionV3\n",
        "* ResNet50\n",
        "* VGG16\n",
        "* VGG19\n",
        "* MobileNet\n",
        "\n",
        "Let's instantiate the VGG16 model:"
      ]
    },
    {
      "cell_type": "code",
      "metadata": {
        "collapsed": true,
        "id": "tbCLjhIdI1HW"
      },
      "source": [
        "conv_base = keras.applications.VGG16(weights='imagenet',\n",
        "                  include_top=False,\n",
        "                  input_shape=(150, 150, 3))"
      ],
      "execution_count": null,
      "outputs": []
    },
    {
      "cell_type": "markdown",
      "metadata": {
        "id": "GwxZWAqDI1HW"
      },
      "source": [
        "We passed three arguments to the constructor:\n",
        "\n",
        "* `weights`, to specify which weight checkpoint to initialize the model from\n",
        "* `include_top`, which refers to including or not the densely-connected classifier on top of the network. By default, this \n",
        "densely-connected classifier would correspond to the 1000 classes from ImageNet. Since we intend to use our own densely-connected \n",
        "classifier (with only two classes, cat and dog), we don't need to include it.\n",
        "* `input_shape`, the shape of the image tensors that we will feed to the network. This argument is purely optional: if we don't pass it, \n",
        "then the network will be able to process inputs of any size.\n",
        "\n",
        "Here's the detail of the architecture of the VGG16 convolutional base: it's very similar to the simple convnets that you are already \n",
        "familiar with."
      ]
    },
    {
      "cell_type": "code",
      "metadata": {
        "id": "JfeJ68tuI1HW"
      },
      "source": [
        "conv_base.summary()"
      ],
      "execution_count": null,
      "outputs": []
    },
    {
      "cell_type": "markdown",
      "metadata": {
        "id": "zEs_A0uUI1HX"
      },
      "source": [
        "The final feature map has shape `(4, 4, 512)`. That's the feature on top of which we will stick a densely-connected classifier.\n",
        "\n",
        "At this point, there are two ways we could proceed: \n",
        "\n",
        "* Running the convolutional base over our dataset, recording its output to a Numpy array on disk, then using this data as input to a \n",
        "standalone densely-connected classifier similar to those you have seen in the first chapters of this book. This solution is very fast and \n",
        "cheap to run, because it only requires running the convolutional base once for every input image, and the convolutional base is by far the \n",
        "most expensive part of the pipeline. However, for the exact same reason, this technique would not allow us to leverage data augmentation at \n",
        "all.\n",
        "* Extending the model we have (`conv_base`) by adding `Dense` layers on top, and running the whole thing end-to-end on the input data. This \n",
        "allows us to use data augmentation, because every input image is going through the convolutional base every time it is seen by the model. \n",
        "However, for this same reason, this technique is far more expensive than the first one.\n",
        "\n",
        "We will cover both techniques. Let's walk through the code required to set-up the first one: recording the output of `conv_base` on our \n",
        "data and using these outputs as inputs to a new model.\n",
        "\n",
        "We will start by simply running instances of the previously-introduced `ImageDataGenerator` to extract images as Numpy arrays as well as \n",
        "their labels. We will extract features from these images simply by calling the `predict` method of the `conv_base` model."
      ]
    },
    {
      "cell_type": "code",
      "metadata": {
        "id": "jAmMlfzHI1HX"
      },
      "source": [
        "import os\n",
        "import numpy as np\n",
        "\n",
        "datagen = keras.preprocessing.image.ImageDataGenerator(rescale=1./255)\n",
        "batch_size = 20\n",
        "\n",
        "def extract_features(directory, sample_count):\n",
        "    features = np.zeros(shape=(sample_count, 4, 4, 512))\n",
        "    labels = np.zeros(shape=(sample_count))\n",
        "    generator = datagen.flow_from_directory(\n",
        "        directory,\n",
        "        target_size=(150, 150),\n",
        "        batch_size=batch_size,\n",
        "        class_mode='binary')\n",
        "    i = 0\n",
        "    for inputs_batch, labels_batch in generator:\n",
        "        features_batch = conv_base.predict(inputs_batch)\n",
        "        features[i * batch_size : (i + 1) * batch_size] = features_batch\n",
        "        labels[i * batch_size : (i + 1) * batch_size] = labels_batch\n",
        "        i += 1\n",
        "        if i * batch_size >= sample_count:\n",
        "            # Note that since generators yield data indefinitely in a loop,\n",
        "            # we must `break` after every image has been seen once.\n",
        "            break\n",
        "    return features, labels\n",
        "\n",
        "train_features, train_labels = extract_features(\"train\", 2000)\n",
        "validation_features, validation_labels = extract_features(\"validation\", 1000)\n",
        "test_features, test_labels = extract_features(\"test\", 1000)"
      ],
      "execution_count": null,
      "outputs": []
    },
    {
      "cell_type": "markdown",
      "metadata": {
        "id": "ci-LCfndI1HY"
      },
      "source": [
        "The extracted features are currently of shape `(samples, 4, 4, 512)`. We will feed them to a densely-connected classifier, so first we must \n",
        "flatten them to `(samples, 8192)`:"
      ]
    },
    {
      "cell_type": "code",
      "metadata": {
        "collapsed": true,
        "id": "nKR3xzo6I1HY"
      },
      "source": [
        "train_features = np.reshape(train_features, (2000, 4 * 4 * 512))\n",
        "validation_features = np.reshape(validation_features, (1000, 4 * 4 * 512))\n",
        "test_features = np.reshape(test_features, (1000, 4 * 4 * 512))"
      ],
      "execution_count": null,
      "outputs": []
    },
    {
      "cell_type": "markdown",
      "metadata": {
        "id": "OAY50U3gI1HY"
      },
      "source": [
        "At this point, we can define our densely-connected classifier (note the use of dropout for regularization), and train it on the data and \n",
        "labels that we just recorded:"
      ]
    },
    {
      "cell_type": "code",
      "metadata": {
        "id": "uLuluFBII1HZ"
      },
      "source": [
        "model = keras.Sequential()\n",
        "model.add(keras.layers.Dense(256, activation='relu', input_dim=4 * 4 * 512))\n",
        "model.add(keras.layers.Dropout(0.5))\n",
        "model.add(keras.layers.Dense(1, activation='sigmoid'))\n",
        "\n",
        "model.compile(optimizer=keras.optimizers.RMSprop(lr=2e-5),\n",
        "              loss='binary_crossentropy',\n",
        "              metrics=['acc'])\n",
        "\n",
        "history = model.fit(train_features, train_labels,\n",
        "                    epochs=30,\n",
        "                    batch_size=20,\n",
        "                    validation_data=(validation_features, validation_labels))"
      ],
      "execution_count": null,
      "outputs": []
    },
    {
      "cell_type": "markdown",
      "metadata": {
        "id": "lD8uPDCQI1HZ"
      },
      "source": [
        "Training is very fast, since we only have to deal with two `Dense` layers -- an epoch takes less than one second even on CPU.\n",
        "\n",
        "Let's take a look at the loss and accuracy curves during training:"
      ]
    },
    {
      "cell_type": "code",
      "metadata": {
        "id": "YNg04a6zI1HZ"
      },
      "source": [
        "import matplotlib.pyplot as plt\n",
        "\n",
        "acc = history.history['acc']\n",
        "val_acc = history.history['val_acc']\n",
        "loss = history.history['loss']\n",
        "val_loss = history.history['val_loss']\n",
        "\n",
        "epochs = range(len(acc))\n",
        "\n",
        "plt.plot(epochs, acc, 'bo', label='Training acc')\n",
        "plt.plot(epochs, val_acc, 'b', label='Validation acc')\n",
        "plt.title('Training and validation accuracy')\n",
        "plt.legend()\n",
        "\n",
        "plt.figure()\n",
        "\n",
        "plt.plot(epochs, loss, 'bo', label='Training loss')\n",
        "plt.plot(epochs, val_loss, 'b', label='Validation loss')\n",
        "plt.title('Training and validation loss')\n",
        "plt.legend()\n",
        "\n",
        "plt.show()"
      ],
      "execution_count": null,
      "outputs": []
    },
    {
      "cell_type": "markdown",
      "metadata": {
        "id": "BbVPshYbI1HZ"
      },
      "source": [
        "\n",
        "We reach a validation accuracy of about 90%, much better than what we could achieve in the previous section with our small model trained from \n",
        "scratch. However, our plots also indicate that we are overfitting almost from the start -- despite using dropout with a fairly large rate. \n",
        "This is because this technique does not leverage data augmentation, which is essential to preventing overfitting with small image datasets.\n",
        "\n",
        "Now, let's review the second technique we mentioned for doing feature extraction, which is much slower and more expensive, but which allows \n",
        "us to leverage data augmentation during training: extending the `conv_base` model and running it end-to-end on the inputs. Note that this \n",
        "technique is in fact so expensive that you should only attempt it if you have access to a GPU: it is absolutely intractable on CPU. If you \n",
        "cannot run your code on GPU, then the previous technique is the way to go.\n",
        "\n",
        "Because models behave just like layers, you can add a model (like our `conv_base`) to a `Sequential` model just like you would add a layer. \n",
        "So you can do the following:"
      ]
    },
    {
      "cell_type": "code",
      "metadata": {
        "collapsed": true,
        "id": "h-tVTQLDI1Ha"
      },
      "source": [
        "from keras import models\n",
        "from keras import layers\n",
        "\n",
        "model = keras.Sequential()\n",
        "model.add(conv_base)\n",
        "model.add(keras.layers.Flatten())\n",
        "model.add(keras.layers.Dense(256, activation='relu'))\n",
        "model.add(keras.layers.Dense(1, activation='sigmoid'))"
      ],
      "execution_count": null,
      "outputs": []
    },
    {
      "cell_type": "markdown",
      "metadata": {
        "id": "rfFL13FHI1Ha"
      },
      "source": [
        "This is what our model looks like now:"
      ]
    },
    {
      "cell_type": "code",
      "metadata": {
        "id": "SXyylmIMI1Ha"
      },
      "source": [
        "model.summary()"
      ],
      "execution_count": null,
      "outputs": []
    },
    {
      "cell_type": "markdown",
      "metadata": {
        "id": "m3M-GXQ_I1Ha"
      },
      "source": [
        "As you can see, the convolutional base of VGG16 has 14,714,688 parameters, which is very large. The classifier we are adding on top has 2 \n",
        "million parameters.\n",
        "\n",
        "Before we compile and train our model, a very important thing to do is to freeze the convolutional base. \"Freezing\" a layer or set of \n",
        "layers means preventing their weights from getting updated during training. If we don't do this, then the representations that were \n",
        "previously learned by the convolutional base would get modified during training. Since the `Dense` layers on top are randomly initialized, \n",
        "very large weight updates would be propagated through the network, effectively destroying the representations previously learned.\n",
        "\n",
        "In Keras, freezing a network is done by setting its `trainable` attribute to `False`:"
      ]
    },
    {
      "cell_type": "code",
      "metadata": {
        "id": "g7Ve2lFhI1Ha"
      },
      "source": [
        "print('This is the number of trainable weights '\n",
        "      'before freezing the conv base:', len(model.trainable_weights))"
      ],
      "execution_count": null,
      "outputs": []
    },
    {
      "cell_type": "code",
      "metadata": {
        "collapsed": true,
        "id": "oP8_eEBvI1Hb"
      },
      "source": [
        "conv_base.trainable = False"
      ],
      "execution_count": null,
      "outputs": []
    },
    {
      "cell_type": "code",
      "metadata": {
        "id": "uLjVnV4vI1Hb"
      },
      "source": [
        "print('This is the number of trainable weights '\n",
        "      'after freezing the conv base:', len(model.trainable_weights))"
      ],
      "execution_count": null,
      "outputs": []
    },
    {
      "cell_type": "markdown",
      "metadata": {
        "id": "tt2soiGaI1Hb"
      },
      "source": [
        "With this setup, only the weights from the two `Dense` layers that we added will be trained. That's a total of four weight tensors: two per \n",
        "layer (the main weight matrix and the bias vector). Note that in order for these changes to take effect, we must first compile the model. \n",
        "If you ever modify weight trainability after compilation, you should then re-compile the model, or these changes would be ignored.\n",
        "\n",
        "Now we can start training our model, with the same data augmentation configuration that we used in our previous example:"
      ]
    },
    {
      "cell_type": "code",
      "metadata": {
        "id": "UfPdCVWbI1Hb"
      },
      "source": [
        "train_datagen = keras.preprocessing.image.ImageDataGenerator(\n",
        "      rescale=1./255,\n",
        "      rotation_range=40,\n",
        "      width_shift_range=0.2,\n",
        "      height_shift_range=0.2,\n",
        "      shear_range=0.2,\n",
        "      zoom_range=0.2,\n",
        "      horizontal_flip=True,\n",
        "      fill_mode='nearest')\n",
        "\n",
        "# Note that the validation data should not be augmented!\n",
        "test_datagen = keras.preprocessing.image.ImageDataGenerator(rescale=1./255)\n",
        "\n",
        "train_generator = train_datagen.flow_from_directory(\n",
        "        # This is the target directory\n",
        "        \"train\",\n",
        "        # All images will be resized to 150x150\n",
        "        target_size=(150, 150),\n",
        "        batch_size=20,\n",
        "        # Since we use binary_crossentropy loss, we need binary labels\n",
        "        class_mode='binary')\n",
        "\n",
        "validation_generator = test_datagen.flow_from_directory(\n",
        "        \"validation\",\n",
        "        target_size=(150, 150),\n",
        "        batch_size=20,\n",
        "        class_mode='binary')\n",
        "\n",
        "model.compile(loss='binary_crossentropy',\n",
        "              optimizer=keras.optimizers.RMSprop(lr=2e-5),\n",
        "              metrics=['acc'])\n",
        "\n",
        "history = model.fit(\n",
        "      train_generator,\n",
        "      epochs=30,\n",
        "      validation_data=validation_generator,\n",
        "      verbose=2)"
      ],
      "execution_count": null,
      "outputs": []
    },
    {
      "cell_type": "code",
      "metadata": {
        "collapsed": true,
        "id": "9yLSdsF5I1Hc"
      },
      "source": [
        "model.save('cats_and_dogs_small_3.h5')"
      ],
      "execution_count": null,
      "outputs": []
    },
    {
      "cell_type": "markdown",
      "metadata": {
        "id": "kWXsATPVI1Hc"
      },
      "source": [
        "Let's plot our results again:"
      ]
    },
    {
      "cell_type": "code",
      "metadata": {
        "id": "glShDuxHI1Hc"
      },
      "source": [
        "acc = history.history['acc']\n",
        "val_acc = history.history['val_acc']\n",
        "loss = history.history['loss']\n",
        "val_loss = history.history['val_loss']\n",
        "\n",
        "epochs = range(len(acc))\n",
        "\n",
        "plt.plot(epochs, acc, 'bo', label='Training acc')\n",
        "plt.plot(epochs, val_acc, 'b', label='Validation acc')\n",
        "plt.title('Training and validation accuracy')\n",
        "plt.legend()\n",
        "\n",
        "plt.figure()\n",
        "\n",
        "plt.plot(epochs, loss, 'bo', label='Training loss')\n",
        "plt.plot(epochs, val_loss, 'b', label='Validation loss')\n",
        "plt.title('Training and validation loss')\n",
        "plt.legend()\n",
        "\n",
        "plt.show()"
      ],
      "execution_count": null,
      "outputs": []
    },
    {
      "cell_type": "markdown",
      "metadata": {
        "id": "yJkYRN7jI1Hc"
      },
      "source": [
        "As you can see, we reach a validation accuracy of about 96%. This is much better than our small convnet trained from scratch."
      ]
    },
    {
      "cell_type": "markdown",
      "metadata": {
        "id": "E2LfQhmPI1Hc"
      },
      "source": [
        "## Fine-tuning\n",
        "\n",
        "Another widely used technique for model reuse, complementary to feature extraction, is _fine-tuning_. \n",
        "Fine-tuning consists in unfreezing a few of the top layers \n",
        "of a frozen model base used for feature extraction, and jointly training both the newly added part of the model (in our case, the \n",
        "fully-connected classifier) and these top layers. This is called \"fine-tuning\" because it slightly adjusts the more abstract \n",
        "representations of the model being reused, in order to make them more relevant for the problem at hand.\n",
        "\n",
        "![fine-tuning VGG16](https://s3.amazonaws.com/book.keras.io/img/ch5/vgg16_fine_tuning.png)"
      ]
    },
    {
      "cell_type": "markdown",
      "metadata": {
        "id": "7XmVziWHI1Hd"
      },
      "source": [
        "We have stated before that it was necessary to freeze the convolution base of VGG16 in order to be able to train a randomly initialized \n",
        "classifier on top. For the same reason, it is only possible to fine-tune the top layers of the convolutional base once the classifier on \n",
        "top has already been trained. If the classified wasn't already trained, then the error signal propagating through the network during \n",
        "training would be too large, and the representations previously learned by the layers being fine-tuned would be destroyed. Thus the steps \n",
        "for fine-tuning a network are as follow:\n",
        "\n",
        "* 1) Add your custom network on top of an already trained base network.\n",
        "* 2) Freeze the base network.\n",
        "* 3) Train the part you added.\n",
        "* 4) Unfreeze some layers in the base network.\n",
        "* 5) Jointly train both these layers and the part you added.\n",
        "\n",
        "We have already completed the first 3 steps when doing feature extraction. Let's proceed with the 4th step: we will unfreeze our `conv_base`, \n",
        "and then freeze individual layers inside of it.\n",
        "\n",
        "As a reminder, this is what our convolutional base looks like:"
      ]
    },
    {
      "cell_type": "code",
      "metadata": {
        "id": "F0AJyXbpI1Hd"
      },
      "source": [
        "conv_base.summary()"
      ],
      "execution_count": null,
      "outputs": []
    },
    {
      "cell_type": "markdown",
      "metadata": {
        "id": "bL9edRmLI1Hd"
      },
      "source": [
        "\n",
        "We will fine-tune the last 3 convolutional layers, which means that all layers up until `block4_pool` should be frozen, and the layers \n",
        "`block5_conv1`, `block5_conv2` and `block5_conv3` should be trainable.\n",
        "\n",
        "Why not fine-tune more layers? Why not fine-tune the entire convolutional base? We could. However, we need to consider that:\n",
        "\n",
        "* Earlier layers in the convolutional base encode more generic, reusable features, while layers higher up encode more specialized features. It is \n",
        "more useful to fine-tune the more specialized features, as these are the ones that need to be repurposed on our new problem. There would \n",
        "be fast-decreasing returns in fine-tuning lower layers.\n",
        "* The more parameters we are training, the more we are at risk of overfitting. The convolutional base has 15M parameters, so it would be \n",
        "risky to attempt to train it on our small dataset.\n",
        "\n",
        "Thus, in our situation, it is a good strategy to only fine-tune the top 2 to 3 layers in the convolutional base.\n",
        "\n",
        "Let's set this up, starting from where we left off in the previous example:"
      ]
    },
    {
      "cell_type": "code",
      "metadata": {
        "collapsed": true,
        "id": "VD79gClWI1Hd"
      },
      "source": [
        "conv_base.trainable = True\n",
        "\n",
        "set_trainable = False\n",
        "for layer in conv_base.layers:\n",
        "    if layer.name == 'block5_conv1':\n",
        "        set_trainable = True\n",
        "    if set_trainable:\n",
        "        layer.trainable = True\n",
        "    else:\n",
        "        layer.trainable = False"
      ],
      "execution_count": null,
      "outputs": []
    },
    {
      "cell_type": "markdown",
      "metadata": {
        "id": "5ZKPkooZI1Hd"
      },
      "source": [
        "Now we can start fine-tuning our network. We will do this with the RMSprop optimizer, using a very low learning rate. The reason for using \n",
        "a low learning rate is that we want to limit the magnitude of the modifications we make to the representations of the 3 layers that we are \n",
        "fine-tuning. Updates that are too large may harm these representations.\n",
        "\n",
        "Now let's proceed with fine-tuning:"
      ]
    },
    {
      "cell_type": "code",
      "metadata": {
        "id": "AbFja6E1I1He"
      },
      "source": [
        "model.compile(loss='binary_crossentropy',\n",
        "              optimizer=keras.optimizers.RMSprop(lr=1e-5),\n",
        "              metrics=['acc'])\n",
        "\n",
        "history = model.fit(\n",
        "      train_generator,\n",
        "      epochs=30,\n",
        "      validation_data=validation_generator)"
      ],
      "execution_count": null,
      "outputs": []
    },
    {
      "cell_type": "code",
      "metadata": {
        "collapsed": true,
        "id": "Lyt2oJ-iI1He"
      },
      "source": [
        "model.save('cats_and_dogs_small_4.h5')"
      ],
      "execution_count": null,
      "outputs": []
    },
    {
      "cell_type": "markdown",
      "metadata": {
        "id": "aNMTY1pPI1Hg"
      },
      "source": [
        "Let's plot our results using the same plotting code as before:"
      ]
    },
    {
      "cell_type": "code",
      "metadata": {
        "id": "YFwBwpBYI1Hg"
      },
      "source": [
        "acc = history.history['acc']\n",
        "val_acc = history.history['val_acc']\n",
        "loss = history.history['loss']\n",
        "val_loss = history.history['val_loss']\n",
        "\n",
        "epochs = range(len(acc))\n",
        "\n",
        "plt.plot(epochs, acc, 'bo', label='Training acc')\n",
        "plt.plot(epochs, val_acc, 'b', label='Validation acc')\n",
        "plt.title('Training and validation accuracy')\n",
        "plt.legend()\n",
        "\n",
        "plt.figure()\n",
        "\n",
        "plt.plot(epochs, loss, 'bo', label='Training loss')\n",
        "plt.plot(epochs, val_loss, 'b', label='Validation loss')\n",
        "plt.title('Training and validation loss')\n",
        "plt.legend()\n",
        "\n",
        "plt.show()"
      ],
      "execution_count": null,
      "outputs": []
    },
    {
      "cell_type": "markdown",
      "metadata": {
        "id": "wHUufi-uI1Hg"
      },
      "source": [
        "\n",
        "These curves look very noisy. To make them more readable, we can smooth them by replacing every loss and accuracy with exponential moving \n",
        "averages of these quantities. Here's a trivial utility function to do this:"
      ]
    },
    {
      "cell_type": "code",
      "metadata": {
        "id": "cB68eQ72I1Hg"
      },
      "source": [
        "def smooth_curve(points, factor=0.8):\n",
        "  smoothed_points = []\n",
        "  for point in points:\n",
        "    if smoothed_points:\n",
        "      previous = smoothed_points[-1]\n",
        "      smoothed_points.append(previous * factor + point * (1 - factor))\n",
        "    else:\n",
        "      smoothed_points.append(point)\n",
        "  return smoothed_points\n",
        "\n",
        "plt.plot(epochs,\n",
        "         smooth_curve(acc), 'bo', label='Smoothed training acc')\n",
        "plt.plot(epochs,\n",
        "         smooth_curve(val_acc), 'b', label='Smoothed validation acc')\n",
        "plt.title('Training and validation accuracy')\n",
        "plt.legend()\n",
        "\n",
        "plt.figure()\n",
        "\n",
        "plt.plot(epochs,\n",
        "         smooth_curve(loss), 'bo', label='Smoothed training loss')\n",
        "plt.plot(epochs,\n",
        "         smooth_curve(val_loss), 'b', label='Smoothed validation loss')\n",
        "plt.title('Training and validation loss')\n",
        "plt.legend()\n",
        "\n",
        "plt.show()"
      ],
      "execution_count": null,
      "outputs": []
    },
    {
      "cell_type": "markdown",
      "metadata": {
        "id": "4ehHUheHI1Hh"
      },
      "source": [
        "\n",
        "These curves look much cleaner and more stable. We are seeing a nice 1% absolute improvement.\n",
        "\n",
        "Note that the loss curve does not show any real improvement (in fact, it is deteriorating). You may wonder, how could accuracy improve if the \n",
        "loss isn't decreasing? The answer is simple: what we display is an average of pointwise loss values, but what actually matters for accuracy \n",
        "is the distribution of the loss values, not their average, since accuracy is the result of a binary thresholding of the class probability \n",
        "predicted by the model. The model may still be improving even if this isn't reflected in the average loss.\n",
        "\n",
        "We can now finally evaluate this model on the test data:"
      ]
    },
    {
      "cell_type": "code",
      "metadata": {
        "id": "U2VLwhPtI1Hh"
      },
      "source": [
        "test_generator = test_datagen.flow_from_directory(\n",
        "        \"test\",\n",
        "        target_size=(150, 150),\n",
        "        batch_size=20,\n",
        "        class_mode='binary')\n",
        "\n",
        "test_loss, test_acc = model.evaluate(test_generator)\n",
        "print('test acc:', test_acc)"
      ],
      "execution_count": null,
      "outputs": []
    },
    {
      "cell_type": "markdown",
      "metadata": {
        "id": "s9S4qSVcI1Hh"
      },
      "source": [
        "\n",
        "Here we get a test accuracy of 97%. In the original Kaggle competition around this dataset, this would have been one of the top results. \n",
        "However, using modern deep learning techniques, we managed to reach this result using only a very small fraction of the training data \n",
        "available (about 10%). There is a huge difference between being able to train on 20,000 samples compared to 2,000 samples!"
      ]
    },
    {
      "cell_type": "markdown",
      "metadata": {
        "id": "0vXQlPAQI1Hh"
      },
      "source": [
        "## Take-aways: using convnets with small datasets\n",
        "\n",
        "Here's what you should take away from the exercises of these past two sections:\n",
        "\n",
        "* Convnets are the best type of machine learning models for computer vision tasks. It is possible to train one from scratch even on a very \n",
        "small dataset, with decent results.\n",
        "* On a small dataset, overfitting will be the main issue. Data augmentation is a powerful way to fight overfitting when working with image \n",
        "data.\n",
        "* It is easy to reuse an existing convnet on a new dataset, via feature extraction. This is a very valuable technique for working with \n",
        "small image datasets.\n",
        "* As a complement to feature extraction, one may use fine-tuning, which adapts to a new problem some of the representations previously \n",
        "learned by an existing model. This pushes performance a bit further.\n",
        "\n",
        "Now you have a solid set of tools for dealing with image classification problems, in particular with small datasets."
      ]
    }
  ]
}