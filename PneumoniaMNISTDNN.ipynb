{
  "nbformat": 4,
  "nbformat_minor": 0,
  "metadata": {
    "colab": {
      "name": "PneumoniaMNISTDNN",
      "provenance": [],
      "collapsed_sections": [],
      "include_colab_link": true
    },
    "kernelspec": {
      "name": "python3",
      "display_name": "Python 3"
    },
    "accelerator": "GPU"
  },
  "cells": [
    {
      "cell_type": "markdown",
      "metadata": {
        "id": "view-in-github",
        "colab_type": "text"
      },
      "source": [
        "<a href=\"https://colab.research.google.com/github/darkxaze/Machinelearnning-courseworkprojects/blob/main/PneumoniaMNISTDNN.ipynb\" target=\"_parent\"><img src=\"https://colab.research.google.com/assets/colab-badge.svg\" alt=\"Open In Colab\"/></a>"
      ]
    },
    {
      "cell_type": "markdown",
      "metadata": {
        "id": "JKbgFz4AhYvK"
      },
      "source": [
        "# Deep Learning Medical Image Analysis \n",
        "A simple deeply connected neural network model trained using a simple pathology image dataset.The dataset used is <bold>PneumoniaMNIST\n",
        "\n",
        "To use GPU acceleration make sure to change your runtime type in Google Colab to GPU."
      ]
    },
    {
      "cell_type": "markdown",
      "metadata": {
        "id": "LICWjsiH5Ysh"
      },
      "source": [
        "## Python Imports\n",
        "This section will load the necessary python packages to the instance."
      ]
    },
    {
      "cell_type": "code",
      "metadata": {
        "id": "4r14DjPX5XAT"
      },
      "source": [
        "# Built-in Imports\n",
        "import random"
      ],
      "execution_count": 45,
      "outputs": []
    },
    {
      "cell_type": "code",
      "metadata": {
        "id": "_9akxJOL576W"
      },
      "source": [
        "# Library Imports\n",
        "import numpy as np\n",
        "import pandas as pd\n",
        "import matplotlib.pyplot as plt\n",
        "from sklearn.metrics import classification_report, confusion_matrix, ConfusionMatrixDisplay"
      ],
      "execution_count": 46,
      "outputs": []
    },
    {
      "cell_type": "code",
      "metadata": {
        "id": "PPushucynmye"
      },
      "source": [
        "# Keras Imports\n",
        "from tensorflow.keras import layers\n",
        "from tensorflow.keras.models import Model\n",
        "from tensorflow.keras.optimizers import SGD\n",
        "from tensorflow.keras.utils import get_file, to_categorical\n",
        "from tensorflow.keras.preprocessing.image import ImageDataGenerator"
      ],
      "execution_count": 47,
      "outputs": []
    },
    {
      "cell_type": "markdown",
      "metadata": {
        "id": "UfG7LUYZz6I2"
      },
      "source": [
        "## Dataset Downloader\n",
        "This section will download the selected [MedMNIST](https://medmnist.github.io/) dataset as a NumPy array object to your Google Colab instance. \n",
        "\n",
        "To change the dataset that will download just change the variable DATA_NAME to desired dataset name.\n",
        "\n",
        "All storage on a Google Colab instance is deleted when the instance ends so the dataset will need to be redownloaded each time an instance is created (Don't worry this usually takes about 20 seconds).\n",
        "\n",
        "The dataset used in the current model is called PneumoniaMNIST. All images are Greyscale. The images are standardized and the height x width is 28x28 size"
      ]
    },
    {
      "cell_type": "code",
      "metadata": {
        "id": "WFsupyTxnHgN"
      },
      "source": [
        "DATA_NAME = \"PneumoniaMNIST\""
      ],
      "execution_count": 48,
      "outputs": []
    },
    {
      "cell_type": "code",
      "metadata": {
        "colab": {
          "base_uri": "https://localhost:8080/"
        },
        "id": "vrpiQg5VkbsL",
        "outputId": "31c7ea47-ef0b-4cce-99c1-85e4d7cb0b80"
      },
      "source": [
        "!wget https://raw.githubusercontent.com/MedMNIST/MedMNIST/main/medmnist/info.py\n",
        "from info import INFO\n",
        "data = INFO[DATA_NAME.lower()]"
      ],
      "execution_count": 49,
      "outputs": [
        {
          "output_type": "stream",
          "name": "stdout",
          "text": [
            "--2022-04-08 18:47:39--  https://raw.githubusercontent.com/MedMNIST/MedMNIST/main/medmnist/info.py\n",
            "Resolving raw.githubusercontent.com (raw.githubusercontent.com)... 185.199.108.133, 185.199.109.133, 185.199.110.133, ...\n",
            "Connecting to raw.githubusercontent.com (raw.githubusercontent.com)|185.199.108.133|:443... connected.\n",
            "HTTP request sent, awaiting response... 200 OK\n",
            "Length: 22843 (22K) [text/plain]\n",
            "Saving to: ‘info.py.2’\n",
            "\n",
            "\rinfo.py.2             0%[                    ]       0  --.-KB/s               \rinfo.py.2           100%[===================>]  22.31K  --.-KB/s    in 0.002s  \n",
            "\n",
            "2022-04-08 18:47:39 (13.6 MB/s) - ‘info.py.2’ saved [22843/22843]\n",
            "\n"
          ]
        }
      ]
    },
    {
      "cell_type": "code",
      "metadata": {
        "id": "nbCWsdDP0ECH"
      },
      "source": [
        "# Downloads the dataset file hosted on Zenodo.\n",
        "file_path = get_file(fname=\"dataset.npz\", \n",
        "                     origin=data[\"url\"], \n",
        "                     md5_hash=data[\"MD5\"])"
      ],
      "execution_count": 50,
      "outputs": []
    },
    {
      "cell_type": "code",
      "metadata": {
        "id": "GFPDZJZJ6o_T"
      },
      "source": [
        "# Loads the downloaded NumPy object.\n",
        "dataset = np.load(file_path)\n",
        "\n",
        "# Gets the training images and labels from the NumPy object, Normalize and convert it to rgb 3channel image.\n",
        "train_x = dataset[\"train_images\"]\n",
        "train_y = dataset[\"train_labels\"]\n",
        "train_x = train_x.astype('float32') / 255\n",
        "train_x =np.repeat(train_x[..., np.newaxis], 3, -1)\n",
        "# Gets the validation images and labels from the NumPy object, Normalize and convert it to rgb 3channel image.\n",
        "val_x = dataset[\"val_images\"]\n",
        "val_y = dataset[\"val_labels\"]\n",
        "val_x = val_x.astype('float32') / 255\n",
        "val_x =np.repeat(val_x[..., np.newaxis], 3, -1)\n",
        "# Gets the testing images and labels from the NumPy object, Normalize and convert it to rgb 3channel image.\n",
        "test_x = dataset[\"test_images\"]\n",
        "test_y = dataset[\"test_labels\"]\n",
        "test_x = test_x.astype('float32') / 255\n",
        "test_x =np.repeat(test_x[..., np.newaxis], 3, -1)\n"
      ],
      "execution_count": 51,
      "outputs": []
    },
    {
      "cell_type": "markdown",
      "metadata": {
        "id": "TRN-KCObfI18"
      },
      "source": [
        "## Data Exploration\n",
        "In this section we have a look at our data, their distributions to see if it is ready to be used within our machine learning algorithm."
      ]
    },
    {
      "cell_type": "code",
      "metadata": {
        "colab": {
          "base_uri": "https://localhost:8080/"
        },
        "id": "gMAxCIw3-JOW",
        "outputId": "543864e6-d261-4d4f-9048-e12209dde743"
      },
      "source": [
        "# Declares a list of labels.\n",
        "labels = list(data[\"label\"].values()) + [\"total\"]\n",
        "targetnames=list(data[\"label\"].values())\n",
        "# Gets the counts for each label in each of our datasets.\n",
        "_, train_counts = np.unique(train_y, return_counts=True)\n",
        "_, val_counts = np.unique(val_y, return_counts=True)\n",
        "_, test_counts = np.unique(test_y, return_counts=True)\n",
        "\n",
        "# Prints the counts for each label from each dataset.\n",
        "print(pd.DataFrame(list(zip(np.append(train_counts, [sum(train_counts)]), \n",
        "                            np.append(val_counts, [sum(val_counts)]), \n",
        "                            np.append(test_counts, [sum(test_counts)]))), \n",
        "                   index=labels, columns=[\"Train\", \"Val\", \"Test\"]))"
      ],
      "execution_count": 52,
      "outputs": [
        {
          "output_type": "stream",
          "name": "stdout",
          "text": [
            "           Train  Val  Test\n",
            "normal      1214  135   234\n",
            "pneumonia   3494  389   390\n",
            "total       4708  524   624\n"
          ]
        }
      ]
    },
    {
      "cell_type": "code",
      "metadata": {
        "colab": {
          "base_uri": "https://localhost:8080/",
          "height": 300
        },
        "id": "AQ4Qba5sdt_Q",
        "outputId": "39c32200-1895-4032-8ca2-d3cb84dec0ce"
      },
      "source": [
        "# Displays a random image from training dataset.\n",
        "index = random.randint(0, len(train_x))\n",
        "print(f\"{index}: {labels[train_y[index][0]]}\")\n",
        "plt.imshow(train_x[random.randint(0, len(train_x))])"
      ],
      "execution_count": 53,
      "outputs": [
        {
          "output_type": "stream",
          "name": "stdout",
          "text": [
            "823: pneumonia\n"
          ]
        },
        {
          "output_type": "execute_result",
          "data": {
            "text/plain": [
              "<matplotlib.image.AxesImage at 0x7f3d088fbc10>"
            ]
          },
          "metadata": {},
          "execution_count": 53
        },
        {
          "output_type": "display_data",
          "data": {
            "text/plain": [
              "<Figure size 432x288 with 1 Axes>"
            ],
            "image/png": "[encoded data removed]"
          },
          "metadata": {
            "needs_background": "light"
          }
        }
      ]
    },
    {
      "cell_type": "markdown",
      "metadata": {
        "id": "61PPEn8Dhp_v"
      },
      "source": [
        "## Data Processing\n",
        "In this section we will create a data loader for algorithm that will dynamiclly load and augment the data when needed.\n",
        "\n",
        "Data processing is applied to the dataset to auguement data when the size of the data set is small. The advantages of data augmentation are as follows:\n",
        "\n",
        "  \n",
        "\n",
        "*   It reduces the cost of collection of data.\n",
        "*   It reduces data overfitting.\n",
        "*   It creates variability and flexibility in data models.\n",
        "\n",
        "\n",
        "\n",
        "In the model applied we implement horizontal flipping,vertical flipping, \n",
        "featurewise Pixel Normalization: scale pixel values to the range 0-1.\n",
        "featurewise Pixel Centering: scale pixel values to have a zero mean.\n",
        "\n",
        "featurewise here means per dataset\n",
        "\n",
        "The fit function is then invoked to calculate the image statistics in the data generator function and store the value in memory\n",
        "    \n"
      ]
    },
    {
      "cell_type": "code",
      "metadata": {
        "id": "eKrtg2heh4tF"
      },
      "source": [
        "# Defines the data generator that will be used to augment the images as they are loaded.\n",
        "data_generator = ImageDataGenerator(featurewise_center=True,\n",
        "                                    featurewise_std_normalization=True,\n",
        "                                    horizontal_flip=True, \n",
        "                                    vertical_flip=True)"
      ],
      "execution_count": 54,
      "outputs": []
    },
    {
      "cell_type": "code",
      "metadata": {
        "id": "d5TzJV-O3nD7"
      },
      "source": [
        "data_generator.fit(np.append(train_x, val_x, 0))"
      ],
      "execution_count": 55,
      "outputs": []
    },
    {
      "cell_type": "markdown",
      "metadata": {
        "id": "ptmuEdE1p9MU"
      },
      "source": [
        "## Model Definition\n",
        "In this section we will define the neural network arcitecture.\n",
        "The model choose for this exercise is a densely connected neural network. We inirailize the input layer by flatterning the 3 channel image to input all the features. Then we create a dense hidden network with 5 neurons and activation function Relu. Finally we create the output layer with activation function sigmoid to classify binary labels. The model was created in such way to equate the number of parameters in the previous exercise. "
      ]
    },
    {
      "cell_type": "code",
      "metadata": {
        "id": "Ud-jcR_ZqE0V",
        "colab": {
          "base_uri": "https://localhost:8080/"
        },
        "outputId": "d861911d-bc0f-49c2-9402-cae82309e365"
      },
      "source": [
        "from keras import models\n",
        "from keras import layers\n",
        "\n",
        "model = models.Sequential([layers.Flatten(input_shape = train_x[0].shape),\n",
        "layers.Dense(5, activation = 'relu' ),\n",
        "layers.Dense(len(np.unique(train_y)), activation = 'sigmoid' )])\n",
        "model.summary()"
      ],
      "execution_count": 36,
      "outputs": [
        {
          "output_type": "stream",
          "name": "stdout",
          "text": [
            "Model: \"sequential_1\"\n",
            "_________________________________________________________________\n",
            " Layer (type)                Output Shape              Param #   \n",
            "=================================================================\n",
            " flatten_1 (Flatten)         (None, 2352)              0         \n",
            "                                                                 \n",
            " dense_2 (Dense)             (None, 5)                 11765     \n",
            "                                                                 \n",
            " dense_3 (Dense)             (None, 2)                 12        \n",
            "                                                                 \n",
            "=================================================================\n",
            "Total params: 11,777\n",
            "Trainable params: 11,777\n",
            "Non-trainable params: 0\n",
            "_________________________________________________________________\n"
          ]
        }
      ]
    },
    {
      "cell_type": "markdown",
      "metadata": {
        "id": "SdMcAtCztO0b"
      },
      "source": [
        "## Model Training\n",
        "This is where we define the training options and then train the model.\n",
        "\n",
        "\n",
        "\n",
        "*   Stochastic gradient descent is an iterative learning algorithm that uses a training dataset to update a model.\n",
        "\n",
        "*   The batch size is a hyperparameter of gradient descent that controls the number of training samples to work through before the model’s internal parameters are updated.\n",
        "*   The number of epochs is a hyperparameter of gradient descent that controls the number of complete passes through the training dataset.\n",
        "\n",
        "*   learning rate is a hyperparameter that controls how much to change the model in response to the estimated error each time the model weights are updated.\n",
        "\n",
        "\n",
        "*  Loss functions measure how far an estimated value is from its true value\n",
        "binary crossentropy is a loss function that is used in binary-class classification tasks. It is used to classify when examples only belong to one out of many possible categories.\n",
        "*   Metrics are used to evaluate the model. Accuracy Calculates how often predictions equal labels. \n",
        "\n",
        "*   Shuffle is set to false so that no shuffling of data takes places when augumenting data to preserve index\n",
        "\n",
        "\n",
        "\n",
        "\n",
        "\n",
        "\n",
        "\n"
      ]
    },
    {
      "cell_type": "code",
      "metadata": {
        "id": "bEypwRiMuPCn"
      },
      "source": [
        "# Defines the parameters used during training.\n",
        "BATCH_SIZE = 64\n",
        "NUM_EPOCHS = 10\n",
        "LEARNING_RATE = 0.001"
      ],
      "execution_count": 37,
      "outputs": []
    },
    {
      "cell_type": "code",
      "metadata": {
        "id": "Qb9WcL7ZtPZE"
      },
      "source": [
        "# Defines the optimiser used to adjust the model weights and compiles the model.\n",
        "optimiser = SGD(learning_rate=LEARNING_RATE)\n",
        "model.compile(optimizer=optimiser, loss=\"binary_crossentropy\", metrics=[\"accuracy\"])"
      ],
      "execution_count": 38,
      "outputs": []
    },
    {
      "cell_type": "code",
      "source": [
        "model.summary()"
      ],
      "metadata": {
        "colab": {
          "base_uri": "https://localhost:8080/"
        },
        "id": "6Dznsxjy6Zem",
        "outputId": "3f21d08a-e111-476d-e99d-24869c27b8d6"
      },
      "execution_count": 39,
      "outputs": [
        {
          "output_type": "stream",
          "name": "stdout",
          "text": [
            "Model: \"sequential_1\"\n",
            "_________________________________________________________________\n",
            " Layer (type)                Output Shape              Param #   \n",
            "=================================================================\n",
            " flatten_1 (Flatten)         (None, 2352)              0         \n",
            "                                                                 \n",
            " dense_2 (Dense)             (None, 5)                 11765     \n",
            "                                                                 \n",
            " dense_3 (Dense)             (None, 2)                 12        \n",
            "                                                                 \n",
            "=================================================================\n",
            "Total params: 11,777\n",
            "Trainable params: 11,777\n",
            "Non-trainable params: 0\n",
            "_________________________________________________________________\n"
          ]
        }
      ]
    },
    {
      "cell_type": "code",
      "metadata": {
        "colab": {
          "base_uri": "https://localhost:8080/"
        },
        "id": "SOy4ArHyvIhR",
        "outputId": "79c06389-b181-47d3-a5ac-313ebd4b92df"
      },
      "source": [
        "# We use the data generator to pass the training and validation data to the model to train it.\n",
        "history = model.fit(data_generator.flow(train_x, to_categorical(train_y), batch_size=BATCH_SIZE,shuffle=False), \n",
        "                    steps_per_epoch=len(train_x) / BATCH_SIZE,\n",
        "                    validation_data=data_generator.flow(val_x, to_categorical(val_y), batch_size=BATCH_SIZE,shuffle=False),\n",
        "                    validation_steps=len(val_x) / BATCH_SIZE,\n",
        "                    epochs=NUM_EPOCHS)\n",
        "#history = model.fit(train_x, to_categorical(train_y),batch_size = BATCH_SIZE,steps_per_epoch=len(train_x) / BATCH_SIZE,validation_data = (val_x, to_categorical(val_y)),epochs=NUM_EPOCHS,validation_steps=len(val_x) / BATCH_SIZE)"
      ],
      "execution_count": 40,
      "outputs": [
        {
          "output_type": "stream",
          "name": "stdout",
          "text": [
            "Epoch 1/10\n",
            "73/73 [==============================] - 1s 12ms/step - loss: 0.6634 - accuracy: 0.6519 - val_loss: 0.5905 - val_accuracy: 0.7729\n",
            "Epoch 2/10\n",
            "73/73 [==============================] - 1s 9ms/step - loss: 0.5497 - accuracy: 0.8050 - val_loss: 0.5112 - val_accuracy: 0.8416\n",
            "Epoch 3/10\n",
            "73/73 [==============================] - 1s 9ms/step - loss: 0.4898 - accuracy: 0.8398 - val_loss: 0.4708 - val_accuracy: 0.8435\n",
            "Epoch 4/10\n",
            "73/73 [==============================] - 1s 9ms/step - loss: 0.4334 - accuracy: 0.8666 - val_loss: 0.4197 - val_accuracy: 0.8721\n",
            "Epoch 5/10\n",
            "73/73 [==============================] - 1s 10ms/step - loss: 0.3901 - accuracy: 0.8798 - val_loss: 0.3734 - val_accuracy: 0.8950\n",
            "Epoch 6/10\n",
            "73/73 [==============================] - 1s 11ms/step - loss: 0.3559 - accuracy: 0.8849 - val_loss: 0.3504 - val_accuracy: 0.8893\n",
            "Epoch 7/10\n",
            "73/73 [==============================] - 1s 9ms/step - loss: 0.3371 - accuracy: 0.8889 - val_loss: 0.3170 - val_accuracy: 0.9122\n",
            "Epoch 8/10\n",
            "73/73 [==============================] - 1s 9ms/step - loss: 0.3132 - accuracy: 0.8938 - val_loss: 0.3105 - val_accuracy: 0.8989\n",
            "Epoch 9/10\n",
            "73/73 [==============================] - 1s 10ms/step - loss: 0.3001 - accuracy: 0.8966 - val_loss: 0.2871 - val_accuracy: 0.9084\n",
            "Epoch 10/10\n",
            "73/73 [==============================] - 1s 9ms/step - loss: 0.2845 - accuracy: 0.9014 - val_loss: 0.2769 - val_accuracy: 0.9160\n"
          ]
        }
      ]
    },
    {
      "cell_type": "markdown",
      "metadata": {
        "id": "0bw_0oKy4UdI"
      },
      "source": [
        "## Plot Learning Curves\n",
        "This is where we visualise the training of the model."
      ]
    },
    {
      "cell_type": "code",
      "metadata": {
        "colab": {
          "base_uri": "https://localhost:8080/",
          "height": 295
        },
        "id": "8DOxQYV0oDmJ",
        "outputId": "85cf6dac-60e1-4ad7-a606-c1a8852c112b"
      },
      "source": [
        "# Plots the training and validation accuracy over the number of epochs.\n",
        "plt.plot(history.history['accuracy'])\n",
        "plt.plot(history.history['val_accuracy'])\n",
        "plt.title('Model Accuracy')\n",
        "plt.ylabel('Accuracy')\n",
        "plt.xlabel('Epoch')\n",
        "plt.legend(['Train', 'Validation'], loc='lower right')\n",
        "plt.show()"
      ],
      "execution_count": 41,
      "outputs": [
        {
          "output_type": "display_data",
          "data": {
            "text/plain": [
              "<Figure size 432x288 with 1 Axes>"
            ],
            "image/png": "[encoded data removed]"
          },
          "metadata": {
            "needs_background": "light"
          }
        }
      ]
    },
    {
      "cell_type": "code",
      "metadata": {
        "id": "ZSQWVOnY4cdA",
        "colab": {
          "base_uri": "https://localhost:8080/",
          "height": 295
        },
        "outputId": "c29470bf-5e0c-42ce-e6a5-899d1b9c07a6"
      },
      "source": [
        "# Plots the training and validation loss over the number of epochs.\n",
        "plt.plot(history.history['loss'])\n",
        "plt.plot(history.history['val_loss'])\n",
        "plt.title('Model Loss')\n",
        "plt.ylabel('Loss')\n",
        "plt.xlabel('Epoch')\n",
        "plt.legend(['Train', 'Validation'], loc='upper right')\n",
        "plt.show()"
      ],
      "execution_count": 42,
      "outputs": [
        {
          "output_type": "display_data",
          "data": {
            "text/plain": [
              "<Figure size 432x288 with 1 Axes>"
            ],
            "image/png": "[encoded data removed]"
          },
          "metadata": {
            "needs_background": "light"
          }
        }
      ]
    },
    {
      "cell_type": "markdown",
      "source": [
        "## Evaluate Data\n",
        "We evaulate data using the model.evaluate function and passing the test data and the corresponding test labels. we use the model train to predict values based on test data and compare it to test lables to predict accuracy."
      ],
      "metadata": {
        "id": "YqKyMl4mcDAz"
      }
    },
    {
      "cell_type": "code",
      "source": [
        "model.evaluate(data_generator.flow(test_x, to_categorical(test_y),batch_size=BATCH_SIZE,shuffle=False))\n"
      ],
      "metadata": {
        "colab": {
          "base_uri": "https://localhost:8080/"
        },
        "id": "AE__QQZ26u5o",
        "outputId": "fd32248b-2d37-432a-83e1-30c70f20561f"
      },
      "execution_count": 43,
      "outputs": [
        {
          "output_type": "stream",
          "name": "stdout",
          "text": [
            "10/10 [==============================] - 0s 7ms/step - loss: 0.4492 - accuracy: 0.8109\n"
          ]
        },
        {
          "output_type": "execute_result",
          "data": {
            "text/plain": [
              "[0.4492439925670624, 0.8108974099159241]"
            ]
          },
          "metadata": {},
          "execution_count": 43
        }
      ]
    },
    {
      "cell_type": "code",
      "source": [
        "# predict values using the augumented test data set\n",
        "ypred=model.predict(data_generator.flow(test_x,batch_size=BATCH_SIZE,shuffle=False))\n",
        "# convert probability distribution to index of the class\n",
        "ypred1 = np.argmax(ypred, 1)\n",
        "# convert to categorical\n",
        "testy1=to_categorical(test_y,num_classes=2)\n",
        "# identify the index of the class\n",
        "testy2= np.argmax(testy1, 1)\n",
        "print(classification_report(testy2, ypred1,target_names=targetnames))"
      ],
      "metadata": {
        "colab": {
          "base_uri": "https://localhost:8080/"
        },
        "id": "qYK5Sep8Nhdn",
        "outputId": "68def55c-d36d-4b3b-be64-0b179214db90"
      },
      "execution_count": 44,
      "outputs": [
        {
          "output_type": "stream",
          "name": "stdout",
          "text": [
            "              precision    recall  f1-score   support\n",
            "\n",
            "      normal       0.87      0.60      0.71       234\n",
            "   pneumonia       0.80      0.95      0.87       390\n",
            "\n",
            "    accuracy                           0.82       624\n",
            "   macro avg       0.83      0.77      0.79       624\n",
            "weighted avg       0.83      0.82      0.81       624\n",
            "\n"
          ]
        }
      ]
    },
    {
      "cell_type": "markdown",
      "source": [
        "# Inference\n",
        "\n",
        "In this exercise we classify an Binary-class(2) dataset with a densely connected neural network. our model consist of an input layer which takes 28x28x3 as input , a densely connected hidden layerwith 5 neurons finally an output layer with 2 neurons. The total number of trainable parameters is 16552. The proposed model has an accuracy of 82%  with the augumented test dataset. This in line with the predicted values in the classification report. The testdataset is augumented because we need the test set to be similar to the training set due to image processing like standardization,centering,cropping etc. The reason for this is expected to be unbalanced dataset.\n",
        "\n",
        "F1 score is a combined metric defined as product of precision*recall over the sum of precision and recall. Precision is defined as true positive over sum of true positive and false positive, Recall is definied as the true positive over sum of true positive and false negative. Precision can be seen as a measure of quality, and recall as a measure of quantity. Higher precision means that an algorithm returns more relevant results than irrelevant ones, and high recall means that an algorithm returns most of the relevant results. Our ideal value is getting a 1 on F1 score meaning 1 on both precision as well as recall.\n",
        "From the classification report we can see that normal has a f1 score of 0.71 compared to 0.01 meaning less error during classification. This can be attributed to the unbalanced nature of the dataset, with pneumonia having twice as much as normal in training and validation which can lead to a biased CNN classifier and a low score in accuracy. This unbalanced data can be avoided my undersampling majority class or oversampling the minority class. Another issue is the CNN network may have been caught in local minima due to the unbalanced data sets. "
      ],
      "metadata": {
        "id": "vq3wo9ZWcU7r"
      }
    }
  ]
}