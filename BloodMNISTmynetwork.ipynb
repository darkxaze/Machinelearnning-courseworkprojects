{
  "nbformat": 4,
  "nbformat_minor": 0,
  "metadata": {
    "colab": {
      "name": "BloodMNISTmynetwork",
      "provenance": [],
      "collapsed_sections": [],
      "include_colab_link": true
    },
    "kernelspec": {
      "name": "python3",
      "display_name": "Python 3"
    }
  },
  "cells": [
    {
      "cell_type": "markdown",
      "metadata": {
        "id": "view-in-github",
        "colab_type": "text"
      },
      "source": [
        "<a href=\"https://colab.research.google.com/github/darkxaze/Machinelearnning-courseworkprojects/blob/main/BloodMNISTmynetwork.ipynb\" target=\"_parent\"><img src=\"https://colab.research.google.com/assets/colab-badge.svg\" alt=\"Open In Colab\"/></a>"
      ]
    },
    {
      "cell_type": "markdown",
      "metadata": {
        "id": "JKbgFz4AhYvK"
      },
      "source": [
        "# Deep Learning Medical Image Analysis \n",
        "A simple convolutional neural network model trained using a simple pathology image dataset.The dataset used is <bold>BloodMNIST\n",
        "\n",
        "To use GPU acceleration make sure to change your runtime type in Google Colab to GPU."
      ]
    },
    {
      "cell_type": "markdown",
      "metadata": {
        "id": "LICWjsiH5Ysh"
      },
      "source": [
        "## Python Imports\n",
        "This section will load the necessary python packages to the instance."
      ]
    },
    {
      "cell_type": "code",
      "metadata": {
        "id": "4r14DjPX5XAT"
      },
      "source": [
        "# Built-in Imports\n",
        "import random"
      ],
      "execution_count": 1,
      "outputs": []
    },
    {
      "cell_type": "code",
      "metadata": {
        "id": "_9akxJOL576W"
      },
      "source": [
        "# Library Imports\n",
        "import numpy as np\n",
        "import pandas as pd\n",
        "import matplotlib.pyplot as plt\n",
        "from sklearn.metrics import classification_report, confusion_matrix, ConfusionMatrixDisplay"
      ],
      "execution_count": 2,
      "outputs": []
    },
    {
      "cell_type": "code",
      "metadata": {
        "id": "PPushucynmye"
      },
      "source": [
        "# Keras Imports\n",
        "from tensorflow.keras import layers\n",
        "from tensorflow.keras.models import Model\n",
        "from tensorflow.keras.optimizers import SGD\n",
        "from tensorflow.keras.utils import get_file, to_categorical\n",
        "from tensorflow.keras.preprocessing.image import ImageDataGenerator"
      ],
      "execution_count": 3,
      "outputs": []
    },
    {
      "cell_type": "markdown",
      "metadata": {
        "id": "UfG7LUYZz6I2"
      },
      "source": [
        "## Dataset Downloader\n",
        "This section will download the selected [MedMNIST](https://medmnist.github.io/) dataset as a NumPy array object to your Google Colab instance. \n",
        "\n",
        "To change the dataset that will download just change the variable DATA_NAME to desired dataset name.\n",
        "\n",
        "All storage on a Google Colab instance is deleted when the instance ends so the dataset will need to be redownloaded each time an instance is created (Don't worry this usually takes about 20 seconds).\n",
        "\n",
        "The dataset used in the current model is called Bloodmnist. All images are RGB and have 3 channel. The images are standaized and are 28x28 in size."
      ]
    },
    {
      "cell_type": "code",
      "metadata": {
        "id": "WFsupyTxnHgN"
      },
      "source": [
        "DATA_NAME = \"BloodMNIST\""
      ],
      "execution_count": 4,
      "outputs": []
    },
    {
      "cell_type": "code",
      "metadata": {
        "colab": {
          "base_uri": "https://localhost:8080/"
        },
        "id": "vrpiQg5VkbsL",
        "outputId": "ed68b7a1-edda-4304-f67c-14314b4bb613"
      },
      "source": [
        "!wget https://raw.githubusercontent.com/MedMNIST/MedMNIST/main/medmnist/info.py\n",
        "from info import INFO\n",
        "data = INFO[DATA_NAME.lower()]"
      ],
      "execution_count": 5,
      "outputs": [
        {
          "output_type": "stream",
          "name": "stdout",
          "text": [
            "--2022-04-08 15:47:52--  https://raw.githubusercontent.com/MedMNIST/MedMNIST/main/medmnist/info.py\n",
            "Resolving raw.githubusercontent.com (raw.githubusercontent.com)... 185.199.111.133, 185.199.108.133, 185.199.109.133, ...\n",
            "Connecting to raw.githubusercontent.com (raw.githubusercontent.com)|185.199.111.133|:443... connected.\n",
            "HTTP request sent, awaiting response... 200 OK\n",
            "Length: 22843 (22K) [text/plain]\n",
            "Saving to: ‘info.py’\n",
            "\n",
            "\rinfo.py               0%[                    ]       0  --.-KB/s               \rinfo.py             100%[===================>]  22.31K  --.-KB/s    in 0.001s  \n",
            "\n",
            "2022-04-08 15:47:52 (21.9 MB/s) - ‘info.py’ saved [22843/22843]\n",
            "\n"
          ]
        }
      ]
    },
    {
      "cell_type": "code",
      "metadata": {
        "id": "nbCWsdDP0ECH",
        "colab": {
          "base_uri": "https://localhost:8080/"
        },
        "outputId": "caf20882-a7dd-402c-a2a6-5cd6ae9e765c"
      },
      "source": [
        "# Downloads the dataset file hosted on Zenodo.\n",
        "file_path = get_file(fname=\"dataset.npz\", \n",
        "                     origin=data[\"url\"], \n",
        "                     md5_hash=data[\"MD5\"])"
      ],
      "execution_count": 6,
      "outputs": [
        {
          "output_type": "stream",
          "name": "stdout",
          "text": [
            "Downloading data from https://zenodo.org/record/5208230/files/bloodmnist.npz?download=1\n",
            "35463168/35461855 [==============================] - 3s 0us/step\n",
            "35471360/35461855 [==============================] - 3s 0us/step\n"
          ]
        }
      ]
    },
    {
      "cell_type": "code",
      "metadata": {
        "id": "GFPDZJZJ6o_T"
      },
      "source": [
        "# Loads the downloaded NumPy object.\n",
        "dataset = np.load(file_path)\n",
        "\n",
        "# Gets the training images and labels from the NumPy object and normalize it.\n",
        "train_x = dataset[\"train_images\"]\n",
        "train_y = dataset[\"train_labels\"]\n",
        "train_x = train_x.astype('float32') / 255\n",
        "\n",
        "# Gets the validation images and labels from the NumPy object and normalize it.\n",
        "val_x = dataset[\"val_images\"]\n",
        "val_y = dataset[\"val_labels\"]\n",
        "val_x = val_x.astype('float32') / 255\n",
        "\n",
        "# Gets the testing images and labels from the NumPy object and normalize it.\n",
        "test_x = dataset[\"test_images\"]\n",
        "test_y = dataset[\"test_labels\"]\n",
        "test_x = test_x.astype('float32') / 255"
      ],
      "execution_count": 7,
      "outputs": []
    },
    {
      "cell_type": "markdown",
      "metadata": {
        "id": "TRN-KCObfI18"
      },
      "source": [
        "## Data Exploration\n",
        "In this section we have a look at our data, their distributions to see if it is ready to be used within our machine learning algorithm."
      ]
    },
    {
      "cell_type": "code",
      "metadata": {
        "colab": {
          "base_uri": "https://localhost:8080/"
        },
        "id": "gMAxCIw3-JOW",
        "outputId": "76affcfd-98ad-4e08-ce7c-839ccfffa018"
      },
      "source": [
        "# Declares a list of labels.\n",
        "labels = list(data[\"label\"].values()) + [\"total\"]\n",
        "targetnames=list(data[\"label\"].values())\n",
        "\n",
        "# Gets the counts for each label in each of our datasets.\n",
        "_, train_counts = np.unique(train_y, return_counts=True)\n",
        "_, val_counts = np.unique(val_y, return_counts=True)\n",
        "_, test_counts = np.unique(test_y, return_counts=True)\n",
        "\n",
        "# Prints the counts for each label from each dataset.\n",
        "print(pd.DataFrame(list(zip(np.append(train_counts, [sum(train_counts)]), \n",
        "                            np.append(val_counts, [sum(val_counts)]), \n",
        "                            np.append(test_counts, [sum(test_counts)]))), \n",
        "                   index=labels, columns=[\"Train\", \"Val\", \"Test\"]))"
      ],
      "execution_count": 8,
      "outputs": [
        {
          "output_type": "stream",
          "name": "stdout",
          "text": [
            "                                                    Train   Val  Test\n",
            "basophil                                              852   122   244\n",
            "eosinophil                                           2181   312   624\n",
            "erythroblast                                         1085   155   311\n",
            "immature granulocytes(myelocytes, metamyelocyte...   2026   290   579\n",
            "lymphocyte                                            849   122   243\n",
            "monocyte                                              993   143   284\n",
            "neutrophil                                           2330   333   666\n",
            "platelet                                             1643   235   470\n",
            "total                                               11959  1712  3421\n"
          ]
        }
      ]
    },
    {
      "cell_type": "code",
      "metadata": {
        "colab": {
          "base_uri": "https://localhost:8080/",
          "height": 300
        },
        "id": "AQ4Qba5sdt_Q",
        "outputId": "0edf26a6-d586-4a3b-e227-0603c1c1a212"
      },
      "source": [
        "# Displays a random image from training dataset.\n",
        "index = random.randint(0, len(train_x))\n",
        "print(f\"{index}: {labels[train_y[index][0]]}\")\n",
        "plt.imshow(train_x[index])"
      ],
      "execution_count": 9,
      "outputs": [
        {
          "output_type": "stream",
          "name": "stdout",
          "text": [
            "5737: immature granulocytes(myelocytes, metamyelocytes and promyelocytes)\n"
          ]
        },
        {
          "output_type": "execute_result",
          "data": {
            "text/plain": [
              "<matplotlib.image.AxesImage at 0x7fe5443de7d0>"
            ]
          },
          "metadata": {},
          "execution_count": 9
        },
        {
          "output_type": "display_data",
          "data": {
            "text/plain": [
              "<Figure size 432x288 with 1 Axes>"
            ],
            "image/png": "[encoded data removed]"
          },
          "metadata": {
            "needs_background": "light"
          }
        }
      ]
    },
    {
      "cell_type": "markdown",
      "metadata": {
        "id": "61PPEn8Dhp_v"
      },
      "source": [
        "## Data Processing\n",
        "In this section we will create a data loader for algorithm that will dynamiclly load and augment the data when needed.\n",
        "\n",
        "Data processing is applied to the dataset to auguement data when the size of the data set is small. The advantages of data augmentation are as follows:\n",
        "\n",
        "  \n",
        "\n",
        "*   It reduces the cost of collection of data.\n",
        "*   It reduces data overfitting.\n",
        "*   It creates variability and flexibility in data models.\n",
        "\n",
        "\n",
        "\n",
        "In the model applied we implement horizontal flipping,vertical flipping, \n",
        "featurewise Pixel Normalization: scale pixel values to the range 0-1.\n",
        "featurewise Pixel Centering: scale pixel values to have a zero mean.\n",
        "\n",
        "featurewise here means per dataset\n",
        "\n",
        "The fit function is then invoked to calculate the image statistics in the data generator function and store the value in memory\n",
        "    \n"
      ]
    },
    {
      "cell_type": "code",
      "metadata": {
        "id": "eKrtg2heh4tF"
      },
      "source": [
        "# Defines the data generator that will be used to augment the images as they are loaded.\n",
        "data_generator = ImageDataGenerator(featurewise_center=True,\n",
        "                                    featurewise_std_normalization=True,\n",
        "                                    horizontal_flip=True, \n",
        "                                    vertical_flip=True)"
      ],
      "execution_count": 10,
      "outputs": []
    },
    {
      "cell_type": "code",
      "metadata": {
        "id": "d5TzJV-O3nD7"
      },
      "source": [
        "data_generator.fit(np.append(train_x, val_x, 0))"
      ],
      "execution_count": 11,
      "outputs": []
    },
    {
      "cell_type": "markdown",
      "metadata": {
        "id": "ptmuEdE1p9MU"
      },
      "source": [
        "## Model Definition\n",
        "In this section we will define the neural network arcitecture.\n",
        "\n",
        "The chosen model here consists of an input layer which takes in the shape of the data set (28x28x3). Followed by a convolution layer. A convolution layer transforms the input image in order to extract features from it. The layer was invoked from keras with with the following arguments\n",
        "\n",
        "\n",
        "\n",
        "*   Filters : determinesthe number of output filters in the convolution \n",
        "\n",
        "*   Kernel size : A tuple/list specifying the height and width of the 2D convolution window\n",
        "*   Activation : Specifies the activation function of the convolution layer\n",
        "\n",
        "Since we havent defined the model as sequential we specify how this model is connected at the end of the initiation.\n",
        "\n",
        "After convolution layer we have the pooling layer. Pooling layers provide an approach to down sampling feature maps by summarizing the presence of features in patches of the feature map. the pooling layer has  a pool size of 2,2 over which the max value is considered. we have two blocks of conv layer followed vy maxpool layer. \n",
        "\n",
        "Then we flatten the dataset. Flattening is used to convert all the resultant 2-Dimensional arrays from pooled feature maps into a single long continuous linear vector. The flattened matrix is fed as input to the fully connected layer to classify the image. This is followed by a dropout layer. The Dropout layer randomly sets input units to 0 with a frequency of rate at each step during training time, which helps prevent overfitting. Inputs not set to 0 are scaled up by 1/(1 - rate) such that the sum over all inputs is unchanged.\n",
        "\n",
        "we also have densely connected layers with L2 regularization applied with a lambda of 0.01. It adds an L2 penalty which is equal to the square of the magnitude of coefficients and purpose of L2 regularization is to reduce the chance of model overfitting\n",
        "\n",
        "The final layer applies a softmax activation to classify the data and has 8 output nodes.\n",
        "\n"
      ]
    },
    {
      "cell_type": "code",
      "metadata": {
        "colab": {
          "base_uri": "https://localhost:8080/"
        },
        "id": "Ud-jcR_ZqE0V",
        "outputId": "1536dacd-aee2-47a9-94ab-f3044f8626c4"
      },
      "source": [
        "# Define the input layer of the model with the size of an image.\n",
        "from keras import regularizers\n",
        "input = layers.Input(shape=train_x[0].shape)\n",
        "\n",
        "# Defines the first convolutional layer with max pooling.\n",
        "conv_1 = layers.Conv2D(filters=32, kernel_size=3, activation=\"relu\")(input)\n",
        "conv_2 = layers.Conv2D(filters=32, kernel_size=3, activation=\"relu\")(conv_1)\n",
        "pool_1 = layers.MaxPool2D(pool_size=(2, 2))(conv_2)\n",
        "\n",
        "# Defines the second convolutional layer with max pooling.\n",
        "conv_3 = layers.Conv2D(filters=32, kernel_size=3, activation=\"relu\")(pool_1)\n",
        "conv_4 = layers.Conv2D(filters=32, kernel_size=3, activation=\"relu\")(conv_3)\n",
        "pool_2 = layers.MaxPool2D(pool_size=(2, 2))(conv_4)\n",
        "\n",
        "# Flattens the outputs of the convolutoonal layers into a one dimensional array.\n",
        "flatten = layers.Flatten()(pool_2)\n",
        "\n",
        "# create densely connected layers with dropputs and L2 regularization \n",
        "dense1 = layers.Dense(units=200, activation=\"relu\")(flatten)\n",
        "dropout1 = layers.Dropout(0.7)(dense1)\n",
        "dense2 = layers.Dense(units=200, activation=\"relu\",kernel_regularizer=regularizers.l2(0.01))(dropout1)\n",
        "dropout2 = layers.Dropout(0.7)(dense2)\n",
        "dense3 = layers.Dense(units=200, activation=\"relu\",kernel_regularizer=regularizers.l2(0.01))(dropout2)\n",
        "# Defines the output layer of the model a number of output nodes equal to the number of classes.\n",
        "output = layers.Dense(units=len(np.unique(train_y)), activation=\"softmax\")(dense3)\n",
        "\n",
        "# Initilises the defined model and prints summary of the model.\n",
        "model = Model(inputs=input, outputs=output, name=\"Model\")\n",
        "model.summary()"
      ],
      "execution_count": 12,
      "outputs": [
        {
          "output_type": "stream",
          "name": "stdout",
          "text": [
            "Model: \"Model\"\n",
            "_________________________________________________________________\n",
            " Layer (type)                Output Shape              Param #   \n",
            "=================================================================\n",
            " input_1 (InputLayer)        [(None, 28, 28, 3)]       0         \n",
            "                                                                 \n",
            " conv2d (Conv2D)             (None, 26, 26, 32)        896       \n",
            "                                                                 \n",
            " conv2d_1 (Conv2D)           (None, 24, 24, 32)        9248      \n",
            "                                                                 \n",
            " max_pooling2d (MaxPooling2D  (None, 12, 12, 32)       0         \n",
            " )                                                               \n",
            "                                                                 \n",
            " conv2d_2 (Conv2D)           (None, 10, 10, 32)        9248      \n",
            "                                                                 \n",
            " conv2d_3 (Conv2D)           (None, 8, 8, 32)          9248      \n",
            "                                                                 \n",
            " max_pooling2d_1 (MaxPooling  (None, 4, 4, 32)         0         \n",
            " 2D)                                                             \n",
            "                                                                 \n",
            " flatten (Flatten)           (None, 512)               0         \n",
            "                                                                 \n",
            " dense (Dense)               (None, 200)               102600    \n",
            "                                                                 \n",
            " dropout (Dropout)           (None, 200)               0         \n",
            "                                                                 \n",
            " dense_1 (Dense)             (None, 200)               40200     \n",
            "                                                                 \n",
            " dropout_1 (Dropout)         (None, 200)               0         \n",
            "                                                                 \n",
            " dense_2 (Dense)             (None, 200)               40200     \n",
            "                                                                 \n",
            " dense_3 (Dense)             (None, 8)                 1608      \n",
            "                                                                 \n",
            "=================================================================\n",
            "Total params: 213,248\n",
            "Trainable params: 213,248\n",
            "Non-trainable params: 0\n",
            "_________________________________________________________________\n"
          ]
        }
      ]
    },
    {
      "cell_type": "markdown",
      "metadata": {
        "id": "SdMcAtCztO0b"
      },
      "source": [
        "## Model Training\n",
        "This is where we define the training options and then train the model.\n",
        "\n",
        "\n",
        "\n",
        "*   The batch size is a hyperparameter of gradient descent that controls the number of training samples to work through before the model’s internal parameters are updated.\n",
        "*   The number of epochs is a hyperparameter of gradient descent that controls the number of complete passes through the training dataset.\n",
        "\n",
        "*   learning rate is a hyperparameter that controls how much to change the model in response to the estimated error each time the model weights are updated.\n",
        "\n",
        "\n",
        "*   Loss functions measure how far an estimated value is from its true value\n",
        "*   Metrics are used to evaluate the model. Accuracy Calculates how often predictions equal labels. \n",
        "\n",
        "*   Shuffle is set to false so that no shuffling of data takes places when augumenting data to preserve index\n",
        "\n",
        "* Adam optimizer is used because they are better than every other optimization algorithms, have faster computation time, and require fewer parameters for tuning.\n",
        "\n",
        "\n",
        "\n",
        "\n",
        "\n",
        "\n",
        "\n",
        "\n"
      ]
    },
    {
      "cell_type": "code",
      "metadata": {
        "id": "bEypwRiMuPCn"
      },
      "source": [
        "# Defines the parameters used during training.\n",
        "BATCH_SIZE = 64\n",
        "NUM_EPOCHS = 20\n",
        "LEARNING_RATE = 0.001"
      ],
      "execution_count": 13,
      "outputs": []
    },
    {
      "cell_type": "code",
      "metadata": {
        "id": "Qb9WcL7ZtPZE"
      },
      "source": [
        "# Defines the optimiser used to adjust the model weights and compiles the model.\n",
        "from tensorflow import keras\n",
        "#optimiser = SGD(learning_rate=LEARNING_RATE)\n",
        "model.compile(optimizer=keras.optimizers.Adam(learning_rate=1e-3), loss=\"categorical_crossentropy\", metrics=[\"accuracy\"])"
      ],
      "execution_count": 24,
      "outputs": []
    },
    {
      "cell_type": "code",
      "metadata": {
        "colab": {
          "base_uri": "https://localhost:8080/"
        },
        "id": "SOy4ArHyvIhR",
        "outputId": "47ed4b8a-9894-4f49-e816-856004d9cf1e"
      },
      "source": [
        "# We use the data generator to pass the training and validation data to the model to train it.\n",
        "history = model.fit(data_generator.flow(train_x, to_categorical(train_y), batch_size=BATCH_SIZE), shuffle=False, \n",
        "                    steps_per_epoch=len(train_x) / BATCH_SIZE,\n",
        "                    validation_data=data_generator.flow(val_x, to_categorical(val_y), batch_size=BATCH_SIZE,shuffle=False),\n",
        "                    validation_steps=len(val_x) / BATCH_SIZE,\n",
        "                    epochs=NUM_EPOCHS)"
      ],
      "execution_count": 15,
      "outputs": [
        {
          "output_type": "stream",
          "name": "stdout",
          "text": [
            "Epoch 1/20\n",
            "186/186 [==============================] - 14s 17ms/step - loss: 2.8055 - accuracy: 0.4050 - val_loss: 1.4410 - val_accuracy: 0.6086\n",
            "Epoch 2/20\n",
            "186/186 [==============================] - 3s 14ms/step - loss: 1.1556 - accuracy: 0.6805 - val_loss: 0.8206 - val_accuracy: 0.7564\n",
            "Epoch 3/20\n",
            "186/186 [==============================] - 3s 15ms/step - loss: 0.8568 - accuracy: 0.7486 - val_loss: 0.7113 - val_accuracy: 0.7681\n",
            "Epoch 4/20\n",
            "186/186 [==============================] - 3s 15ms/step - loss: 0.7596 - accuracy: 0.7656 - val_loss: 0.6796 - val_accuracy: 0.7804\n",
            "Epoch 5/20\n",
            "186/186 [==============================] - 3s 15ms/step - loss: 0.6810 - accuracy: 0.7908 - val_loss: 0.6012 - val_accuracy: 0.8037\n",
            "Epoch 6/20\n",
            "186/186 [==============================] - 3s 15ms/step - loss: 0.6381 - accuracy: 0.8044 - val_loss: 0.6185 - val_accuracy: 0.8008\n",
            "Epoch 7/20\n",
            "186/186 [==============================] - 3s 15ms/step - loss: 0.6114 - accuracy: 0.8099 - val_loss: 0.5020 - val_accuracy: 0.8259\n",
            "Epoch 8/20\n",
            "186/186 [==============================] - 3s 15ms/step - loss: 0.5790 - accuracy: 0.8174 - val_loss: 0.5118 - val_accuracy: 0.8452\n",
            "Epoch 9/20\n",
            "186/186 [==============================] - 3s 15ms/step - loss: 0.5788 - accuracy: 0.8223 - val_loss: 0.4670 - val_accuracy: 0.8563\n",
            "Epoch 10/20\n",
            "186/186 [==============================] - 3s 15ms/step - loss: 0.5518 - accuracy: 0.8309 - val_loss: 0.4520 - val_accuracy: 0.8616\n",
            "Epoch 11/20\n",
            "186/186 [==============================] - 3s 15ms/step - loss: 0.5305 - accuracy: 0.8410 - val_loss: 0.4346 - val_accuracy: 0.8750\n",
            "Epoch 12/20\n",
            "186/186 [==============================] - 3s 15ms/step - loss: 0.5170 - accuracy: 0.8454 - val_loss: 0.4158 - val_accuracy: 0.8814\n",
            "Epoch 13/20\n",
            "186/186 [==============================] - 3s 15ms/step - loss: 0.5016 - accuracy: 0.8558 - val_loss: 0.4108 - val_accuracy: 0.8838\n",
            "Epoch 14/20\n",
            "186/186 [==============================] - 3s 15ms/step - loss: 0.4907 - accuracy: 0.8600 - val_loss: 0.3901 - val_accuracy: 0.8989\n",
            "Epoch 15/20\n",
            "186/186 [==============================] - 3s 15ms/step - loss: 0.4697 - accuracy: 0.8725 - val_loss: 0.4087 - val_accuracy: 0.8919\n",
            "Epoch 16/20\n",
            "186/186 [==============================] - 3s 15ms/step - loss: 0.4572 - accuracy: 0.8737 - val_loss: 0.3833 - val_accuracy: 0.9030\n",
            "Epoch 17/20\n",
            "186/186 [==============================] - 3s 15ms/step - loss: 0.4483 - accuracy: 0.8839 - val_loss: 0.3865 - val_accuracy: 0.9013\n",
            "Epoch 18/20\n",
            "186/186 [==============================] - 3s 15ms/step - loss: 0.4431 - accuracy: 0.8846 - val_loss: 0.3470 - val_accuracy: 0.9136\n",
            "Epoch 19/20\n",
            "186/186 [==============================] - 3s 14ms/step - loss: 0.4211 - accuracy: 0.8916 - val_loss: 0.3437 - val_accuracy: 0.9194\n",
            "Epoch 20/20\n",
            "186/186 [==============================] - 3s 15ms/step - loss: 0.4147 - accuracy: 0.8992 - val_loss: 0.3629 - val_accuracy: 0.9165\n"
          ]
        }
      ]
    },
    {
      "cell_type": "markdown",
      "metadata": {
        "id": "0bw_0oKy4UdI"
      },
      "source": [
        "## Plot Learning Curves\n",
        "This is where we visualise the training of the model."
      ]
    },
    {
      "cell_type": "code",
      "metadata": {
        "colab": {
          "base_uri": "https://localhost:8080/",
          "height": 295
        },
        "id": "8DOxQYV0oDmJ",
        "outputId": "3bb7fd94-1420-4ae0-ad5a-7c2b9b51a7b3"
      },
      "source": [
        "# Plots the training and validation accuracy over the number of epochs.\n",
        "plt.plot(history.history['accuracy'])\n",
        "plt.plot(history.history['val_accuracy'])\n",
        "plt.title('Model Accuracy')\n",
        "plt.ylabel('Accuracy')\n",
        "plt.xlabel('Epoch')\n",
        "plt.legend(['Train', 'Validation'], loc='lower right')\n",
        "plt.show()"
      ],
      "execution_count": 16,
      "outputs": [
        {
          "output_type": "display_data",
          "data": {
            "text/plain": [
              "<Figure size 432x288 with 1 Axes>"
            ],
            "image/png": "[encoded data removed]"
          },
          "metadata": {
            "needs_background": "light"
          }
        }
      ]
    },
    {
      "cell_type": "code",
      "metadata": {
        "id": "ZSQWVOnY4cdA",
        "colab": {
          "base_uri": "https://localhost:8080/",
          "height": 295
        },
        "outputId": "50fe3d2f-e3ab-46d2-d21d-cc3862a01c99"
      },
      "source": [
        "# Plots the training and validation loss over the number of epochs.\n",
        "plt.plot(history.history['loss'])\n",
        "plt.plot(history.history['val_loss'])\n",
        "plt.title('Model Loss')\n",
        "plt.ylabel('Loss')\n",
        "plt.xlabel('Epoch')\n",
        "plt.legend(['Train', 'Validation'], loc='upper right')\n",
        "plt.show()"
      ],
      "execution_count": 17,
      "outputs": [
        {
          "output_type": "display_data",
          "data": {
            "text/plain": [
              "<Figure size 432x288 with 1 Axes>"
            ],
            "image/png": "[encoded data removed]"
          },
          "metadata": {
            "needs_background": "light"
          }
        }
      ]
    },
    {
      "cell_type": "markdown",
      "source": [
        "From the above graphs we can determine 10 epochs is enough to get a good prediction and prevent overfitting. therefore redifining new model for 10 epochs which will be used to predict values and evaluate the model."
      ],
      "metadata": {
        "id": "iMAAEeBU1ywc"
      }
    },
    {
      "cell_type": "code",
      "source": [
        "# Define the input layer of the model with the size of an image.\n",
        "from keras import regularizers\n",
        "input = layers.Input(shape=train_x[0].shape)\n",
        "\n",
        "# Defines the first convolutional layer with max pooling.\n",
        "conv_1 = layers.Conv2D(filters=32, kernel_size=3, activation=\"relu\")(input)\n",
        "conv_2 = layers.Conv2D(filters=32, kernel_size=3, activation=\"relu\")(conv_1)\n",
        "pool_1 = layers.MaxPool2D(pool_size=(2, 2))(conv_2)\n",
        "\n",
        "# Defines the second convolutional layer with max pooling.\n",
        "conv_3 = layers.Conv2D(filters=32, kernel_size=3, activation=\"relu\")(pool_1)\n",
        "conv_4 = layers.Conv2D(filters=32, kernel_size=3, activation=\"relu\")(conv_3)\n",
        "pool_2 = layers.MaxPool2D(pool_size=(2, 2))(conv_4)\n",
        "\n",
        "# Flattens the outputs of the convolutoonal layers into a one dimensional array.\n",
        "flatten = layers.Flatten()(pool_2)\n",
        "\n",
        "# create densely connected layers with dropputs and L2 regularization \n",
        "dense1 = layers.Dense(units=200, activation=\"relu\")(flatten)\n",
        "dropout1 = layers.Dropout(0.7)(dense1)\n",
        "dense2 = layers.Dense(units=200, activation=\"relu\",kernel_regularizer=regularizers.l2(0.01))(dropout1)\n",
        "dropout2 = layers.Dropout(0.7)(dense2)\n",
        "dense3 = layers.Dense(units=200, activation=\"relu\",kernel_regularizer=regularizers.l2(0.01))(dropout2)\n",
        "# Defines the output layer of the model a number of output nodes equal to the number of classes.\n",
        "output = layers.Dense(units=len(np.unique(train_y)), activation=\"softmax\")(dense3)\n",
        "\n",
        "# Initilises the defined model and prints summary of the model.\n",
        "model1 = Model(inputs=input, outputs=output, name=\"Model\")\n",
        "model1.summary()\n",
        "NUM_EPOCHS = 10\n",
        "# adam optimizer is used instead of SGD\n",
        "model1.compile(optimizer=keras.optimizers.Adam(learning_rate=1e-3), loss=\"categorical_crossentropy\", metrics=[\"accuracy\"])\n",
        "history = model1.fit(data_generator.flow(train_x, to_categorical(train_y), batch_size=BATCH_SIZE), shuffle=False, \n",
        "                    steps_per_epoch=len(train_x) / BATCH_SIZE,\n",
        "                    validation_data=data_generator.flow(val_x, to_categorical(val_y), batch_size=BATCH_SIZE,shuffle=False),\n",
        "                    validation_steps=len(val_x) / BATCH_SIZE,\n",
        "                    epochs=NUM_EPOCHS)\n"
      ],
      "metadata": {
        "colab": {
          "base_uri": "https://localhost:8080/"
        },
        "id": "6zbIpCKu2GsA",
        "outputId": "20edcf1a-4b0d-46ba-afc2-6eca817bf8b1"
      },
      "execution_count": 33,
      "outputs": [
        {
          "output_type": "stream",
          "name": "stdout",
          "text": [
            "Model: \"Model\"\n",
            "_________________________________________________________________\n",
            " Layer (type)                Output Shape              Param #   \n",
            "=================================================================\n",
            " input_5 (InputLayer)        [(None, 28, 28, 3)]       0         \n",
            "                                                                 \n",
            " conv2d_16 (Conv2D)          (None, 26, 26, 32)        896       \n",
            "                                                                 \n",
            " conv2d_17 (Conv2D)          (None, 24, 24, 32)        9248      \n",
            "                                                                 \n",
            " max_pooling2d_8 (MaxPooling  (None, 12, 12, 32)       0         \n",
            " 2D)                                                             \n",
            "                                                                 \n",
            " conv2d_18 (Conv2D)          (None, 10, 10, 32)        9248      \n",
            "                                                                 \n",
            " conv2d_19 (Conv2D)          (None, 8, 8, 32)          9248      \n",
            "                                                                 \n",
            " max_pooling2d_9 (MaxPooling  (None, 4, 4, 32)         0         \n",
            " 2D)                                                             \n",
            "                                                                 \n",
            " flatten_4 (Flatten)         (None, 512)               0         \n",
            "                                                                 \n",
            " dense_16 (Dense)            (None, 200)               102600    \n",
            "                                                                 \n",
            " dropout_8 (Dropout)         (None, 200)               0         \n",
            "                                                                 \n",
            " dense_17 (Dense)            (None, 200)               40200     \n",
            "                                                                 \n",
            " dropout_9 (Dropout)         (None, 200)               0         \n",
            "                                                                 \n",
            " dense_18 (Dense)            (None, 200)               40200     \n",
            "                                                                 \n",
            " dense_19 (Dense)            (None, 8)                 1608      \n",
            "                                                                 \n",
            "=================================================================\n",
            "Total params: 213,248\n",
            "Trainable params: 213,248\n",
            "Non-trainable params: 0\n",
            "_________________________________________________________________\n",
            "Epoch 1/10\n",
            "186/186 [==============================] - 4s 16ms/step - loss: 2.6139 - accuracy: 0.4954 - val_loss: 1.1360 - val_accuracy: 0.7488\n",
            "Epoch 2/10\n",
            "186/186 [==============================] - 3s 15ms/step - loss: 1.0420 - accuracy: 0.7205 - val_loss: 0.7536 - val_accuracy: 0.7722\n",
            "Epoch 3/10\n",
            "186/186 [==============================] - 3s 15ms/step - loss: 0.8136 - accuracy: 0.7572 - val_loss: 0.6693 - val_accuracy: 0.7915\n",
            "Epoch 4/10\n",
            "186/186 [==============================] - 3s 14ms/step - loss: 0.7343 - accuracy: 0.7741 - val_loss: 0.5879 - val_accuracy: 0.8107\n",
            "Epoch 5/10\n",
            "186/186 [==============================] - 3s 14ms/step - loss: 0.6576 - accuracy: 0.7933 - val_loss: 0.5469 - val_accuracy: 0.8324\n",
            "Epoch 6/10\n",
            "186/186 [==============================] - 3s 15ms/step - loss: 0.6242 - accuracy: 0.8048 - val_loss: 0.4937 - val_accuracy: 0.8423\n",
            "Epoch 7/10\n",
            "186/186 [==============================] - 3s 15ms/step - loss: 0.5807 - accuracy: 0.8185 - val_loss: 0.4701 - val_accuracy: 0.8429\n",
            "Epoch 8/10\n",
            "186/186 [==============================] - 3s 15ms/step - loss: 0.5713 - accuracy: 0.8218 - val_loss: 0.4720 - val_accuracy: 0.8405\n",
            "Epoch 9/10\n",
            "186/186 [==============================] - 3s 15ms/step - loss: 0.5497 - accuracy: 0.8280 - val_loss: 0.4739 - val_accuracy: 0.8446\n",
            "Epoch 10/10\n",
            "186/186 [==============================] - 3s 15ms/step - loss: 0.5269 - accuracy: 0.8385 - val_loss: 0.4417 - val_accuracy: 0.8797\n"
          ]
        }
      ]
    },
    {
      "cell_type": "code",
      "source": [
        "# Plots the training and validation accuracy over the number of epochs.\n",
        "plt.plot(history.history['accuracy'])\n",
        "plt.plot(history.history['val_accuracy'])\n",
        "plt.title('Model Accuracy')\n",
        "plt.ylabel('Accuracy')\n",
        "plt.xlabel('Epoch')\n",
        "plt.legend(['Train', 'Validation'], loc='lower right')\n",
        "plt.show()"
      ],
      "metadata": {
        "colab": {
          "base_uri": "https://localhost:8080/",
          "height": 295
        },
        "id": "LWhVQtNV2ii2",
        "outputId": "baa65da1-f7b0-45d3-c89f-5592226d94e8"
      },
      "execution_count": 34,
      "outputs": [
        {
          "output_type": "display_data",
          "data": {
            "text/plain": [
              "<Figure size 432x288 with 1 Axes>"
            ],
            "image/png": "[encoded data removed]"
          },
          "metadata": {
            "needs_background": "light"
          }
        }
      ]
    },
    {
      "cell_type": "code",
      "source": [
        "# Plots the training and validation loss over the number of epochs.\n",
        "plt.plot(history.history['loss'])\n",
        "plt.plot(history.history['val_loss'])\n",
        "plt.title('Model Loss')\n",
        "plt.ylabel('Loss')\n",
        "plt.xlabel('Epoch')\n",
        "plt.legend(['Train', 'Validation'], loc='upper right')\n",
        "plt.show()"
      ],
      "metadata": {
        "colab": {
          "base_uri": "https://localhost:8080/",
          "height": 295
        },
        "id": "wL2Gcebr2kME",
        "outputId": "65acff6a-5e36-4dd2-d053-cf99a71f924f"
      },
      "execution_count": 35,
      "outputs": [
        {
          "output_type": "display_data",
          "data": {
            "text/plain": [
              "<Figure size 432x288 with 1 Axes>"
            ],
            "image/png": "[encoded data removed]"
          },
          "metadata": {
            "needs_background": "light"
          }
        }
      ]
    },
    {
      "cell_type": "markdown",
      "source": [
        "## Evaluate Data\n",
        "We evaulate data using the model.evaluate function and passing the test data and the corresponding test labels. we use the model train to predict values based on test data and compare it to test lables to predict accuracy."
      ],
      "metadata": {
        "id": "rZOI9mNympd-"
      }
    },
    {
      "cell_type": "code",
      "source": [
        "model1.evaluate(data_generator.flow(test_x, to_categorical(test_y)))"
      ],
      "metadata": {
        "colab": {
          "base_uri": "https://localhost:8080/"
        },
        "id": "_LnPx8Cx_rta",
        "outputId": "7ed35082-1541-439c-e32d-085fb9ecaa32"
      },
      "execution_count": 37,
      "outputs": [
        {
          "output_type": "stream",
          "name": "stdout",
          "text": [
            "107/107 [==============================] - 1s 8ms/step - loss: 0.4719 - accuracy: 0.8667\n"
          ]
        },
        {
          "output_type": "execute_result",
          "data": {
            "text/plain": [
              "[0.47188037633895874, 0.8667056560516357]"
            ]
          },
          "metadata": {},
          "execution_count": 37
        }
      ]
    },
    {
      "cell_type": "code",
      "source": [
        "# predict values using the augumented test data set\n",
        "ypred=model1.predict(data_generator.flow(test_x,batch_size=BATCH_SIZE,shuffle=False))\n",
        "# convert probability distribution to index of the class\n",
        "ypred1 = np.argmax(ypred, 1)\n",
        "# convert to categorical\n",
        "testy1=to_categorical(test_y,num_classes=8)\n",
        "# identify the index of the class\n",
        "testy2= np.argmax(testy1, 1)\n",
        "print(classification_report(testy2, ypred1,target_names=targetnames))"
      ],
      "metadata": {
        "colab": {
          "base_uri": "https://localhost:8080/"
        },
        "id": "tFuu0MN_2qOq",
        "outputId": "4fcdd13b-b87e-45ef-da06-d47117af4372"
      },
      "execution_count": 38,
      "outputs": [
        {
          "output_type": "stream",
          "name": "stdout",
          "text": [
            "                                                                     precision    recall  f1-score   support\n",
            "\n",
            "                                                           basophil       0.75      0.86      0.81       244\n",
            "                                                         eosinophil       0.99      0.99      0.99       624\n",
            "                                                       erythroblast       1.00      0.83      0.90       311\n",
            "immature granulocytes(myelocytes, metamyelocytes and promyelocytes)       0.70      0.57      0.63       579\n",
            "                                                         lymphocyte       0.83      0.91      0.87       243\n",
            "                                                           monocyte       0.56      0.67      0.61       284\n",
            "                                                         neutrophil       0.93      0.99      0.96       666\n",
            "                                                           platelet       1.00      1.00      1.00       470\n",
            "\n",
            "                                                           accuracy                           0.86      3421\n",
            "                                                          macro avg       0.84      0.85      0.84      3421\n",
            "                                                       weighted avg       0.87      0.86      0.86      3421\n",
            "\n"
          ]
        }
      ]
    },
    {
      "cell_type": "markdown",
      "source": [
        "##Inference\n",
        "In this exercise we classify an Multi-class(8) dataset with a Convolution neural network. our model consist of an input layer which takes 28x28x3 as input , 2 blocks each containing 2 convolution layers, 1 maxpool layers. This is followed by  a series of densely connected neural network that are regularized by both L2 and dropout method, and finaly an output layer with 8 neurons. The total number of trainable parameters is 213248. The proposed model has an accuracy of 86%  with the augumented test dataset. This in line with the predicted values in the classification report. The testdataset is augumented because we need the test set to be similar to the training set due to image processing like standardization,centering,cropping etc. The main advantage of CNN compared to its predecessors is that it automatically detects the important features without any human supervision.\n",
        "\n",
        "Some key points learnt in this exercises are :\n",
        "\n",
        "\n",
        "*   Data augumentation is essential when the size of the dataset is small. it reduces over fitting.\n",
        "*   L2 and Dropout regularization are some of the methods used with dropout being more popular in CNN networks.\n",
        "\n",
        "*   Softmax and categorical cross entropy are used since we are performing a multi-class classification.\n",
        "*   steps to try out in the future to improve accuracy to the max are by trying different activation functions, learningrate, kernel size, filter size  and increasing the width of the network.\n",
        "*   Transfer learning can be applied with resnet,VGG-19 etc as base models to achieve higher efficiency and reduce computational cost.\n",
        "\n",
        "F1 score is a combined metric defined as product of precision*recall over the sum of precision and recall. Precision is defined as true positive over sum of true positive and false positive, Recall is definied as the true positive over sum of true positive and false negative. Precision can be seen as a measure of quality, and recall as a measure of quantity. Higher precision means that an algorithm returns more relevant results than irrelevant ones, and high recall means that an algorithm returns most of the relevant results. Our ideal value is getting a 1 on F1 score meaning 1 on both precision as well as recall.\n",
        "From the classification report we can see that platelets has a score of 1.00 compared 0.98 for simple CNN and 0.96 for DNN, meaning its being classified correctly and repeatedly.basophil for instance has a F1 score of 0.81 for our model compared to 0.01 for DNN and 0.25 for CNN. this example shows how much more accurate our model is at classification compared to simple models. more complex models with more parameters will further increase the accuracy but will asldo increase computational cost. we have to strive for a balance between them. \n",
        "\n",
        "So In conclusion MyModel(0.86)>CNN(0.65)>DNN(0.49) in classifying the given BloodMNIST dataset based on accuracy.\n",
        "\n",
        "\n",
        "\n"
      ],
      "metadata": {
        "id": "qNRqHHx42ut5"
      }
    },
    {
      "cell_type": "code",
      "source": [
        ""
      ],
      "metadata": {
        "id": "dtsWzdF2AnDz"
      },
      "execution_count": null,
      "outputs": []
    }
  ]
}