{
  "nbformat": 4,
  "nbformat_minor": 0,
  "metadata": {
    "colab": {
      "name": "3.5variants.ipynb",
      "provenance": [],
      "authorship_tag": "ABX9TyOzhyEvSFqbANNxXiex/6CJ",
      "include_colab_link": true
    },
    "kernelspec": {
      "name": "python3",
      "display_name": "Python 3"
    },
    "language_info": {
      "name": "python"
    }
  },
  "cells": [
    {
      "cell_type": "markdown",
      "metadata": {
        "id": "view-in-github",
        "colab_type": "text"
      },
      "source": [
        "<a href=\"https://colab.research.google.com/github/darkxaze/Machinelearnning-courseworkprojects/blob/main/3_5variants.ipynb\" target=\"_parent\"><img src=\"https://colab.research.google.com/assets/colab-badge.svg\" alt=\"Open In Colab\"/></a>"
      ]
    },
    {
      "cell_type": "code",
      "execution_count": 1,
      "metadata": {
        "id": "rVCr0mHghLvV"
      },
      "outputs": [],
      "source": [
        "# Including headers\n",
        "from tensorflow import keras\n",
        "import numpy as np\n",
        "import pandas as pd\n",
        "\n",
        "from keras.datasets import imdb"
      ]
    },
    {
      "cell_type": "code",
      "source": [
        "# Downloading Data from server\n",
        "(train_data,train_labels),(test_data,test_labels)=imdb.load_data(num_words=10000)"
      ],
      "metadata": {
        "id": "7mPgBpLohzDP"
      },
      "execution_count": 2,
      "outputs": []
    },
    {
      "cell_type": "code",
      "source": [
        "# EDA\n",
        "print(train_data.shape)\n",
        "print(len(train_data[0]))\n",
        "print(pd.isnull(train_data))\n",
        "print(pd.isna(train_data))"
      ],
      "metadata": {
        "colab": {
          "base_uri": "https://localhost:8080/"
        },
        "id": "LeXl_rAxiTIn",
        "outputId": "c25ec233-48fa-4635-c756-8dc8d5368c56"
      },
      "execution_count": 3,
      "outputs": [
        {
          "output_type": "stream",
          "name": "stdout",
          "text": [
            "(25000,)\n",
            "218\n",
            "[False False False ... False False False]\n",
            "[False False False ... False False False]\n"
          ]
        }
      ]
    },
    {
      "cell_type": "code",
      "source": [
        "# one hot encoding\n",
        "# create a matrix for one shot encoding each word in each sequence.\n",
        "def onehot(sequences, di=10000):\n",
        "    encoded = np.zeros((len(sequences), di))\n",
        "    for i, sequence in enumerate(sequences):\n",
        "        encoded[i,sequence]=1. # when the number matches it equals to 1 else zero \n",
        "    return encoded\n",
        "                      "
      ],
      "metadata": {
        "id": "HBIQrMpKiwKN"
      },
      "execution_count": 4,
      "outputs": []
    },
    {
      "cell_type": "code",
      "source": [
        "# alterantive from scratch using keras\n",
        "#from sklearn.preprocessing import OneHotEncoder\n",
        "#from keras.preprocessing.text import Tokenizer\n",
        "# tokenize in order the top 10000 words\n",
        "#tokenizer = Tokenizer(num_words=10000)\n",
        "\n",
        "#tokenizer.fit_on_texts(train_data)\n",
        "#one_hot_results = tokenizer.texts_to_matrix(train_data, mode='binary')\n",
        "#one_hot_results"
      ],
      "metadata": {
        "colab": {
          "base_uri": "https://localhost:8080/",
          "height": 380
        },
        "id": "hl4b-clXqt9p",
        "outputId": "acd54780-2cdc-42a7-9a6e-3361112c2bbc"
      },
      "execution_count": 41,
      "outputs": [
        {
          "output_type": "error",
          "ename": "AttributeError",
          "evalue": "ignored",
          "traceback": [
            "\u001b[0;31m---------------------------------------------------------------------------\u001b[0m",
            "\u001b[0;31mAttributeError\u001b[0m                            Traceback (most recent call last)",
            "\u001b[0;32m<ipython-input-41-4d7ef679191e>\u001b[0m in \u001b[0;36m<module>\u001b[0;34m()\u001b[0m\n\u001b[1;32m      5\u001b[0m \u001b[0;34m\u001b[0m\u001b[0m\n\u001b[1;32m      6\u001b[0m \u001b[0;31m#tokenizer.fit_on_texts(train_data)\u001b[0m\u001b[0;34m\u001b[0m\u001b[0;34m\u001b[0m\u001b[0;34m\u001b[0m\u001b[0m\n\u001b[0;32m----> 7\u001b[0;31m \u001b[0mone_hot_results\u001b[0m \u001b[0;34m=\u001b[0m \u001b[0mtokenizer\u001b[0m\u001b[0;34m.\u001b[0m\u001b[0mtexts_to_matrix\u001b[0m\u001b[0;34m(\u001b[0m\u001b[0mtrain_data\u001b[0m\u001b[0;34m,\u001b[0m \u001b[0mmode\u001b[0m\u001b[0;34m=\u001b[0m\u001b[0;34m'binary'\u001b[0m\u001b[0;34m)\u001b[0m\u001b[0;34m\u001b[0m\u001b[0;34m\u001b[0m\u001b[0m\n\u001b[0m\u001b[1;32m      8\u001b[0m \u001b[0;31m#one_hot_results\u001b[0m\u001b[0;34m\u001b[0m\u001b[0;34m\u001b[0m\u001b[0;34m\u001b[0m\u001b[0m\n",
            "\u001b[0;32m/usr/local/lib/python3.7/dist-packages/keras_preprocessing/text.py\u001b[0m in \u001b[0;36mtexts_to_matrix\u001b[0;34m(self, texts, mode)\u001b[0m\n\u001b[1;32m    380\u001b[0m             \u001b[0mA\u001b[0m \u001b[0mNumpy\u001b[0m \u001b[0mmatrix\u001b[0m\u001b[0;34m.\u001b[0m\u001b[0;34m\u001b[0m\u001b[0;34m\u001b[0m\u001b[0m\n\u001b[1;32m    381\u001b[0m         \"\"\"\n\u001b[0;32m--> 382\u001b[0;31m         \u001b[0msequences\u001b[0m \u001b[0;34m=\u001b[0m \u001b[0mself\u001b[0m\u001b[0;34m.\u001b[0m\u001b[0mtexts_to_sequences\u001b[0m\u001b[0;34m(\u001b[0m\u001b[0mtexts\u001b[0m\u001b[0;34m)\u001b[0m\u001b[0;34m\u001b[0m\u001b[0;34m\u001b[0m\u001b[0m\n\u001b[0m\u001b[1;32m    383\u001b[0m         \u001b[0;32mreturn\u001b[0m \u001b[0mself\u001b[0m\u001b[0;34m.\u001b[0m\u001b[0msequences_to_matrix\u001b[0m\u001b[0;34m(\u001b[0m\u001b[0msequences\u001b[0m\u001b[0;34m,\u001b[0m \u001b[0mmode\u001b[0m\u001b[0;34m=\u001b[0m\u001b[0mmode\u001b[0m\u001b[0;34m)\u001b[0m\u001b[0;34m\u001b[0m\u001b[0;34m\u001b[0m\u001b[0m\n\u001b[1;32m    384\u001b[0m \u001b[0;34m\u001b[0m\u001b[0m\n",
            "\u001b[0;32m/usr/local/lib/python3.7/dist-packages/keras_preprocessing/text.py\u001b[0m in \u001b[0;36mtexts_to_sequences\u001b[0;34m(self, texts)\u001b[0m\n\u001b[1;32m    279\u001b[0m             \u001b[0mA\u001b[0m \u001b[0mlist\u001b[0m \u001b[0mof\u001b[0m \u001b[0msequences\u001b[0m\u001b[0;34m.\u001b[0m\u001b[0;34m\u001b[0m\u001b[0;34m\u001b[0m\u001b[0m\n\u001b[1;32m    280\u001b[0m         \"\"\"\n\u001b[0;32m--> 281\u001b[0;31m         \u001b[0;32mreturn\u001b[0m \u001b[0mlist\u001b[0m\u001b[0;34m(\u001b[0m\u001b[0mself\u001b[0m\u001b[0;34m.\u001b[0m\u001b[0mtexts_to_sequences_generator\u001b[0m\u001b[0;34m(\u001b[0m\u001b[0mtexts\u001b[0m\u001b[0;34m)\u001b[0m\u001b[0;34m)\u001b[0m\u001b[0;34m\u001b[0m\u001b[0;34m\u001b[0m\u001b[0m\n\u001b[0m\u001b[1;32m    282\u001b[0m \u001b[0;34m\u001b[0m\u001b[0m\n\u001b[1;32m    283\u001b[0m     \u001b[0;32mdef\u001b[0m \u001b[0mtexts_to_sequences_generator\u001b[0m\u001b[0;34m(\u001b[0m\u001b[0mself\u001b[0m\u001b[0;34m,\u001b[0m \u001b[0mtexts\u001b[0m\u001b[0;34m)\u001b[0m\u001b[0;34m:\u001b[0m\u001b[0;34m\u001b[0m\u001b[0;34m\u001b[0m\u001b[0m\n",
            "\u001b[0;32m/usr/local/lib/python3.7/dist-packages/keras_preprocessing/text.py\u001b[0m in \u001b[0;36mtexts_to_sequences_generator\u001b[0;34m(self, texts)\u001b[0m\n\u001b[1;32m    302\u001b[0m                 \u001b[0;32mif\u001b[0m \u001b[0mself\u001b[0m\u001b[0;34m.\u001b[0m\u001b[0mlower\u001b[0m\u001b[0;34m:\u001b[0m\u001b[0;34m\u001b[0m\u001b[0;34m\u001b[0m\u001b[0m\n\u001b[1;32m    303\u001b[0m                     \u001b[0;32mif\u001b[0m \u001b[0misinstance\u001b[0m\u001b[0;34m(\u001b[0m\u001b[0mtext\u001b[0m\u001b[0;34m,\u001b[0m \u001b[0mlist\u001b[0m\u001b[0;34m)\u001b[0m\u001b[0;34m:\u001b[0m\u001b[0;34m\u001b[0m\u001b[0;34m\u001b[0m\u001b[0m\n\u001b[0;32m--> 304\u001b[0;31m                         \u001b[0mtext\u001b[0m \u001b[0;34m=\u001b[0m \u001b[0;34m[\u001b[0m\u001b[0mtext_elem\u001b[0m\u001b[0;34m.\u001b[0m\u001b[0mlower\u001b[0m\u001b[0;34m(\u001b[0m\u001b[0;34m)\u001b[0m \u001b[0;32mfor\u001b[0m \u001b[0mtext_elem\u001b[0m \u001b[0;32min\u001b[0m \u001b[0mtext\u001b[0m\u001b[0;34m]\u001b[0m\u001b[0;34m\u001b[0m\u001b[0;34m\u001b[0m\u001b[0m\n\u001b[0m\u001b[1;32m    305\u001b[0m                     \u001b[0;32melse\u001b[0m\u001b[0;34m:\u001b[0m\u001b[0;34m\u001b[0m\u001b[0;34m\u001b[0m\u001b[0m\n\u001b[1;32m    306\u001b[0m                         \u001b[0mtext\u001b[0m \u001b[0;34m=\u001b[0m \u001b[0mtext\u001b[0m\u001b[0;34m.\u001b[0m\u001b[0mlower\u001b[0m\u001b[0;34m(\u001b[0m\u001b[0;34m)\u001b[0m\u001b[0;34m\u001b[0m\u001b[0;34m\u001b[0m\u001b[0m\n",
            "\u001b[0;32m/usr/local/lib/python3.7/dist-packages/keras_preprocessing/text.py\u001b[0m in \u001b[0;36m<listcomp>\u001b[0;34m(.0)\u001b[0m\n\u001b[1;32m    302\u001b[0m                 \u001b[0;32mif\u001b[0m \u001b[0mself\u001b[0m\u001b[0;34m.\u001b[0m\u001b[0mlower\u001b[0m\u001b[0;34m:\u001b[0m\u001b[0;34m\u001b[0m\u001b[0;34m\u001b[0m\u001b[0m\n\u001b[1;32m    303\u001b[0m                     \u001b[0;32mif\u001b[0m \u001b[0misinstance\u001b[0m\u001b[0;34m(\u001b[0m\u001b[0mtext\u001b[0m\u001b[0;34m,\u001b[0m \u001b[0mlist\u001b[0m\u001b[0;34m)\u001b[0m\u001b[0;34m:\u001b[0m\u001b[0;34m\u001b[0m\u001b[0;34m\u001b[0m\u001b[0m\n\u001b[0;32m--> 304\u001b[0;31m                         \u001b[0mtext\u001b[0m \u001b[0;34m=\u001b[0m \u001b[0;34m[\u001b[0m\u001b[0mtext_elem\u001b[0m\u001b[0;34m.\u001b[0m\u001b[0mlower\u001b[0m\u001b[0;34m(\u001b[0m\u001b[0;34m)\u001b[0m \u001b[0;32mfor\u001b[0m \u001b[0mtext_elem\u001b[0m \u001b[0;32min\u001b[0m \u001b[0mtext\u001b[0m\u001b[0;34m]\u001b[0m\u001b[0;34m\u001b[0m\u001b[0;34m\u001b[0m\u001b[0m\n\u001b[0m\u001b[1;32m    305\u001b[0m                     \u001b[0;32melse\u001b[0m\u001b[0;34m:\u001b[0m\u001b[0;34m\u001b[0m\u001b[0;34m\u001b[0m\u001b[0m\n\u001b[1;32m    306\u001b[0m                         \u001b[0mtext\u001b[0m \u001b[0;34m=\u001b[0m \u001b[0mtext\u001b[0m\u001b[0;34m.\u001b[0m\u001b[0mlower\u001b[0m\u001b[0;34m(\u001b[0m\u001b[0;34m)\u001b[0m\u001b[0;34m\u001b[0m\u001b[0;34m\u001b[0m\u001b[0m\n",
            "\u001b[0;31mAttributeError\u001b[0m: 'int' object has no attribute 'lower'"
          ]
        }
      ]
    },
    {
      "cell_type": "code",
      "source": [
        "#vectorize data\n",
        "x_train = onehot(train_data)        \n",
        "x_test = onehot(test_data)         \n",
        "x_train[0]"
      ],
      "metadata": {
        "colab": {
          "base_uri": "https://localhost:8080/"
        },
        "id": "EeZK8QqtoOmI",
        "outputId": "490d278f-e1e4-4417-fc0b-53511bd3b01f"
      },
      "execution_count": 5,
      "outputs": [
        {
          "output_type": "execute_result",
          "data": {
            "text/plain": [
              "array([0., 1., 1., ..., 0., 0., 0.])"
            ]
          },
          "metadata": {},
          "execution_count": 5
        }
      ]
    },
    {
      "cell_type": "code",
      "source": [
        "y_train = np.asarray(train_labels).astype('float32')\n",
        "y_test = np.asarray(test_labels).astype('float32')"
      ],
      "metadata": {
        "id": "R5TqhyrjqkaS"
      },
      "execution_count": 6,
      "outputs": []
    },
    {
      "cell_type": "code",
      "source": [
        "x_val=x_train[:10000]\n",
        "x_ptrain=x_train[10000:]\n",
        "y_val=y_train[:10000]\n",
        "y_ptrain=y_train[10000:]"
      ],
      "metadata": {
        "id": "1wiLYw5-wLJD"
      },
      "execution_count": 43,
      "outputs": []
    },
    {
      "cell_type": "code",
      "source": [
        "from keras.layers.core.activation import Activation\n",
        "from keras import models\n",
        "from keras import layers\n",
        "\n",
        "model=models.Sequential()\n",
        "model.add(layers.Dense(16,activation='relu',input_shape=(10000,)))\n",
        "model.add(layers.Dense(16,activation='relu'))\n",
        "model.add(layers.Dense(1,activation='sigmoid'))\n",
        "model.compile(optimizer='rmsprop',loss='binary_crossentropy',metrics=['accuracy'])\n",
        "#model.fit(x_ptrain,y_ptrain,batch_size=512,epochs=20,validation_data=(x_val,y_val))\n",
        "history=model.fit(x_train,y_train,batch_size=512,epochs=20,validation_split=0.2)"
      ],
      "metadata": {
        "colab": {
          "base_uri": "https://localhost:8080/"
        },
        "id": "lCt9AX5RvFRa",
        "outputId": "26618bfe-0519-435c-feda-60040b30d86e"
      },
      "execution_count": 48,
      "outputs": [
        {
          "output_type": "stream",
          "name": "stdout",
          "text": [
            "Epoch 1/20\n",
            "40/40 [==============================] - 3s 50ms/step - loss: 0.5122 - accuracy: 0.7883 - val_loss: 0.4080 - val_accuracy: 0.8326\n",
            "Epoch 2/20\n",
            "40/40 [==============================] - 2s 38ms/step - loss: 0.2998 - accuracy: 0.9040 - val_loss: 0.2957 - val_accuracy: 0.8896\n",
            "Epoch 3/20\n",
            "40/40 [==============================] - 2s 39ms/step - loss: 0.2170 - accuracy: 0.9287 - val_loss: 0.3527 - val_accuracy: 0.8530\n",
            "Epoch 4/20\n",
            "40/40 [==============================] - 2s 38ms/step - loss: 0.1779 - accuracy: 0.9392 - val_loss: 0.2963 - val_accuracy: 0.8806\n",
            "Epoch 5/20\n",
            "40/40 [==============================] - 2s 38ms/step - loss: 0.1473 - accuracy: 0.9505 - val_loss: 0.2847 - val_accuracy: 0.8890\n",
            "Epoch 6/20\n",
            "40/40 [==============================] - 2s 39ms/step - loss: 0.1288 - accuracy: 0.9579 - val_loss: 0.2988 - val_accuracy: 0.8886\n",
            "Epoch 7/20\n",
            "40/40 [==============================] - 2s 38ms/step - loss: 0.1067 - accuracy: 0.9665 - val_loss: 0.3215 - val_accuracy: 0.8828\n",
            "Epoch 8/20\n",
            "40/40 [==============================] - 2s 38ms/step - loss: 0.0959 - accuracy: 0.9697 - val_loss: 0.3701 - val_accuracy: 0.8736\n",
            "Epoch 9/20\n",
            "40/40 [==============================] - 2s 43ms/step - loss: 0.0845 - accuracy: 0.9721 - val_loss: 0.3646 - val_accuracy: 0.8802\n",
            "Epoch 10/20\n",
            "40/40 [==============================] - 2s 39ms/step - loss: 0.0719 - accuracy: 0.9768 - val_loss: 0.4405 - val_accuracy: 0.8746\n",
            "Epoch 11/20\n",
            "40/40 [==============================] - 2s 51ms/step - loss: 0.0612 - accuracy: 0.9825 - val_loss: 0.4199 - val_accuracy: 0.8752\n",
            "Epoch 12/20\n",
            "40/40 [==============================] - 2s 38ms/step - loss: 0.0547 - accuracy: 0.9839 - val_loss: 0.4556 - val_accuracy: 0.8716\n",
            "Epoch 13/20\n",
            "40/40 [==============================] - 2s 39ms/step - loss: 0.0465 - accuracy: 0.9873 - val_loss: 0.4904 - val_accuracy: 0.8750\n",
            "Epoch 14/20\n",
            "40/40 [==============================] - 2s 39ms/step - loss: 0.0393 - accuracy: 0.9902 - val_loss: 0.5115 - val_accuracy: 0.8698\n",
            "Epoch 15/20\n",
            "40/40 [==============================] - 2s 39ms/step - loss: 0.0338 - accuracy: 0.9919 - val_loss: 0.5497 - val_accuracy: 0.8710\n",
            "Epoch 16/20\n",
            "40/40 [==============================] - 2s 39ms/step - loss: 0.0293 - accuracy: 0.9930 - val_loss: 0.5811 - val_accuracy: 0.8700\n",
            "Epoch 17/20\n",
            "40/40 [==============================] - 2s 39ms/step - loss: 0.0244 - accuracy: 0.9948 - val_loss: 0.6142 - val_accuracy: 0.8708\n",
            "Epoch 18/20\n",
            "40/40 [==============================] - 2s 39ms/step - loss: 0.0205 - accuracy: 0.9955 - val_loss: 0.6562 - val_accuracy: 0.8682\n",
            "Epoch 19/20\n",
            "40/40 [==============================] - 2s 39ms/step - loss: 0.0178 - accuracy: 0.9959 - val_loss: 0.6834 - val_accuracy: 0.8666\n",
            "Epoch 20/20\n",
            "40/40 [==============================] - 2s 38ms/step - loss: 0.0173 - accuracy: 0.9961 - val_loss: 0.7099 - val_accuracy: 0.8676\n"
          ]
        }
      ]
    },
    {
      "cell_type": "code",
      "source": [
        ""
      ],
      "metadata": {
        "id": "zzBi14way84G"
      },
      "execution_count": null,
      "outputs": []
    },
    {
      "cell_type": "code",
      "source": [
        "history_dict = history.history\n",
        "history_dict.keys()"
      ],
      "metadata": {
        "colab": {
          "base_uri": "https://localhost:8080/"
        },
        "id": "yAGLEj-7xaVX",
        "outputId": "fa522353-1f8e-46e6-9b33-c129a2c2823e"
      },
      "execution_count": 49,
      "outputs": [
        {
          "output_type": "execute_result",
          "data": {
            "text/plain": [
              "dict_keys(['loss', 'accuracy', 'val_loss', 'val_accuracy'])"
            ]
          },
          "metadata": {},
          "execution_count": 49
        }
      ]
    },
    {
      "cell_type": "code",
      "source": [
        "import matplotlib.pyplot as plt\n",
        "\n",
        "acc = history.history['accuracy']\n",
        "val_acc = history.history['val_accuracy']\n",
        "loss = history.history['loss']\n",
        "val_loss = history.history['val_loss']\n",
        "\n",
        "epochs = range(1, len(acc) + 1)\n",
        "\n",
        "# \"bo\" is for \"blue dot\"\n",
        "plt.plot(epochs, loss, 'bo', label='Training loss')\n",
        "# b is for \"solid blue line\"\n",
        "plt.plot(epochs, val_loss, 'b', label='Validation loss')\n",
        "plt.title('Training and validation loss')\n",
        "plt.xlabel('Epochs')\n",
        "plt.ylabel('Loss')\n",
        "plt.legend()\n",
        "\n",
        "plt.show()"
      ],
      "metadata": {
        "colab": {
          "base_uri": "https://localhost:8080/",
          "height": 295
        },
        "id": "VaByTZx9xd8y",
        "outputId": "932e72c7-2a00-4f72-ca3f-8847e2c972f1"
      },
      "execution_count": 52,
      "outputs": [
        {
          "output_type": "display_data",
          "data": {
            "text/plain": [
              "<Figure size 432x288 with 1 Axes>"
            ],
            "image/png": "[encoded data removed]"
          },
          "metadata": {
            "needs_background": "light"
          }
        }
      ]
    },
    {
      "cell_type": "code",
      "source": [
        "plt.clf()   # clear figure\n",
        "acc_values = history_dict['accuracy']\n",
        "val_acc_values = history_dict['val_accuracy']\n",
        "\n",
        "plt.plot(epochs, acc, 'bo', label='Training acc')\n",
        "plt.plot(epochs, val_acc, 'b', label='Validation acc')\n",
        "plt.title('Training and validation accuracy')\n",
        "plt.xlabel('Epochs')\n",
        "plt.ylabel('Loss')\n",
        "plt.legend()\n",
        "\n",
        "plt.show()"
      ],
      "metadata": {
        "colab": {
          "base_uri": "https://localhost:8080/",
          "height": 295
        },
        "id": "yX1yr8DQyPau",
        "outputId": "569cc963-d7ca-40e9-fe89-8e0bf14696bf"
      },
      "execution_count": 53,
      "outputs": [
        {
          "output_type": "display_data",
          "data": {
            "text/plain": [
              "<Figure size 432x288 with 1 Axes>"
            ],
            "image/png": "[encoded data removed]"
          },
          "metadata": {
            "needs_background": "light"
          }
        }
      ]
    },
    {
      "cell_type": "code",
      "source": [
        "results=model.evaluate(x_test,y_test)"
      ],
      "metadata": {
        "colab": {
          "base_uri": "https://localhost:8080/"
        },
        "id": "d3tKukn3yaIZ",
        "outputId": "22e3f94d-71c3-4032-f1eb-ec33cdb5e642"
      },
      "execution_count": 54,
      "outputs": [
        {
          "output_type": "stream",
          "name": "stdout",
          "text": [
            "782/782 [==============================] - 2s 2ms/step - loss: 0.7720 - accuracy: 0.8507\n"
          ]
        }
      ]
    },
    {
      "cell_type": "code",
      "source": [
        "model.predict(x_test)"
      ],
      "metadata": {
        "colab": {
          "base_uri": "https://localhost:8080/"
        },
        "id": "VB5lm1fQyvK2",
        "outputId": "9df86e97-aeb6-4dd5-fe0a-461d435a86bb"
      },
      "execution_count": 55,
      "outputs": [
        {
          "output_type": "execute_result",
          "data": {
            "text/plain": [
              "array([[0.03981778],\n",
              "       [1.        ],\n",
              "       [0.01039076],\n",
              "       ...,\n",
              "       [0.0832856 ],\n",
              "       [0.00413942],\n",
              "       [0.02346271]], dtype=float32)"
            ]
          },
          "metadata": {},
          "execution_count": 55
        }
      ]
    },
    {
      "cell_type": "code",
      "source": [
        "\n",
        "model=models.Sequential()\n",
        "model.add(layers.Dense(16,activation='relu',input_shape=(10000,)))\n",
        "model.add(layers.Dense(16,activation='relu'))\n",
        "model.add(layers.Dense(1,activation='sigmoid'))\n",
        "model.compile(optimizer='rmsprop',loss='binary_crossentropy',metrics=['accuracy'])\n",
        "#model.fit(x_ptrain,y_ptrain,batch_size=512,epochs=20,validation_data=(x_val,y_val))\n",
        "history=model.fit(x_train,y_train,batch_size=512,epochs=2,validation_split=0.2)\n",
        "history_dict = history.history\n",
        "history_dict.keys()\n",
        "import matplotlib.pyplot as plt\n",
        "\n",
        "acc = history.history['accuracy']\n",
        "val_acc = history.history['val_accuracy']\n",
        "loss = history.history['loss']\n",
        "val_loss = history.history['val_loss']\n",
        "\n",
        "epochs = range(1, len(acc) + 1)\n",
        "\n",
        "# \"bo\" is for \"blue dot\"\n",
        "plt.plot(epochs, loss, 'bo', label='Training loss')\n",
        "# b is for \"solid blue line\"\n",
        "plt.plot(epochs, val_loss, 'b', label='Validation loss')\n",
        "plt.title('Training and validation loss')\n",
        "plt.xlabel('Epochs')\n",
        "plt.ylabel('Loss')\n",
        "plt.legend()\n",
        "\n",
        "plt.show()"
      ],
      "metadata": {
        "colab": {
          "base_uri": "https://localhost:8080/",
          "height": 368
        },
        "id": "aNAS-t4iy-_7",
        "outputId": "86ea8b71-5712-429f-c2df-594371bf25a6"
      },
      "execution_count": 56,
      "outputs": [
        {
          "output_type": "stream",
          "name": "stdout",
          "text": [
            "Epoch 1/2\n",
            "40/40 [==============================] - 2s 37ms/step - loss: 0.4910 - accuracy: 0.8141 - val_loss: 0.3745 - val_accuracy: 0.8772\n",
            "Epoch 2/2\n",
            "40/40 [==============================] - 1s 31ms/step - loss: 0.2951 - accuracy: 0.9068 - val_loss: 0.2879 - val_accuracy: 0.8918\n"
          ]
        },
        {
          "output_type": "display_data",
          "data": {
            "text/plain": [
              "<Figure size 432x288 with 1 Axes>"
            ],
            "image/png": "[encoded data removed]"
          },
          "metadata": {
            "needs_background": "light"
          }
        }
      ]
    },
    {
      "cell_type": "code",
      "source": [
        "results=model.evaluate(x_test,y_test)"
      ],
      "metadata": {
        "colab": {
          "base_uri": "https://localhost:8080/"
        },
        "id": "hBla-Y7hzOrQ",
        "outputId": "12cff7b2-2189-47a4-d01f-24fbc4696b70"
      },
      "execution_count": 57,
      "outputs": [
        {
          "output_type": "stream",
          "name": "stdout",
          "text": [
            "782/782 [==============================] - 2s 2ms/step - loss: 0.3049 - accuracy: 0.8863\n"
          ]
        }
      ]
    },
    {
      "cell_type": "code",
      "source": [
        "from keras.layers.core.activation import Activation\n",
        "from keras import models\n",
        "from keras import layers\n",
        "model= models.Sequential()\n",
        "model.add(layers.Dense(16,activation='relu',input_shape=(10000,)))\n",
        "model.add(layers.Dense(16,activation='relu'))\n",
        "model.add(layers.Dense(16,activation='relu'))\n",
        "model.add(layers.Dense(1,activation='sigmoid'))\n",
        "model.compile(optimizer='rmsprop',loss='binary_crossentropy',metrics=['accuracy'])\n",
        "#model.fit(x_ptrain,y_ptrain,batch_size=512,epochs=20,validation_data=(x_val,y_val))\n",
        "history=model.fit(x_train,y_train,batch_size=512,epochs=4,validation_split=0.2)\n",
        "history_dict = history.history\n",
        "history_dict.keys()\n",
        "import matplotlib.pyplot as plt\n",
        "\n",
        "acc = history.history['accuracy']\n",
        "val_acc = history.history['val_accuracy']\n",
        "loss = history.history['loss']\n",
        "val_loss = history.history['val_loss']\n",
        "\n",
        "epochs = range(1, len(acc) + 1)\n",
        "\n",
        "# \"bo\" is for \"blue dot\"\n",
        "plt.plot(epochs, loss, 'bo', label='Training loss')\n",
        "# b is for \"solid blue line\"\n",
        "plt.plot(epochs, val_loss, 'b', label='Validation loss')\n",
        "plt.title('Training and validation loss')\n",
        "plt.xlabel('Epochs')\n",
        "plt.ylabel('Loss')\n",
        "plt.legend()\n",
        "\n",
        "plt.show()"
      ],
      "metadata": {
        "colab": {
          "base_uri": "https://localhost:8080/",
          "height": 442
        },
        "id": "6Imi4d2_zcu8",
        "outputId": "825d05cf-0258-485c-8002-f55332a91189"
      },
      "execution_count": 10,
      "outputs": [
        {
          "output_type": "stream",
          "name": "stdout",
          "text": [
            "Epoch 1/4\n",
            "40/40 [==============================] - 3s 54ms/step - loss: 0.5040 - accuracy: 0.7966 - val_loss: 0.3623 - val_accuracy: 0.8838\n",
            "Epoch 2/4\n",
            "40/40 [==============================] - 1s 29ms/step - loss: 0.2850 - accuracy: 0.9063 - val_loss: 0.2839 - val_accuracy: 0.8934\n",
            "Epoch 3/4\n",
            "40/40 [==============================] - 1s 29ms/step - loss: 0.2116 - accuracy: 0.9263 - val_loss: 0.2796 - val_accuracy: 0.8916\n",
            "Epoch 4/4\n",
            "40/40 [==============================] - 1s 28ms/step - loss: 0.1728 - accuracy: 0.9399 - val_loss: 0.3083 - val_accuracy: 0.8828\n"
          ]
        },
        {
          "output_type": "display_data",
          "data": {
            "text/plain": [
              "<Figure size 432x288 with 1 Axes>"
            ],
            "image/png": "[encoded data removed]"
          },
          "metadata": {
            "needs_background": "light"
          }
        }
      ]
    },
    {
      "cell_type": "code",
      "source": [
        "results=model.evaluate(x_test,y_test)"
      ],
      "metadata": {
        "colab": {
          "base_uri": "https://localhost:8080/"
        },
        "id": "wjubkTaiz4sL",
        "outputId": "40764e2d-2231-4a52-ec04-9cc73a3117a2"
      },
      "execution_count": 11,
      "outputs": [
        {
          "output_type": "stream",
          "name": "stdout",
          "text": [
            "782/782 [==============================] - 2s 2ms/step - loss: 0.3176 - accuracy: 0.8728\n"
          ]
        }
      ]
    },
    {
      "cell_type": "code",
      "source": [
        "from keras.layers.core.activation import Activation\n",
        "from keras import models\n",
        "from keras import layers\n",
        "model= models.Sequential()\n",
        "model.add(layers.Dense(32,activation='relu',input_shape=(10000,)))\n",
        "model.add(layers.Dense(32,activation='relu'))\n",
        "model.add(layers.Dense(1,activation='sigmoid'))\n",
        "model.compile(optimizer='rmsprop',loss='binary_crossentropy',metrics=['accuracy'])\n",
        "#model.fit(x_ptrain,y_ptrain,batch_size=512,epochs=10,validation_data=(x_val,y_val))\n",
        "history=model.fit(x_train,y_train,batch_size=512,epochs=10,validation_split=0.2)\n",
        "history_dict = history.history\n",
        "history_dict.keys()\n",
        "import matplotlib.pyplot as plt\n",
        "\n",
        "acc = history.history['accuracy']\n",
        "val_acc = history.history['val_accuracy']\n",
        "loss = history.history['loss']\n",
        "val_loss = history.history['val_loss']\n",
        "\n",
        "epochs = range(1, len(acc) + 1)\n",
        "\n",
        "# \"bo\" is for \"blue dot\"\n",
        "plt.plot(epochs, loss, 'bo', label='Training loss')\n",
        "# b is for \"solid blue line\"\n",
        "plt.plot(epochs, val_loss, 'b', label='Validation loss')\n",
        "plt.title('Training and validation loss')\n",
        "plt.xlabel('Epochs')\n",
        "plt.ylabel('Loss')\n",
        "plt.legend()\n",
        "\n",
        "plt.show()"
      ],
      "metadata": {
        "colab": {
          "base_uri": "https://localhost:8080/",
          "height": 662
        },
        "id": "e7sAkXXG0vmG",
        "outputId": "b6b6f275-51c2-41b4-8be7-ae5c60d6349e"
      },
      "execution_count": 13,
      "outputs": [
        {
          "output_type": "stream",
          "name": "stdout",
          "text": [
            "Epoch 1/10\n",
            "40/40 [==============================] - 2s 41ms/step - loss: 0.4475 - accuracy: 0.8028 - val_loss: 0.3131 - val_accuracy: 0.8840\n",
            "Epoch 2/10\n",
            "40/40 [==============================] - 1s 34ms/step - loss: 0.2493 - accuracy: 0.9079 - val_loss: 0.2773 - val_accuracy: 0.8896\n",
            "Epoch 3/10\n",
            "40/40 [==============================] - 1s 34ms/step - loss: 0.1878 - accuracy: 0.9335 - val_loss: 0.3025 - val_accuracy: 0.8840\n",
            "Epoch 4/10\n",
            "40/40 [==============================] - 1s 33ms/step - loss: 0.1559 - accuracy: 0.9434 - val_loss: 0.3339 - val_accuracy: 0.8786\n",
            "Epoch 5/10\n",
            "40/40 [==============================] - 1s 34ms/step - loss: 0.1316 - accuracy: 0.9526 - val_loss: 0.3120 - val_accuracy: 0.8844\n",
            "Epoch 6/10\n",
            "40/40 [==============================] - 1s 33ms/step - loss: 0.1087 - accuracy: 0.9614 - val_loss: 0.3913 - val_accuracy: 0.8694\n",
            "Epoch 7/10\n",
            "40/40 [==============================] - 1s 34ms/step - loss: 0.0924 - accuracy: 0.9669 - val_loss: 0.4344 - val_accuracy: 0.8682\n",
            "Epoch 8/10\n",
            "40/40 [==============================] - 1s 34ms/step - loss: 0.0760 - accuracy: 0.9752 - val_loss: 0.3908 - val_accuracy: 0.8824\n",
            "Epoch 9/10\n",
            "40/40 [==============================] - 1s 33ms/step - loss: 0.0664 - accuracy: 0.9783 - val_loss: 0.4412 - val_accuracy: 0.8742\n",
            "Epoch 10/10\n",
            "40/40 [==============================] - 1s 34ms/step - loss: 0.0543 - accuracy: 0.9820 - val_loss: 0.4562 - val_accuracy: 0.8786\n"
          ]
        },
        {
          "output_type": "display_data",
          "data": {
            "text/plain": [
              "<Figure size 432x288 with 1 Axes>"
            ],
            "image/png": "[encoded data removed]"
          },
          "metadata": {
            "needs_background": "light"
          }
        }
      ]
    },
    {
      "cell_type": "code",
      "source": [
        "results=model.evaluate(x_test,y_test)"
      ],
      "metadata": {
        "colab": {
          "base_uri": "https://localhost:8080/"
        },
        "id": "TS02vqka1IQF",
        "outputId": "7b036396-6910-436f-bd74-e9e343400c97"
      },
      "execution_count": 15,
      "outputs": [
        {
          "output_type": "stream",
          "name": "stdout",
          "text": [
            "782/782 [==============================] - 2s 3ms/step - loss: 0.4950 - accuracy: 0.8621\n"
          ]
        }
      ]
    },
    {
      "cell_type": "code",
      "source": [
        "from keras.layers.core.activation import Activation\n",
        "from keras import models\n",
        "from keras import layers\n",
        "model= models.Sequential()\n",
        "model.add(layers.Dense(32,activation='relu',input_shape=(10000,)))\n",
        "model.add(layers.Dense(32,activation='relu'))\n",
        "model.add(layers.Dense(1,activation='sigmoid'))\n",
        "model.compile(optimizer='rmsprop',loss='binary_crossentropy',metrics=['accuracy'])\n",
        "#model.fit(x_ptrain,y_ptrain,batch_size=512,epochs=10,validation_data=(x_val,y_val))\n",
        "history=model.fit(x_train,y_train,batch_size=512,epochs=2,validation_split=0.2)\n",
        "history_dict = history.history\n",
        "history_dict.keys()\n",
        "import matplotlib.pyplot as plt\n",
        "\n",
        "acc = history.history['accuracy']\n",
        "val_acc = history.history['val_accuracy']\n",
        "loss = history.history['loss']\n",
        "val_loss = history.history['val_loss']\n",
        "\n",
        "epochs = range(1, len(acc) + 1)\n",
        "\n",
        "# \"bo\" is for \"blue dot\"\n",
        "plt.plot(epochs, loss, 'bo', label='Training loss')\n",
        "# b is for \"solid blue line\"\n",
        "plt.plot(epochs, val_loss, 'b', label='Validation loss')\n",
        "plt.title('Training and validation loss')\n",
        "plt.xlabel('Epochs')\n",
        "plt.ylabel('Loss')\n",
        "plt.legend()\n",
        "\n",
        "plt.show()"
      ],
      "metadata": {
        "colab": {
          "base_uri": "https://localhost:8080/",
          "height": 368
        },
        "id": "FznoUS8M1ONZ",
        "outputId": "97e8b97f-27d9-4cc2-adef-ef7377b3e90c"
      },
      "execution_count": 16,
      "outputs": [
        {
          "output_type": "stream",
          "name": "stdout",
          "text": [
            "Epoch 1/2\n",
            "40/40 [==============================] - 2s 40ms/step - loss: 0.4649 - accuracy: 0.8056 - val_loss: 0.3200 - val_accuracy: 0.8878\n",
            "Epoch 2/2\n",
            "40/40 [==============================] - 1s 33ms/step - loss: 0.2565 - accuracy: 0.9075 - val_loss: 0.3565 - val_accuracy: 0.8540\n"
          ]
        },
        {
          "output_type": "display_data",
          "data": {
            "text/plain": [
              "<Figure size 432x288 with 1 Axes>"
            ],
            "image/png": "[encoded data removed]"
          },
          "metadata": {
            "needs_background": "light"
          }
        }
      ]
    },
    {
      "cell_type": "code",
      "source": [
        "results=model.evaluate(x_test,y_test)"
      ],
      "metadata": {
        "colab": {
          "base_uri": "https://localhost:8080/"
        },
        "id": "94ugvfP81W0j",
        "outputId": "9bfbfd45-70e3-4ec1-eb47-51955aa06ae5"
      },
      "execution_count": 17,
      "outputs": [
        {
          "output_type": "stream",
          "name": "stdout",
          "text": [
            "782/782 [==============================] - 2s 2ms/step - loss: 0.3565 - accuracy: 0.8481\n"
          ]
        }
      ]
    },
    {
      "cell_type": "code",
      "source": [
        "from keras.layers.core.activation import Activation\n",
        "from keras import models\n",
        "from keras import layers\n",
        "model= models.Sequential()\n",
        "model.add(layers.Dense(16,activation='tanh',input_shape=(10000,)))\n",
        "model.add(layers.Dense(16,activation='tanh'))\n",
        "model.add(layers.Dense(1,activation='sigmoid'))\n",
        "model.compile(optimizer='rmsprop',loss='binary_crossentropy',metrics=['accuracy'])\n",
        "#model.fit(x_ptrain,y_ptrain,batch_size=512,epochs=10,validation_data=(x_val,y_val))\n",
        "history=model.fit(x_train,y_train,batch_size=512,epochs=3,validation_split=0.2)\n",
        "history_dict = history.history\n",
        "history_dict.keys()\n",
        "import matplotlib.pyplot as plt\n",
        "\n",
        "acc = history.history['accuracy']\n",
        "val_acc = history.history['val_accuracy']\n",
        "loss = history.history['loss']\n",
        "val_loss = history.history['val_loss']\n",
        "\n",
        "epochs = range(1, len(acc) + 1)\n",
        "\n",
        "# \"bo\" is for \"blue dot\"\n",
        "plt.plot(epochs, loss, 'bo', label='Training loss')\n",
        "# b is for \"solid blue line\"\n",
        "plt.plot(epochs, val_loss, 'b', label='Validation loss')\n",
        "plt.title('Training and validation loss')\n",
        "plt.xlabel('Epochs')\n",
        "plt.ylabel('Loss')\n",
        "plt.legend()\n",
        "\n",
        "plt.show()"
      ],
      "metadata": {
        "colab": {
          "base_uri": "https://localhost:8080/",
          "height": 589
        },
        "id": "_0eSnymW1e2q",
        "outputId": "0e1e7c90-4429-4d02-e160-e8fe91046ef1"
      },
      "execution_count": 19,
      "outputs": [
        {
          "output_type": "stream",
          "name": "stdout",
          "text": [
            "Epoch 1/8\n",
            "40/40 [==============================] - 2s 35ms/step - loss: 0.4484 - accuracy: 0.8127 - val_loss: 0.3274 - val_accuracy: 0.8812\n",
            "Epoch 2/8\n",
            "40/40 [==============================] - 1s 29ms/step - loss: 0.2517 - accuracy: 0.9129 - val_loss: 0.3358 - val_accuracy: 0.8612\n",
            "Epoch 3/8\n",
            "40/40 [==============================] - 1s 29ms/step - loss: 0.1861 - accuracy: 0.9337 - val_loss: 0.2679 - val_accuracy: 0.8936\n",
            "Epoch 4/8\n",
            "40/40 [==============================] - 1s 29ms/step - loss: 0.1460 - accuracy: 0.9487 - val_loss: 0.3010 - val_accuracy: 0.8870\n",
            "Epoch 5/8\n",
            "40/40 [==============================] - 1s 29ms/step - loss: 0.1214 - accuracy: 0.9589 - val_loss: 0.3180 - val_accuracy: 0.8892\n",
            "Epoch 6/8\n",
            "40/40 [==============================] - 1s 30ms/step - loss: 0.1018 - accuracy: 0.9661 - val_loss: 0.3506 - val_accuracy: 0.8838\n",
            "Epoch 7/8\n",
            "40/40 [==============================] - 1s 30ms/step - loss: 0.0855 - accuracy: 0.9712 - val_loss: 0.4014 - val_accuracy: 0.8760\n",
            "Epoch 8/8\n",
            "40/40 [==============================] - 1s 30ms/step - loss: 0.0744 - accuracy: 0.9755 - val_loss: 0.4380 - val_accuracy: 0.8754\n"
          ]
        },
        {
          "output_type": "display_data",
          "data": {
            "text/plain": [
              "<Figure size 432x288 with 1 Axes>"
            ],
            "image/png": "[encoded data removed]"
          },
          "metadata": {
            "needs_background": "light"
          }
        }
      ]
    },
    {
      "cell_type": "code",
      "source": [
        "results=model.evaluate(x_test,y_test)"
      ],
      "metadata": {
        "colab": {
          "base_uri": "https://localhost:8080/"
        },
        "id": "Ps-peV1213uy",
        "outputId": "788aa6bb-9b55-4f3f-e96e-aa15c3bbcfef"
      },
      "execution_count": 20,
      "outputs": [
        {
          "output_type": "stream",
          "name": "stdout",
          "text": [
            "782/782 [==============================] - 2s 2ms/step - loss: 0.4754 - accuracy: 0.8622\n"
          ]
        }
      ]
    },
    {
      "cell_type": "code",
      "source": [
        "from keras.layers.core.activation import Activation\n",
        "from keras import models\n",
        "from keras import layers\n",
        "model= models.Sequential()\n",
        "model.add(layers.Dense(16,activation='relu',input_shape=(10000,)))\n",
        "model.add(layers.Dense(16,activation='relu'))\n",
        "model.add(layers.Dense(1,activation='sigmoid'))\n",
        "model.compile(optimizer='rmsprop',loss='binary_crossentropy',metrics=['accuracy'])\n",
        "#model.fit(x_ptrain,y_ptrain,batch_size=512,epochs=10,validation_data=(x_val,y_val))\n",
        "history=model.fit(x_train,y_train,batch_size=512,epochs=3,validation_split=0.4)\n",
        "history_dict = history.history\n",
        "history_dict.keys()\n",
        "import matplotlib.pyplot as plt\n",
        "\n",
        "acc = history.history['accuracy']\n",
        "val_acc = history.history['val_accuracy']\n",
        "loss = history.history['loss']\n",
        "val_loss = history.history['val_loss']\n",
        "\n",
        "epochs = range(1, len(acc) + 1)\n",
        "\n",
        "# \"bo\" is for \"blue dot\"\n",
        "plt.plot(epochs, loss, 'bo', label='Training loss')\n",
        "# b is for \"solid blue line\"\n",
        "plt.plot(epochs, val_loss, 'b', label='Validation loss')\n",
        "plt.title('Training and validation loss')\n",
        "plt.xlabel('Epochs')\n",
        "plt.ylabel('Loss')\n",
        "plt.legend()\n",
        "\n",
        "plt.show()"
      ],
      "metadata": {
        "colab": {
          "base_uri": "https://localhost:8080/",
          "height": 405
        },
        "id": "adPbbx-D2G7R",
        "outputId": "a8d241ab-ef89-40ef-c45b-d353ba51b6bb"
      },
      "execution_count": 14,
      "outputs": [
        {
          "output_type": "stream",
          "name": "stdout",
          "text": [
            "Epoch 1/3\n",
            "30/30 [==============================] - 2s 47ms/step - loss: 0.5372 - accuracy: 0.7771 - val_loss: 0.4020 - val_accuracy: 0.8601\n",
            "Epoch 2/3\n",
            "30/30 [==============================] - 1s 34ms/step - loss: 0.3159 - accuracy: 0.9006 - val_loss: 0.3101 - val_accuracy: 0.8841\n",
            "Epoch 3/3\n",
            "30/30 [==============================] - 1s 37ms/step - loss: 0.2289 - accuracy: 0.9257 - val_loss: 0.2804 - val_accuracy: 0.8911\n"
          ]
        },
        {
          "output_type": "display_data",
          "data": {
            "text/plain": [
              "<Figure size 432x288 with 1 Axes>"
            ],
            "image/png": "[encoded data removed]"
          },
          "metadata": {
            "needs_background": "light"
          }
        }
      ]
    },
    {
      "cell_type": "code",
      "source": [
        "results=model.evaluate(x_test,y_test)"
      ],
      "metadata": {
        "colab": {
          "base_uri": "https://localhost:8080/"
        },
        "id": "UDWcJJlI2lBO",
        "outputId": "528ec91c-5f0a-4c40-f4d3-d0c68472dbc9"
      },
      "execution_count": 15,
      "outputs": [
        {
          "output_type": "stream",
          "name": "stdout",
          "text": [
            "782/782 [==============================] - 2s 2ms/step - loss: 0.3017 - accuracy: 0.8822\n"
          ]
        }
      ]
    },
    {
      "cell_type": "code",
      "source": [
        "from keras.layers.core.activation import Activation\n",
        "from keras import models\n",
        "from keras import layers\n",
        "model= models.Sequential()\n",
        "model.add(layers.Dense(64,activation='relu',input_shape=(10000,)))\n",
        "model.add(layers.Dense(32,activation='tanh'))\n",
        "model.add(layers.Dense(16,activation='relu'))\n",
        "model.add(layers.Dense(1,activation='sigmoid'))\n",
        "model.compile(optimizer='rmsprop',loss='binary_crossentropy',metrics=['accuracy'])\n",
        "#model.fit(x_ptrain,y_ptrain,batch_size=512,epochs=10,validation_data=(x_val,y_val))\n",
        "history=model.fit(x_train,y_train,batch_size=512,epochs=2,validation_split=0.3)\n",
        "history_dict = history.history\n",
        "history_dict.keys()\n",
        "import matplotlib.pyplot as plt\n",
        "\n",
        "acc = history.history['accuracy']\n",
        "val_acc = history.history['val_accuracy']\n",
        "loss = history.history['loss']\n",
        "val_loss = history.history['val_loss']\n",
        "\n",
        "epochs = range(1, len(acc) + 1)\n",
        "\n",
        "# \"bo\" is for \"blue dot\"\n",
        "plt.plot(epochs, loss, 'bo', label='Training loss')\n",
        "# b is for \"solid blue line\"\n",
        "plt.plot(epochs, val_loss, 'b', label='Validation loss')\n",
        "plt.title('Training and validation loss')\n",
        "plt.xlabel('Epochs')\n",
        "plt.ylabel('Loss')\n",
        "plt.legend()\n",
        "\n",
        "plt.show()"
      ],
      "metadata": {
        "colab": {
          "base_uri": "https://localhost:8080/",
          "height": 368
        },
        "id": "tAhOHAhe3b4n",
        "outputId": "e3510334-dda3-4e3e-f176-9c5970927888"
      },
      "execution_count": 25,
      "outputs": [
        {
          "output_type": "stream",
          "name": "stdout",
          "text": [
            "Epoch 1/2\n",
            "35/35 [==============================] - 3s 57ms/step - loss: 0.4610 - accuracy: 0.7989 - val_loss: 0.3007 - val_accuracy: 0.8865\n",
            "Epoch 2/2\n",
            "35/35 [==============================] - 2s 49ms/step - loss: 0.2454 - accuracy: 0.9073 - val_loss: 0.3578 - val_accuracy: 0.8549\n"
          ]
        },
        {
          "output_type": "display_data",
          "data": {
            "text/plain": [
              "<Figure size 432x288 with 1 Axes>"
            ],
            "image/png": "[encoded data removed]"
          },
          "metadata": {
            "needs_background": "light"
          }
        }
      ]
    },
    {
      "cell_type": "code",
      "source": [
        "results=model.evaluate(x_test,y_test)"
      ],
      "metadata": {
        "colab": {
          "base_uri": "https://localhost:8080/"
        },
        "id": "IMDIrU3R3wST",
        "outputId": "4b8d1a66-938e-4f63-dcf4-02ec425f5399"
      },
      "execution_count": 26,
      "outputs": [
        {
          "output_type": "stream",
          "name": "stdout",
          "text": [
            "782/782 [==============================] - 2s 3ms/step - loss: 0.3687 - accuracy: 0.8461\n"
          ]
        }
      ]
    }
  ]
}