{
  "nbformat": 4,
  "nbformat_minor": 0,
  "metadata": {
    "colab": {
      "name": "BloodMNISTDNN",
      "provenance": [],
      "collapsed_sections": [],
      "include_colab_link": true
    },
    "kernelspec": {
      "name": "python3",
      "display_name": "Python 3"
    }
  },
  "cells": [
    {
      "cell_type": "markdown",
      "metadata": {
        "id": "view-in-github",
        "colab_type": "text"
      },
      "source": [
        "<a href=\"https://colab.research.google.com/github/darkxaze/Machinelearnning-courseworkprojects/blob/main/BloodMNISTDNN.ipynb\" target=\"_parent\"><img src=\"https://colab.research.google.com/assets/colab-badge.svg\" alt=\"Open In Colab\"/></a>"
      ]
    },
    {
      "cell_type": "markdown",
      "metadata": {
        "id": "JKbgFz4AhYvK"
      },
      "source": [
        "# Deep Learning Medical Image Analysis Example\n",
        "A simple convolutional neural network model trained using a simple pathology image dataset.\n",
        "\n",
        "To use GPU acceleration make sure to change your runtime type in Google Colab to GPU."
      ]
    },
    {
      "cell_type": "code",
      "source": [
        ""
      ],
      "metadata": {
        "id": "19VI6URQq5T4"
      },
      "execution_count": null,
      "outputs": []
    },
    {
      "cell_type": "markdown",
      "metadata": {
        "id": "LICWjsiH5Ysh"
      },
      "source": [
        "## Python Imports\n",
        "This section will load the necessary python packages to the instance."
      ]
    },
    {
      "cell_type": "code",
      "metadata": {
        "id": "4r14DjPX5XAT"
      },
      "source": [
        "# Built-in Imports\n",
        "import random # for randomization"
      ],
      "execution_count": 1,
      "outputs": []
    },
    {
      "cell_type": "code",
      "metadata": {
        "id": "_9akxJOL576W"
      },
      "source": [
        "# Library Imports\n",
        "import numpy as np\n",
        "import pandas as pd\n",
        "import matplotlib.pyplot as plt\n",
        "from sklearn.metrics import classification_report, confusion_matrix, ConfusionMatrixDisplay"
      ],
      "execution_count": 2,
      "outputs": []
    },
    {
      "cell_type": "code",
      "metadata": {
        "id": "PPushucynmye"
      },
      "source": [
        "# Keras Imports\n",
        "from tensorflow.keras import layers\n",
        "from tensorflow.keras.models import Model\n",
        "from tensorflow.keras.optimizers import SGD\n",
        "from tensorflow.keras.utils import get_file, to_categorical\n",
        "from tensorflow.keras.preprocessing.image import ImageDataGenerator"
      ],
      "execution_count": 3,
      "outputs": []
    },
    {
      "cell_type": "markdown",
      "metadata": {
        "id": "UfG7LUYZz6I2"
      },
      "source": [
        "## Dataset Downloader\n",
        "This section will download the selected [MedMNIST](https://medmnist.github.io/) dataset as a NumPy array object to your Google Colab instance. \n",
        "\n",
        "To change the dataset that will download just change the variable DATA_NAME to desired dataset name.\n",
        "\n",
        "All storage on a Google Colab instance is deleted when the instance ends so the dataset will need to be redownloaded each time an instance is created (Don't worry this usually takes about 20 seconds).\n",
        "\n",
        "The dataset used in the current model is called Bloodmnist. All images are RGB and have 3 channel. The images are standaized and are 28x28 in size."
      ]
    },
    {
      "cell_type": "code",
      "metadata": {
        "id": "WFsupyTxnHgN"
      },
      "source": [
        "DATA_NAME = \"BloodMNIST\""
      ],
      "execution_count": 4,
      "outputs": []
    },
    {
      "cell_type": "code",
      "metadata": {
        "colab": {
          "base_uri": "https://localhost:8080/"
        },
        "id": "vrpiQg5VkbsL",
        "outputId": "5a6fff29-f2e1-4883-f3cf-68487f72360f"
      },
      "source": [
        "!wget https://raw.githubusercontent.com/MedMNIST/MedMNIST/main/medmnist/info.py\n",
        "from info import INFO\n",
        "data = INFO[DATA_NAME.lower()]"
      ],
      "execution_count": 5,
      "outputs": [
        {
          "output_type": "stream",
          "name": "stdout",
          "text": [
            "--2022-04-08 15:11:30--  https://raw.githubusercontent.com/MedMNIST/MedMNIST/main/medmnist/info.py\n",
            "Resolving raw.githubusercontent.com (raw.githubusercontent.com)... 185.199.110.133, 185.199.108.133, 185.199.109.133, ...\n",
            "Connecting to raw.githubusercontent.com (raw.githubusercontent.com)|185.199.110.133|:443... connected.\n",
            "HTTP request sent, awaiting response... 200 OK\n",
            "Length: 22843 (22K) [text/plain]\n",
            "Saving to: ‘info.py’\n",
            "\n",
            "\rinfo.py               0%[                    ]       0  --.-KB/s               \rinfo.py             100%[===================>]  22.31K  --.-KB/s    in 0.001s  \n",
            "\n",
            "2022-04-08 15:11:30 (15.3 MB/s) - ‘info.py’ saved [22843/22843]\n",
            "\n"
          ]
        }
      ]
    },
    {
      "cell_type": "code",
      "metadata": {
        "id": "nbCWsdDP0ECH",
        "colab": {
          "base_uri": "https://localhost:8080/"
        },
        "outputId": "6d30deec-ca9f-4d40-b993-6d34d86ccca2"
      },
      "source": [
        "# Downloads the dataset file hosted on Zenodo.\n",
        "file_path = get_file(fname=\"dataset.npz\", \n",
        "                     origin=data[\"url\"], \n",
        "                     md5_hash=data[\"MD5\"])"
      ],
      "execution_count": 6,
      "outputs": [
        {
          "output_type": "stream",
          "name": "stdout",
          "text": [
            "Downloading data from https://zenodo.org/record/5208230/files/bloodmnist.npz?download=1\n",
            "35463168/35461855 [==============================] - 12s 0us/step\n",
            "35471360/35461855 [==============================] - 12s 0us/step\n"
          ]
        }
      ]
    },
    {
      "cell_type": "code",
      "metadata": {
        "id": "GFPDZJZJ6o_T"
      },
      "source": [
        "# Loads the downloaded NumPy object.\n",
        "dataset = np.load(file_path)\n",
        "\n",
        "# Gets the training images and labels from the NumPy object.\n",
        "train_x = dataset[\"train_images\"]\n",
        "train_y = dataset[\"train_labels\"]\n",
        "# normalize dataset\n",
        "train_x = train_x.astype('float32') / 255\n",
        "# Gets the validation images and labels from the NumPy object.\n",
        "val_x = dataset[\"val_images\"]\n",
        "val_y = dataset[\"val_labels\"]\n",
        "# normalize dataset\n",
        "val_x = val_x.astype('float32') / 255\n",
        "# Gets the testing images and labels from the NumPy object.\n",
        "test_x = dataset[\"test_images\"]\n",
        "test_y = dataset[\"test_labels\"]\n",
        "# normalize dataset\n",
        "test_x = test_x.astype('float32') / 255"
      ],
      "execution_count": 7,
      "outputs": []
    },
    {
      "cell_type": "markdown",
      "source": [
        "## Data Exploration\n",
        "In this section we have a look at our data, their distributions to see if it is ready to be used within our machine learning algorithm."
      ],
      "metadata": {
        "id": "unsr-i8ZhlPl"
      }
    },
    {
      "cell_type": "code",
      "metadata": {
        "colab": {
          "base_uri": "https://localhost:8080/"
        },
        "id": "gMAxCIw3-JOW",
        "outputId": "15f7ad99-399b-43e9-f674-3463ef985116"
      },
      "source": [
        "# Declares a list of labels.\n",
        "labels = list(data[\"label\"].values()) + [\"total\"]\n",
        "\n",
        "# Gets the counts for each label in each of our datasets.\n",
        "_, train_counts = np.unique(train_y, return_counts=True)\n",
        "_, val_counts = np.unique(val_y, return_counts=True)\n",
        "_, test_counts = np.unique(test_y, return_counts=True)\n",
        "targetnames=list(data[\"label\"].values())\n",
        "# Prints the counts for each label from each dataset.\n",
        "print(pd.DataFrame(list(zip(np.append(train_counts, [sum(train_counts)]), \n",
        "                            np.append(val_counts, [sum(val_counts)]), \n",
        "                            np.append(test_counts, [sum(test_counts)]))), \n",
        "                   index=labels, columns=[\"Train\", \"Val\", \"Test\"]))"
      ],
      "execution_count": 8,
      "outputs": [
        {
          "output_type": "stream",
          "name": "stdout",
          "text": [
            "                                                    Train   Val  Test\n",
            "basophil                                              852   122   244\n",
            "eosinophil                                           2181   312   624\n",
            "erythroblast                                         1085   155   311\n",
            "immature granulocytes(myelocytes, metamyelocyte...   2026   290   579\n",
            "lymphocyte                                            849   122   243\n",
            "monocyte                                              993   143   284\n",
            "neutrophil                                           2330   333   666\n",
            "platelet                                             1643   235   470\n",
            "total                                               11959  1712  3421\n"
          ]
        }
      ]
    },
    {
      "cell_type": "code",
      "metadata": {
        "colab": {
          "base_uri": "https://localhost:8080/",
          "height": 300
        },
        "id": "AQ4Qba5sdt_Q",
        "outputId": "50f4fd6b-919e-4707-ac7b-65d46c400162"
      },
      "source": [
        "# Displays a random image from training dataset.\n",
        "index = random.randint(0, len(train_x))\n",
        "print(f\"{index}: {labels[train_y[index][0]]}\")\n",
        "plt.imshow(train_x[random.randint(0, len(train_x))])"
      ],
      "execution_count": 9,
      "outputs": [
        {
          "output_type": "stream",
          "name": "stdout",
          "text": [
            "3604: platelet\n"
          ]
        },
        {
          "output_type": "execute_result",
          "data": {
            "text/plain": [
              "<matplotlib.image.AxesImage at 0x7fcb73783b50>"
            ]
          },
          "metadata": {},
          "execution_count": 9
        },
        {
          "output_type": "display_data",
          "data": {
            "text/plain": [
              "<Figure size 432x288 with 1 Axes>"
            ],
            "image/png": "[encoded data removed]"
          },
          "metadata": {
            "needs_background": "light"
          }
        }
      ]
    },
    {
      "cell_type": "markdown",
      "metadata": {
        "id": "61PPEn8Dhp_v"
      },
      "source": [
        "## Data Processing\n",
        "In this section we will create a data loader for algorithm that will dynamiclly load and augment the data when needed.\n",
        "\n",
        "Data processing is applied to the dataset to auguement data when the size of the data set is small. The advantages of data augmentation are as follows:\n",
        "\n",
        "  \n",
        "\n",
        "*   It reduces the cost of collection of data.\n",
        "*   It reduces data overfitting.\n",
        "*   It creates variability and flexibility in data models.\n",
        "\n",
        "\n",
        "\n",
        "In the model applied we implement horizontal flipping,vertical flipping, \n",
        "featurewise Pixel Normalization: scale pixel values to the range 0-1.\n",
        "featurewise Pixel Centering: scale pixel values to have a zero mean.\n",
        "\n",
        "featurewise here means per dataset\n",
        "\n",
        "The fit function is then invoked to calculate the image statistics in the data generator function and store the value in memory\n",
        "    \n"
      ]
    },
    {
      "cell_type": "code",
      "metadata": {
        "id": "eKrtg2heh4tF"
      },
      "source": [
        "# Defines the data generator that will be used to augment the images as they are loaded.\n",
        "data_generator = ImageDataGenerator(featurewise_center=True,\n",
        "                                    featurewise_std_normalization=True,\n",
        "                                    horizontal_flip=True, \n",
        "                                    vertical_flip=True)"
      ],
      "execution_count": 10,
      "outputs": []
    },
    {
      "cell_type": "code",
      "metadata": {
        "id": "d5TzJV-O3nD7"
      },
      "source": [
        "data_generator.fit(np.append(train_x, val_x, 0))"
      ],
      "execution_count": 11,
      "outputs": []
    },
    {
      "cell_type": "markdown",
      "metadata": {
        "id": "ptmuEdE1p9MU"
      },
      "source": [
        "## Model Definition\n",
        "In this section we will define the neural network arcitecture.\n",
        "The model choose for this exercise is a densely connected neural network. We inirailize the input layer by flatterning the 3 channel image to input all the features. Then we create a dense hidden network with 7 neurons and activation function Relu. Finally we create the output layer with activation functin softmax to classify labels. The model was created in such way to equate the number of parameters in the previous exercise. "
      ]
    },
    {
      "cell_type": "code",
      "metadata": {
        "id": "Ud-jcR_ZqE0V",
        "colab": {
          "base_uri": "https://localhost:8080/"
        },
        "outputId": "4b02d53e-4b9e-4d4d-d2d9-f5860adce8e8"
      },
      "source": [
        "from keras import models\n",
        "from keras import layers\n",
        "# Define the input layer of the model with the size of an image.\n",
        "model = models.Sequential([layers.Flatten(input_shape = train_x[0].shape),\n",
        "# define a densely connected hiddden layer with 7 nodes and activation function relu\n",
        "layers.Dense(7, activation = 'relu' ),                          \n",
        "# Defines the output layer of the model a number of output nodes equal to the number of classes.\n",
        "layers.Dense(len(np.unique(train_y)), activation = 'softmax' )])\n",
        "model.summary()"
      ],
      "execution_count": 12,
      "outputs": [
        {
          "output_type": "stream",
          "name": "stdout",
          "text": [
            "Model: \"sequential\"\n",
            "_________________________________________________________________\n",
            " Layer (type)                Output Shape              Param #   \n",
            "=================================================================\n",
            " flatten (Flatten)           (None, 2352)              0         \n",
            "                                                                 \n",
            " dense (Dense)               (None, 7)                 16471     \n",
            "                                                                 \n",
            " dense_1 (Dense)             (None, 8)                 64        \n",
            "                                                                 \n",
            "=================================================================\n",
            "Total params: 16,535\n",
            "Trainable params: 16,535\n",
            "Non-trainable params: 0\n",
            "_________________________________________________________________\n"
          ]
        }
      ]
    },
    {
      "cell_type": "markdown",
      "metadata": {
        "id": "SdMcAtCztO0b"
      },
      "source": [
        "## Model Training\n",
        "This is where we define the training options and then train the model.\n",
        "\n",
        "\n",
        "*   Stochastic gradient descent is an iterative learning algorithm that uses a training dataset to update a model.\n",
        "\n",
        "*   The batch size is a hyperparameter of gradient descent that controls the number of training samples to work through before the model’s internal parameters are updated.\n",
        "*   The number of epochs is a hyperparameter of gradient descent that controls the number of complete passes through the training dataset.\n",
        "\n",
        "*   learning rate is a hyperparameter that controls how much to change the model in response to the estimated error each time the model weights are updated.\n",
        "\n",
        "\n",
        "*   Loss functions measure how far an estimated value is from its true value\n",
        "\n",
        "*   Shuffle is set to false so that no shuffling of data takes places when augumenting data to preserve index\n",
        "\n",
        "\n",
        "\n",
        "\n",
        "\n",
        "\n",
        "\n"
      ]
    },
    {
      "cell_type": "code",
      "metadata": {
        "id": "bEypwRiMuPCn"
      },
      "source": [
        "# Defines the parameters used during training.\n",
        "BATCH_SIZE = 64\n",
        "NUM_EPOCHS = 10\n",
        "LEARNING_RATE = 0.001"
      ],
      "execution_count": 13,
      "outputs": []
    },
    {
      "cell_type": "code",
      "metadata": {
        "id": "Qb9WcL7ZtPZE"
      },
      "source": [
        "# Defines the optimiser used to adjust the model weights and compiles the model.\n",
        "optimiser = SGD(learning_rate=LEARNING_RATE)\n",
        "model.compile(optimizer=optimiser, loss=\"categorical_crossentropy\", metrics=[\"accuracy\"])"
      ],
      "execution_count": 14,
      "outputs": []
    },
    {
      "cell_type": "code",
      "metadata": {
        "colab": {
          "base_uri": "https://localhost:8080/"
        },
        "id": "SOy4ArHyvIhR",
        "outputId": "226be735-fa03-494e-aa15-6efcd26e7ee5"
      },
      "source": [
        "# We use the data generator to pass the training and validation data to the model to train it.\n",
        "history = model.fit(data_generator.flow(train_x, to_categorical(train_y), batch_size=BATCH_SIZE,shuffle=False), \n",
        "                    steps_per_epoch=len(train_x) / BATCH_SIZE,\n",
        "                    validation_data=data_generator.flow(val_x, to_categorical(val_y), batch_size=BATCH_SIZE,shuffle=False),\n",
        "                    validation_steps=len(val_x) / BATCH_SIZE,\n",
        "                    epochs=NUM_EPOCHS)\n",
        "#history = model.fit(train_x, to_categorical(train_y),batch_size = BATCH_SIZE,steps_per_epoch=len(train_x) / BATCH_SIZE,validation_data = (val_x, to_categorical(val_y)),epochs=NUM_EPOCHS,validation_steps=len(val_x) / BATCH_SIZE)"
      ],
      "execution_count": 16,
      "outputs": [
        {
          "output_type": "stream",
          "name": "stdout",
          "text": [
            "Epoch 1/10\n",
            "186/186 [==============================] - 4s 11ms/step - loss: 1.9936 - accuracy: 0.2555 - val_loss: 1.9122 - val_accuracy: 0.3096\n",
            "Epoch 2/10\n",
            "186/186 [==============================] - 2s 10ms/step - loss: 1.8635 - accuracy: 0.3317 - val_loss: 1.8240 - val_accuracy: 0.3440\n",
            "Epoch 3/10\n",
            "186/186 [==============================] - 2s 10ms/step - loss: 1.7852 - accuracy: 0.3565 - val_loss: 1.7560 - val_accuracy: 0.3750\n",
            "Epoch 4/10\n",
            "186/186 [==============================] - 2s 10ms/step - loss: 1.7210 - accuracy: 0.3934 - val_loss: 1.7010 - val_accuracy: 0.4153\n",
            "Epoch 5/10\n",
            "186/186 [==============================] - 2s 9ms/step - loss: 1.6719 - accuracy: 0.4264 - val_loss: 1.6439 - val_accuracy: 0.4498\n",
            "Epoch 6/10\n",
            "186/186 [==============================] - 2s 10ms/step - loss: 1.6211 - accuracy: 0.4493 - val_loss: 1.6062 - val_accuracy: 0.4679\n",
            "Epoch 7/10\n",
            "186/186 [==============================] - 2s 10ms/step - loss: 1.5797 - accuracy: 0.4617 - val_loss: 1.5610 - val_accuracy: 0.4737\n",
            "Epoch 8/10\n",
            "186/186 [==============================] - 2s 10ms/step - loss: 1.5413 - accuracy: 0.4758 - val_loss: 1.5372 - val_accuracy: 0.4796\n",
            "Epoch 9/10\n",
            "186/186 [==============================] - 2s 9ms/step - loss: 1.5073 - accuracy: 0.4837 - val_loss: 1.4915 - val_accuracy: 0.4947\n",
            "Epoch 10/10\n",
            "186/186 [==============================] - 2s 10ms/step - loss: 1.4744 - accuracy: 0.4991 - val_loss: 1.4689 - val_accuracy: 0.5035\n"
          ]
        }
      ]
    },
    {
      "cell_type": "markdown",
      "metadata": {
        "id": "0bw_0oKy4UdI"
      },
      "source": [
        "## Plot Learning Curves\n",
        "This is where we visualise the training of the model."
      ]
    },
    {
      "cell_type": "code",
      "metadata": {
        "colab": {
          "base_uri": "https://localhost:8080/",
          "height": 295
        },
        "id": "8DOxQYV0oDmJ",
        "outputId": "0fb6e4a4-a600-4a17-d4dc-ea77f7395a4d"
      },
      "source": [
        "# Plots the training and validation accuracy over the number of epochs.\n",
        "plt.plot(history.history['accuracy'])\n",
        "plt.plot(history.history['val_accuracy'])\n",
        "plt.title('Model Accuracy')\n",
        "plt.ylabel('Accuracy')\n",
        "plt.xlabel('Epoch')\n",
        "plt.legend(['Train', 'Validation'], loc='lower right')\n",
        "plt.show()"
      ],
      "execution_count": 17,
      "outputs": [
        {
          "output_type": "display_data",
          "data": {
            "text/plain": [
              "<Figure size 432x288 with 1 Axes>"
            ],
            "image/png": "[encoded data removed]"
          },
          "metadata": {
            "needs_background": "light"
          }
        }
      ]
    },
    {
      "cell_type": "code",
      "metadata": {
        "id": "ZSQWVOnY4cdA",
        "colab": {
          "base_uri": "https://localhost:8080/",
          "height": 295
        },
        "outputId": "4dbd1f4b-efe4-4a43-eebe-5c3ddb2d0f99"
      },
      "source": [
        "# Plots the training and validation loss over the number of epochs.\n",
        "plt.plot(history.history['loss'])\n",
        "plt.plot(history.history['val_loss'])\n",
        "plt.title('Model Loss')\n",
        "plt.ylabel('Loss')\n",
        "plt.xlabel('Epoch')\n",
        "plt.legend(['Train', 'Validation'], loc='upper right')\n",
        "plt.show()"
      ],
      "execution_count": 18,
      "outputs": [
        {
          "output_type": "display_data",
          "data": {
            "text/plain": [
              "<Figure size 432x288 with 1 Axes>"
            ],
            "image/png": "[encoded data removed]"
          },
          "metadata": {
            "needs_background": "light"
          }
        }
      ]
    },
    {
      "cell_type": "markdown",
      "source": [
        "## Evaluate Data\n",
        "We evaulate data using the model.evaluate function and passing the test data and the corresponding test labels. we use the model train to predict values based on test data and compare it to test lables to predict accuracy."
      ],
      "metadata": {
        "id": "CG9avJsakGA0"
      }
    },
    {
      "cell_type": "code",
      "source": [
        "model.evaluate(data_generator.flow(test_x, to_categorical(test_y),batch_size=BATCH_SIZE,shuffle=False))"
      ],
      "metadata": {
        "colab": {
          "base_uri": "https://localhost:8080/"
        },
        "id": "6QRVk-t7m4vy",
        "outputId": "a2f2cb85-fcde-4c3a-93e6-a5edaad4e34b"
      },
      "execution_count": 19,
      "outputs": [
        {
          "output_type": "stream",
          "name": "stdout",
          "text": [
            "54/54 [==============================] - 0s 8ms/step - loss: 1.4772 - accuracy: 0.4961\n"
          ]
        },
        {
          "output_type": "execute_result",
          "data": {
            "text/plain": [
              "[1.477217674255371, 0.4960537850856781]"
            ]
          },
          "metadata": {},
          "execution_count": 19
        }
      ]
    },
    {
      "cell_type": "code",
      "source": [
        "# predict values using the augumented test data set\n",
        "ypred=model.predict(data_generator.flow(test_x,batch_size=BATCH_SIZE,shuffle=False))\n",
        "# convert probability distribution to index of the class\n",
        "ypred1 = np.argmax(ypred, 1)\n",
        "# convert to categorical\n",
        "testy1=to_categorical(test_y,num_classes=8)\n",
        "# identify the index of the class\n",
        "testy2= np.argmax(testy1, 1)\n",
        "print(classification_report(testy2, ypred1,target_names=targetnames))"
      ],
      "metadata": {
        "colab": {
          "base_uri": "https://localhost:8080/"
        },
        "id": "9e1kv4DKtsig",
        "outputId": "3b130e36-a9d3-4fb7-f1f4-3c72bfebd4cf"
      },
      "execution_count": 20,
      "outputs": [
        {
          "output_type": "stream",
          "name": "stdout",
          "text": [
            "                                                                     precision    recall  f1-score   support\n",
            "\n",
            "                                                           basophil       0.08      0.00      0.01       244\n",
            "                                                         eosinophil       0.38      0.74      0.50       624\n",
            "                                                       erythroblast       0.48      0.72      0.57       311\n",
            "immature granulocytes(myelocytes, metamyelocytes and promyelocytes)       0.30      0.12      0.18       579\n",
            "                                                         lymphocyte       0.00      0.00      0.00       243\n",
            "                                                           monocyte       0.21      0.05      0.08       284\n",
            "                                                         neutrophil       0.49      0.69      0.57       666\n",
            "                                                           platelet       0.96      0.96      0.96       470\n",
            "\n",
            "                                                           accuracy                           0.49      3421\n",
            "                                                          macro avg       0.36      0.41      0.36      3421\n",
            "                                                       weighted avg       0.41      0.49      0.42      3421\n",
            "\n"
          ]
        }
      ]
    },
    {
      "cell_type": "markdown",
      "source": [
        "##Inference\n",
        "In this exercise we classify an Multi-class(8) dataset with a Densely connected neural network. our model consist of an input layer which takes 28x28x3 as input ,A dense hidden layer with 7 neurons and finaly an output layer. The total number of trainable parameters is 16525. The proposed model has an accuracy of 49% with the augumented test dataset. This in line with the predicted values in the classification report. The testdataset is augumented because we need the test set to be similar to the training set due to image processing like standardization,centering,cropping etc. we can see from the two exercises that convolutionneural network has an accuracy of 68% compared to 49% for the densely connected NN. Some of the reasons for this are,\n",
        "\n",
        "\n",
        "\n",
        "1.   CNN can extract more features for the similar amount of parameters. This allows for better prediction. For example Resnet-50 and and DeepNet201 have 25 and 20 million parameters and are 50 and 201 layers deeps.\n",
        "2.   To match parameters the hidden layer has 7 neurons. From emipirical studies the hidden layer should have the values between input and output layer and if there is only one layer should have the mean of the two layers.\n",
        "\n",
        "F1 score is a combined metric defined as product of precision*recall over the sum of precision and recall. Precision is defined as true positive over sum of true positive and false positive, Recall is definied as the true positive over sum of true positive and false negative. Precision can be seen as a measure of quality, and recall as a measure of quantity. Higher precision means that an algorithm returns more relevant results than irrelevant ones, and high recall means that an algorithm returns most of the relevant results. Our ideal value is getting a 1 on F1 score meaning 1 on both precision as well as recall.\n",
        "From the classification report we can see that platelets has a score of 0.96 compared to 0.98 in CNN. basophil has the lowest F1 score and has a recal of 0.00 down from 0.17 which is terrible. we can see that the CNN network does a better job than the Dense connected layers. \n",
        "\n",
        "from these comparison we can conclude that \n",
        "\n",
        "\n",
        "\n",
        "1.   CNN are computationally efficient\n",
        "2.   CNN can more accurately predict image classification than CNN for the same amount of parameters.\n",
        "\n",
        "\n",
        "\n"
      ],
      "metadata": {
        "id": "nR9VWlMNfN3J"
      }
    }
  ]
}