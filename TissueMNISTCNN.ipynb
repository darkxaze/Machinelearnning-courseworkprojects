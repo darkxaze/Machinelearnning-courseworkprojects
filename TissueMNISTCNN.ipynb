{
  "nbformat": 4,
  "nbformat_minor": 0,
  "metadata": {
    "colab": {
      "name": "TissueMNISTCNN",
      "provenance": [],
      "collapsed_sections": [],
      "include_colab_link": true
    },
    "kernelspec": {
      "name": "python3",
      "display_name": "Python 3"
    },
    "accelerator": "GPU"
  },
  "cells": [
    {
      "cell_type": "markdown",
      "metadata": {
        "id": "view-in-github",
        "colab_type": "text"
      },
      "source": [
        "<a href=\"https://colab.research.google.com/github/darkxaze/Machinelearnning-courseworkprojects/blob/main/TissueMNISTCNN.ipynb\" target=\"_parent\"><img src=\"https://colab.research.google.com/assets/colab-badge.svg\" alt=\"Open In Colab\"/></a>"
      ]
    },
    {
      "cell_type": "markdown",
      "metadata": {
        "id": "JKbgFz4AhYvK"
      },
      "source": [
        "# Deep Learning Medical Image Analysis Example\n",
        "A simple convolutional neural network model trained using a simple pathology image dataset.\n",
        "\n",
        "To use GPU acceleration make sure to change your runtime type in Google Colab to GPU."
      ]
    },
    {
      "cell_type": "markdown",
      "metadata": {
        "id": "LICWjsiH5Ysh"
      },
      "source": [
        "## Python Imports\n",
        "This section will load the necessary python packages to the instance."
      ]
    },
    {
      "cell_type": "code",
      "metadata": {
        "id": "4r14DjPX5XAT"
      },
      "source": [
        "# Built-in Imports\n",
        "import random"
      ],
      "execution_count": null,
      "outputs": []
    },
    {
      "cell_type": "code",
      "metadata": {
        "id": "_9akxJOL576W"
      },
      "source": [
        "# Library Imports\n",
        "import numpy as np\n",
        "import pandas as pd\n",
        "import matplotlib.pyplot as plt\n",
        "from sklearn.metrics import classification_report, confusion_matrix, ConfusionMatrixDisplay"
      ],
      "execution_count": null,
      "outputs": []
    },
    {
      "cell_type": "code",
      "metadata": {
        "id": "PPushucynmye"
      },
      "source": [
        "# Keras Imports\n",
        "from tensorflow.keras import layers\n",
        "from tensorflow.keras.models import Model\n",
        "from tensorflow.keras.optimizers import SGD\n",
        "from tensorflow.keras.utils import get_file, to_categorical\n",
        "from tensorflow.keras.preprocessing.image import ImageDataGenerator"
      ],
      "execution_count": null,
      "outputs": []
    },
    {
      "cell_type": "markdown",
      "metadata": {
        "id": "UfG7LUYZz6I2"
      },
      "source": [
        "## Dataset Downloader\n",
        "This section will download the selected [MedMNIST](https://medmnist.github.io/) dataset as a NumPy array object to your Google Colab instance. \n",
        "\n",
        "To change the dataset that will download just change the variable DATA_NAME to desired dataset name.\n",
        "\n",
        "All storage on a Google Colab instance is deleted when the instance ends so the dataset will need to be redownloaded each time an instance is created (Don't worry this usually takes about 20 seconds)."
      ]
    },
    {
      "cell_type": "code",
      "metadata": {
        "id": "WFsupyTxnHgN"
      },
      "source": [
        "DATA_NAME = \"BloodMNIST\"\n",
        "#DATA_NAME = \"TissueMNIST\"\n",
        "#DATA_NAME = \"OCTMNIST\""
      ],
      "execution_count": null,
      "outputs": []
    },
    {
      "cell_type": "code",
      "metadata": {
        "colab": {
          "base_uri": "https://localhost:8080/"
        },
        "id": "vrpiQg5VkbsL",
        "outputId": "51a8a888-c956-4775-899d-a1b117f4ccfa"
      },
      "source": [
        "!wget https://raw.githubusercontent.com/MedMNIST/MedMNIST/main/medmnist/info.py\n",
        "from info import INFO\n",
        "data = INFO[DATA_NAME.lower()]"
      ],
      "execution_count": null,
      "outputs": [
        {
          "output_type": "stream",
          "name": "stdout",
          "text": [
            "--2022-04-07 16:14:23--  https://raw.githubusercontent.com/MedMNIST/MedMNIST/main/medmnist/info.py\n",
            "Resolving raw.githubusercontent.com (raw.githubusercontent.com)... 185.199.108.133, 185.199.109.133, 185.199.110.133, ...\n",
            "Connecting to raw.githubusercontent.com (raw.githubusercontent.com)|185.199.108.133|:443... connected.\n",
            "HTTP request sent, awaiting response... 200 OK\n",
            "Length: 22843 (22K) [text/plain]\n",
            "Saving to: ‘info.py’\n",
            "\n",
            "\rinfo.py               0%[                    ]       0  --.-KB/s               \rinfo.py             100%[===================>]  22.31K  --.-KB/s    in 0s      \n",
            "\n",
            "2022-04-07 16:14:24 (47.8 MB/s) - ‘info.py’ saved [22843/22843]\n",
            "\n"
          ]
        }
      ]
    },
    {
      "cell_type": "code",
      "metadata": {
        "id": "nbCWsdDP0ECH",
        "colab": {
          "base_uri": "https://localhost:8080/"
        },
        "outputId": "06194389-05bb-4d27-fb98-2f064e467fcf"
      },
      "source": [
        "# Downloads the dataset file hosted on Zenodo.\n",
        "file_path = get_file(fname=\"dataset.npz\", \n",
        "                     origin=data[\"url\"], \n",
        "                     md5_hash=data[\"MD5\"])"
      ],
      "execution_count": null,
      "outputs": [
        {
          "output_type": "stream",
          "name": "stdout",
          "text": [
            "Downloading data from https://zenodo.org/record/5208230/files/bloodmnist.npz?download=1\n",
            "35463168/35461855 [==============================] - 3s 0us/step\n",
            "35471360/35461855 [==============================] - 3s 0us/step\n"
          ]
        }
      ]
    },
    {
      "cell_type": "code",
      "metadata": {
        "id": "GFPDZJZJ6o_T"
      },
      "source": [
        "# Loads the downloaded NumPy object.\n",
        "dataset = np.load(file_path)\n",
        "\n",
        "# Gets the training images and labels from the NumPy object.\n",
        "train_x = dataset[\"train_images\"]\n",
        "#print(train_x[0])\n",
        "#train_x =np.repeat(train_x[..., np.newaxis], 3, -1)\n",
        "\n",
        "train_y = dataset[\"train_labels\"]\n",
        "#train_y =np.repeat(train_y[..., np.newaxis], 3, -1)\n",
        "# Gets the validation images and labels from the NumPy object.\n",
        "val_x = dataset[\"val_images\"]\n",
        "#val_x =np.repeat(val_x[..., np.newaxis], 3, -1)\n",
        "val_y = dataset[\"val_labels\"]\n",
        "#val_y =np.repeat(val_y[..., np.newaxis], 3, -1)\n",
        "\n",
        "# Gets the testing images and labels from the NumPy object.\n",
        "test_x = dataset[\"test_images\"]\n",
        "#test_x =np.repeat(test_x[..., np.newaxis], 3, -1)\n",
        "test_y = dataset[\"test_labels\"]\n",
        "#val_y =np.repeat(val_y[..., np.newaxis], 3, -1)"
      ],
      "execution_count": null,
      "outputs": []
    },
    {
      "cell_type": "markdown",
      "metadata": {
        "id": "TRN-KCObfI18"
      },
      "source": [
        "## Data Exploration\n",
        "In this section we have a look at our data, their distributions to see if it is ready to be used within our machine learning algorithm."
      ]
    },
    {
      "cell_type": "code",
      "metadata": {
        "colab": {
          "base_uri": "https://localhost:8080/"
        },
        "id": "gMAxCIw3-JOW",
        "outputId": "39e9c966-a8dd-4f68-8955-60bbacb79dfc"
      },
      "source": [
        "# Declares a list of labels.\n",
        "labels = list(data[\"label\"].values()) + [\"total\"]\n",
        "\n",
        "# Gets the counts for each label in each of our datasets.\n",
        "_, train_counts = np.unique(train_y, return_counts=True)\n",
        "_, val_counts = np.unique(val_y, return_counts=True)\n",
        "_, test_counts = np.unique(test_y, return_counts=True)\n",
        "\n",
        "# Prints the counts for each label from each dataset.\n",
        "print(pd.DataFrame(list(zip(np.append(train_counts, [sum(train_counts)]), \n",
        "                            np.append(val_counts, [sum(val_counts)]), \n",
        "                            np.append(test_counts, [sum(test_counts)]))), \n",
        "                   index=labels, columns=[\"Train\", \"Val\", \"Test\"]))"
      ],
      "execution_count": null,
      "outputs": [
        {
          "output_type": "stream",
          "name": "stdout",
          "text": [
            "                                                    Train   Val  Test\n",
            "basophil                                              852   122   244\n",
            "eosinophil                                           2181   312   624\n",
            "erythroblast                                         1085   155   311\n",
            "immature granulocytes(myelocytes, metamyelocyte...   2026   290   579\n",
            "lymphocyte                                            849   122   243\n",
            "monocyte                                              993   143   284\n",
            "neutrophil                                           2330   333   666\n",
            "platelet                                             1643   235   470\n",
            "total                                               11959  1712  3421\n"
          ]
        }
      ]
    },
    {
      "cell_type": "code",
      "metadata": {
        "colab": {
          "base_uri": "https://localhost:8080/",
          "height": 302
        },
        "id": "AQ4Qba5sdt_Q",
        "outputId": "13e47e69-e346-4d0f-e636-ed93d45f1f3c"
      },
      "source": [
        "# Displays a random image from training dataset.\n",
        "index = random.randint(0, len(train_x))\n",
        "print(f\"{index}: {labels[train_y[index][0]]}\")\n",
        "#plt.imshow(train_x[random.randint(0, len(train_x))])\n",
        "plt.imshow(train_x[index])"
      ],
      "execution_count": null,
      "outputs": [
        {
          "output_type": "stream",
          "name": "stdout",
          "text": [
            "4247: eosinophil\n"
          ]
        },
        {
          "output_type": "execute_result",
          "data": {
            "text/plain": [
              "<matplotlib.image.AxesImage at 0x7f7746ba6910>"
            ]
          },
          "metadata": {},
          "execution_count": 12
        },
        {
          "output_type": "display_data",
          "data": {
            "text/plain": [
              "<Figure size 432x288 with 1 Axes>"
            ],
            "image/png": "[encoded data removed]"
          },
          "metadata": {
            "needs_background": "light"
          }
        }
      ]
    },
    {
      "cell_type": "markdown",
      "metadata": {
        "id": "61PPEn8Dhp_v"
      },
      "source": [
        "## Data Processing\n",
        "In this section we will create a data loader for algorithm that will dynamiclly load and augment the data when needed."
      ]
    },
    {
      "cell_type": "code",
      "metadata": {
        "id": "eKrtg2heh4tF"
      },
      "source": [
        "# Defines the data generator that will be used to augment the images as they are loaded.\n",
        "data_generator = ImageDataGenerator(featurewise_center=True,\n",
        "                                    featurewise_std_normalization=True,\n",
        "                                    horizontal_flip=True, \n",
        "                                    vertical_flip=True,\n",
        "                                    )"
      ],
      "execution_count": null,
      "outputs": []
    },
    {
      "cell_type": "code",
      "metadata": {
        "id": "d5TzJV-O3nD7"
      },
      "source": [
        "data_generator.fit(np.append(train_x, val_x, 0))"
      ],
      "execution_count": null,
      "outputs": []
    },
    {
      "cell_type": "markdown",
      "metadata": {
        "id": "ptmuEdE1p9MU"
      },
      "source": [
        "## Model Definition\n",
        "In this section we will define the neural network arcitecture."
      ]
    },
    {
      "cell_type": "code",
      "metadata": {
        "colab": {
          "base_uri": "https://localhost:8080/"
        },
        "id": "Ud-jcR_ZqE0V",
        "outputId": "e7ea9ada-ecf8-4e0d-deca-d5b8becc6ec9"
      },
      "source": [
        "# Define the input layer of the model with the size of an image.\n",
        "input = layers.Input(shape=train_x[0].shape)\n",
        "\n",
        "# Defines the first convolutional layer with max pooling.\n",
        "conv_1 = layers.Conv2D(filters=32, kernel_size=3, activation=\"relu\")(input)\n",
        "pool_1 = layers.MaxPool2D(pool_size=(2, 2))(conv_1)\n",
        "\n",
        "# Defines the second convolutional layer with max pooling.\n",
        "conv_2 = layers.Conv2D(filters=32, kernel_size=3, activation=\"relu\")(pool_1)\n",
        "pool_2 = layers.MaxPool2D(pool_size=(2, 2))(conv_2)\n",
        "\n",
        "# Flattens the outputs of the convolutoonal layers into a one dimensional array.\n",
        "flatten = layers.Flatten()(pool_2)\n",
        "\n",
        "# Defines the output layer of the model a number of output nodes equal to the number of classes.\n",
        "output = layers.Dense(units=len(np.unique(train_y)), activation=\"softmax\")(flatten)\n",
        "\n",
        "# Initilises the defined model and prints summary of the model.\n",
        "model = Model(inputs=input, outputs=output, name=\"Model\")\n",
        "model.summary()"
      ],
      "execution_count": null,
      "outputs": [
        {
          "output_type": "stream",
          "name": "stdout",
          "text": [
            "Model: \"Model\"\n",
            "_________________________________________________________________\n",
            " Layer (type)                Output Shape              Param #   \n",
            "=================================================================\n",
            " input_1 (InputLayer)        [(None, 28, 28, 3)]       0         \n",
            "                                                                 \n",
            " conv2d (Conv2D)             (None, 26, 26, 32)        896       \n",
            "                                                                 \n",
            " max_pooling2d (MaxPooling2D  (None, 13, 13, 32)       0         \n",
            " )                                                               \n",
            "                                                                 \n",
            " conv2d_1 (Conv2D)           (None, 11, 11, 32)        9248      \n",
            "                                                                 \n",
            " max_pooling2d_1 (MaxPooling  (None, 5, 5, 32)         0         \n",
            " 2D)                                                             \n",
            "                                                                 \n",
            " flatten (Flatten)           (None, 800)               0         \n",
            "                                                                 \n",
            " dense (Dense)               (None, 8)                 6408      \n",
            "                                                                 \n",
            "=================================================================\n",
            "Total params: 16,552\n",
            "Trainable params: 16,552\n",
            "Non-trainable params: 0\n",
            "_________________________________________________________________\n"
          ]
        }
      ]
    },
    {
      "cell_type": "markdown",
      "metadata": {
        "id": "SdMcAtCztO0b"
      },
      "source": [
        "## Model Training\n",
        "This is where we define the training options and then train the model.\n"
      ]
    },
    {
      "cell_type": "code",
      "metadata": {
        "id": "bEypwRiMuPCn"
      },
      "source": [
        "# Defines the parameters used during training.\n",
        "BATCH_SIZE = 64\n",
        "NUM_EPOCHS = 10\n",
        "LEARNING_RATE = 0.001"
      ],
      "execution_count": null,
      "outputs": []
    },
    {
      "cell_type": "code",
      "metadata": {
        "id": "Qb9WcL7ZtPZE"
      },
      "source": [
        "# Defines the optimiser used to adjust the model weights and compiles the model.\n",
        "optimiser = SGD(learning_rate=LEARNING_RATE)\n",
        "model.compile(optimizer=optimiser, loss=\"categorical_crossentropy\", metrics=[\"accuracy\"])"
      ],
      "execution_count": null,
      "outputs": []
    },
    {
      "cell_type": "code",
      "metadata": {
        "colab": {
          "base_uri": "https://localhost:8080/"
        },
        "id": "SOy4ArHyvIhR",
        "outputId": "7199a2d1-cca1-4203-bf02-79d78f616ab0"
      },
      "source": [
        "# We use the data generator to pass the training and validation data to the model to train it.\n",
        "history = model.fit(data_generator.flow(train_x, to_categorical(train_y), batch_size=BATCH_SIZE), \n",
        "                    steps_per_epoch=len(train_x) / BATCH_SIZE,\n",
        "                    validation_data=data_generator.flow(val_x, to_categorical(val_y), batch_size=BATCH_SIZE),\n",
        "                    validation_steps=len(val_x) / BATCH_SIZE,\n",
        "                    epochs=NUM_EPOCHS)"
      ],
      "execution_count": null,
      "outputs": [
        {
          "output_type": "stream",
          "name": "stdout",
          "text": [
            "Epoch 1/10\n",
            "186/186 [==============================] - 11s 55ms/step - loss: 2.0087 - accuracy: 0.2352 - val_loss: 1.8291 - val_accuracy: 0.3248\n",
            "Epoch 2/10\n",
            "186/186 [==============================] - 10s 56ms/step - loss: 1.7381 - accuracy: 0.3649 - val_loss: 1.6520 - val_accuracy: 0.3931\n",
            "Epoch 3/10\n",
            "186/186 [==============================] - 11s 56ms/step - loss: 1.5720 - accuracy: 0.4183 - val_loss: 1.4967 - val_accuracy: 0.4451\n",
            "Epoch 4/10\n",
            "186/186 [==============================] - 10s 55ms/step - loss: 1.4406 - accuracy: 0.4694 - val_loss: 1.3894 - val_accuracy: 0.5123\n",
            "Epoch 5/10\n",
            "186/186 [==============================] - 11s 57ms/step - loss: 1.3383 - accuracy: 0.5264 - val_loss: 1.2844 - val_accuracy: 0.5549\n",
            "Epoch 6/10\n",
            "186/186 [==============================] - 12s 62ms/step - loss: 1.2532 - accuracy: 0.5635 - val_loss: 1.2104 - val_accuracy: 0.5841\n",
            "Epoch 7/10\n",
            "186/186 [==============================] - 11s 57ms/step - loss: 1.1791 - accuracy: 0.5919 - val_loss: 1.1404 - val_accuracy: 0.6086\n",
            "Epoch 8/10\n",
            "186/186 [==============================] - 12s 62ms/step - loss: 1.1154 - accuracy: 0.6161 - val_loss: 1.0804 - val_accuracy: 0.6197\n",
            "Epoch 9/10\n",
            "186/186 [==============================] - 10s 56ms/step - loss: 1.0646 - accuracy: 0.6390 - val_loss: 1.0324 - val_accuracy: 0.6425\n",
            "Epoch 10/10\n",
            "186/186 [==============================] - 10s 53ms/step - loss: 1.0135 - accuracy: 0.6582 - val_loss: 0.9802 - val_accuracy: 0.6752\n"
          ]
        }
      ]
    },
    {
      "cell_type": "markdown",
      "metadata": {
        "id": "0bw_0oKy4UdI"
      },
      "source": [
        "## Plot Learning Curves\n",
        "This is where we visualise the training of the model."
      ]
    },
    {
      "cell_type": "code",
      "metadata": {
        "colab": {
          "base_uri": "https://localhost:8080/",
          "height": 295
        },
        "id": "8DOxQYV0oDmJ",
        "outputId": "c91b542c-d5ad-42b4-bfa2-d0dae23b03e7"
      },
      "source": [
        "# Plots the training and validation accuracy over the number of epochs.\n",
        "plt.plot(history.history['accuracy'])\n",
        "plt.plot(history.history['val_accuracy'])\n",
        "plt.title('Model Accuracy')\n",
        "plt.ylabel('Accuracy')\n",
        "plt.xlabel('Epoch')\n",
        "plt.legend(['Train', 'Validation'], loc='lower right')\n",
        "plt.show()"
      ],
      "execution_count": null,
      "outputs": [
        {
          "output_type": "display_data",
          "data": {
            "text/plain": [
              "<Figure size 432x288 with 1 Axes>"
            ],
            "image/png": "[encoded data removed]"
          },
          "metadata": {
            "needs_background": "light"
          }
        }
      ]
    },
    {
      "cell_type": "code",
      "metadata": {
        "id": "ZSQWVOnY4cdA",
        "colab": {
          "base_uri": "https://localhost:8080/",
          "height": 295
        },
        "outputId": "0925ccb2-b5bd-4107-9f6b-4791de2254a5"
      },
      "source": [
        "# Plots the training and validation loss over the number of epochs.\n",
        "plt.plot(history.history['loss'])\n",
        "plt.plot(history.history['val_loss'])\n",
        "plt.title('Model Loss')\n",
        "plt.ylabel('Loss')\n",
        "plt.xlabel('Epoch')\n",
        "plt.legend(['Train', 'Validation'], loc='upper right')\n",
        "plt.show()"
      ],
      "execution_count": null,
      "outputs": [
        {
          "output_type": "display_data",
          "data": {
            "text/plain": [
              "<Figure size 432x288 with 1 Axes>"
            ],
            "image/png": "[encoded data removed]"
          },
          "metadata": {
            "needs_background": "light"
          }
        }
      ]
    },
    {
      "cell_type": "code",
      "source": [
        "model.evaluate(data_generator.flow(test_x, to_categorical(test_y)))"
      ],
      "metadata": {
        "colab": {
          "base_uri": "https://localhost:8080/"
        },
        "id": "TXn88h4nl4Q1",
        "outputId": "361b2a33-d589-44cd-993a-7f2ff3c4ea35"
      },
      "execution_count": null,
      "outputs": [
        {
          "output_type": "stream",
          "name": "stdout",
          "text": [
            "107/107 [==============================] - 1s 11ms/step - loss: 0.9914 - accuracy: 0.6729\n"
          ]
        },
        {
          "output_type": "execute_result",
          "data": {
            "text/plain": [
              "[0.9913672208786011, 0.6729026436805725]"
            ]
          },
          "metadata": {},
          "execution_count": 21
        }
      ]
    }
  ]
}