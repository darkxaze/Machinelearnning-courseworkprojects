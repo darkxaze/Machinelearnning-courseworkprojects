{
  "nbformat": 4,
  "nbformat_minor": 0,
  "metadata": {
    "colab": {
      "name": "CNNbase.ipynb",
      "provenance": [],
      "collapsed_sections": [],
      "include_colab_link": true
    },
    "kernelspec": {
      "name": "python3",
      "display_name": "Python 3"
    },
    "accelerator": "GPU"
  },
  "cells": [
    {
      "cell_type": "markdown",
      "metadata": {
        "id": "view-in-github",
        "colab_type": "text"
      },
      "source": [
        "<a href=\"https://colab.research.google.com/github/darkxaze/Machinelearnning-courseworkprojects/blob/main/CNNbase.ipynb\" target=\"_parent\"><img src=\"https://colab.research.google.com/assets/colab-badge.svg\" alt=\"Open In Colab\"/></a>"
      ]
    },
    {
      "cell_type": "markdown",
      "metadata": {
        "id": "JKbgFz4AhYvK"
      },
      "source": [
        "# Deep Learning Medical Image Analysis Example\n",
        "A simple convolutional neural network model trained using a simple pathology image dataset.\n",
        "\n",
        "To use GPU acceleration make sure to change your runtime type in Google Colab to GPU."
      ]
    },
    {
      "cell_type": "markdown",
      "metadata": {
        "id": "LICWjsiH5Ysh"
      },
      "source": [
        "## Python Imports\n",
        "This section will load the necessary python packages to the instance."
      ]
    },
    {
      "cell_type": "code",
      "metadata": {
        "id": "4r14DjPX5XAT"
      },
      "source": [
        "# Built-in Imports\n",
        "import random"
      ],
      "execution_count": 1,
      "outputs": []
    },
    {
      "cell_type": "code",
      "metadata": {
        "id": "_9akxJOL576W"
      },
      "source": [
        "# Library Imports\n",
        "import numpy as np\n",
        "import pandas as pd\n",
        "import matplotlib.pyplot as plt\n",
        "from sklearn.metrics import classification_report, confusion_matrix, ConfusionMatrixDisplay"
      ],
      "execution_count": 2,
      "outputs": []
    },
    {
      "cell_type": "code",
      "metadata": {
        "id": "PPushucynmye"
      },
      "source": [
        "# Keras Imports\n",
        "from tensorflow.keras import layers\n",
        "from tensorflow.keras.models import Model\n",
        "from tensorflow.keras.optimizers import SGD\n",
        "from tensorflow.keras.utils import get_file, to_categorical\n",
        "from tensorflow.keras.preprocessing.image import ImageDataGenerator"
      ],
      "execution_count": 3,
      "outputs": []
    },
    {
      "cell_type": "markdown",
      "metadata": {
        "id": "UfG7LUYZz6I2"
      },
      "source": [
        "## Dataset Downloader\n",
        "This section will download the selected [MedMNIST](https://medmnist.github.io/) dataset as a NumPy array object to your Google Colab instance. \n",
        "\n",
        "To change the dataset that will download just change the variable DATA_NAME to desired dataset name.\n",
        "\n",
        "All storage on a Google Colab instance is deleted when the instance ends so the dataset will need to be redownloaded each time an instance is created (Don't worry this usually takes about 20 seconds)."
      ]
    },
    {
      "cell_type": "code",
      "metadata": {
        "id": "WFsupyTxnHgN"
      },
      "source": [
        "DATA_NAME = \"PathMNIST\""
      ],
      "execution_count": 4,
      "outputs": []
    },
    {
      "cell_type": "code",
      "metadata": {
        "colab": {
          "base_uri": "https://localhost:8080/"
        },
        "id": "vrpiQg5VkbsL",
        "outputId": "3e8e6923-6d10-4651-c28a-54f71978d108"
      },
      "source": [
        "!wget https://raw.githubusercontent.com/MedMNIST/MedMNIST/main/medmnist/info.py\n",
        "from info import INFO\n",
        "data = INFO[DATA_NAME.lower()]"
      ],
      "execution_count": 5,
      "outputs": [
        {
          "output_type": "stream",
          "name": "stdout",
          "text": [
            "--2022-04-05 23:44:02--  https://raw.githubusercontent.com/MedMNIST/MedMNIST/main/medmnist/info.py\n",
            "Resolving raw.githubusercontent.com (raw.githubusercontent.com)... 185.199.110.133, 185.199.108.133, 185.199.109.133, ...\n",
            "Connecting to raw.githubusercontent.com (raw.githubusercontent.com)|185.199.110.133|:443... connected.\n",
            "HTTP request sent, awaiting response... 200 OK\n",
            "Length: 22843 (22K) [text/plain]\n",
            "Saving to: ‘info.py’\n",
            "\n",
            "info.py             100%[===================>]  22.31K  --.-KB/s    in 0s      \n",
            "\n",
            "2022-04-05 23:44:03 (74.9 MB/s) - ‘info.py’ saved [22843/22843]\n",
            "\n"
          ]
        }
      ]
    },
    {
      "cell_type": "code",
      "metadata": {
        "id": "nbCWsdDP0ECH",
        "colab": {
          "base_uri": "https://localhost:8080/"
        },
        "outputId": "58fcb821-4fc7-4f6e-df38-034a4ff096e3"
      },
      "source": [
        "# Downloads the dataset file hosted on Zenodo.\n",
        "file_path = get_file(fname=\"dataset.npz\", \n",
        "                     origin=data[\"url\"], \n",
        "                     md5_hash=data[\"MD5\"])"
      ],
      "execution_count": 6,
      "outputs": [
        {
          "output_type": "stream",
          "name": "stdout",
          "text": [
            "Downloading data from https://zenodo.org/record/5208230/files/pathmnist.npz?download=1\n",
            "205619200/205615438 [==============================] - 4s 0us/step\n",
            "205627392/205615438 [==============================] - 4s 0us/step\n"
          ]
        }
      ]
    },
    {
      "cell_type": "code",
      "metadata": {
        "id": "GFPDZJZJ6o_T"
      },
      "source": [
        "# Loads the downloaded NumPy object.\n",
        "dataset = np.load(file_path)\n",
        "\n",
        "# Gets the training images and labels from the NumPy object.\n",
        "train_x = dataset[\"train_images\"]\n",
        "train_y = dataset[\"train_labels\"]\n",
        "\n",
        "# Gets the validation images and labels from the NumPy object.\n",
        "val_x = dataset[\"val_images\"]\n",
        "val_y = dataset[\"val_labels\"]\n",
        "\n",
        "# Gets the testing images and labels from the NumPy object.\n",
        "test_x = dataset[\"test_images\"]\n",
        "test_y = dataset[\"test_labels\"]"
      ],
      "execution_count": 7,
      "outputs": []
    },
    {
      "cell_type": "code",
      "source": [
        "print(len(train_x))\n",
        "print(len(val_x))"
      ],
      "metadata": {
        "colab": {
          "base_uri": "https://localhost:8080/"
        },
        "id": "AUtHy6Tc91Uq",
        "outputId": "46017de3-2940-493d-f662-644d8eae2a24"
      },
      "execution_count": 8,
      "outputs": [
        {
          "output_type": "stream",
          "name": "stdout",
          "text": [
            "89996\n",
            "10004\n"
          ]
        }
      ]
    },
    {
      "cell_type": "markdown",
      "metadata": {
        "id": "TRN-KCObfI18"
      },
      "source": [
        "## Data Exploration\n",
        "In this section we have a look at our data, their distributions to see if it is ready to be used within our machine learning algorithm."
      ]
    },
    {
      "cell_type": "code",
      "metadata": {
        "colab": {
          "base_uri": "https://localhost:8080/"
        },
        "id": "gMAxCIw3-JOW",
        "outputId": "d8747871-07f0-4e0b-9cc2-ce005e8fadc0"
      },
      "source": [
        "# Declares a list of labels.\n",
        "labels = list(data[\"label\"].values()) + [\"total\"]\n",
        "\n",
        "# Gets the counts for each label in each of our datasets.\n",
        "_, train_counts = np.unique(train_y, return_counts=True)\n",
        "_, val_counts = np.unique(val_y, return_counts=True)\n",
        "_, test_counts = np.unique(test_y, return_counts=True)\n",
        "\n",
        "# Prints the counts for each label from each dataset.\n",
        "print(pd.DataFrame(list(zip(np.append(train_counts, [sum(train_counts)]), \n",
        "                            np.append(val_counts, [sum(val_counts)]), \n",
        "                            np.append(test_counts, [sum(test_counts)]))), \n",
        "                   index=labels, columns=[\"Train\", \"Val\", \"Test\"]))"
      ],
      "execution_count": 9,
      "outputs": [
        {
          "output_type": "stream",
          "name": "stdout",
          "text": [
            "                                      Train    Val  Test\n",
            "adipose                                9366   1041  1338\n",
            "background                             9509   1057   847\n",
            "debris                                10360   1152   339\n",
            "lymphocytes                           10401   1156   634\n",
            "mucus                                  8006    890  1035\n",
            "smooth muscle                         12182   1354   592\n",
            "normal colon mucosa                    7886    877   741\n",
            "cancer-associated stroma               9401   1045   421\n",
            "colorectal adenocarcinoma epithelium  12885   1432  1233\n",
            "total                                 89996  10004  7180\n"
          ]
        }
      ]
    },
    {
      "cell_type": "code",
      "metadata": {
        "colab": {
          "base_uri": "https://localhost:8080/",
          "height": 302
        },
        "id": "AQ4Qba5sdt_Q",
        "outputId": "7660578c-66a8-4ec8-a4f4-da437f256681"
      },
      "source": [
        "# Displays a random image from training dataset.\n",
        "index = random.randint(0, len(train_x))\n",
        "print(f\"{index}: {labels[train_y[index][0]]}\")\n",
        "#plt.imshow(train_x[random.randint(0, len(train_x))])\n",
        "plt.imshow(train_x[index])"
      ],
      "execution_count": 10,
      "outputs": [
        {
          "output_type": "stream",
          "name": "stdout",
          "text": [
            "40649: colorectal adenocarcinoma epithelium\n"
          ]
        },
        {
          "output_type": "execute_result",
          "data": {
            "text/plain": [
              "<matplotlib.image.AxesImage at 0x7fc07cc86dd0>"
            ]
          },
          "metadata": {},
          "execution_count": 10
        },
        {
          "output_type": "display_data",
          "data": {
            "text/plain": [
              "<Figure size 432x288 with 1 Axes>"
            ],
            "image/png": "[encoded data removed]"
          },
          "metadata": {
            "needs_background": "light"
          }
        }
      ]
    },
    {
      "cell_type": "markdown",
      "metadata": {
        "id": "61PPEn8Dhp_v"
      },
      "source": [
        "## Data Processing\n",
        "In this section we will create a data loader for algorithm that will dynamiclly load and augment the data when needed."
      ]
    },
    {
      "cell_type": "code",
      "metadata": {
        "id": "eKrtg2heh4tF"
      },
      "source": [
        "# Defines the data generator that will be used to augment the images as they are loaded.\n",
        "data_generator = ImageDataGenerator(featurewise_center=True,\n",
        "                                    featurewise_std_normalization=True,\n",
        "                                    horizontal_flip=True, \n",
        "                                    vertical_flip=True)"
      ],
      "execution_count": 11,
      "outputs": []
    },
    {
      "cell_type": "code",
      "metadata": {
        "id": "d5TzJV-O3nD7"
      },
      "source": [
        "data_generator.fit(np.append(train_x, val_x, 0))"
      ],
      "execution_count": 12,
      "outputs": []
    },
    {
      "cell_type": "code",
      "source": [
        "print(len(train_x))\n",
        "print(len(val_x))"
      ],
      "metadata": {
        "colab": {
          "base_uri": "https://localhost:8080/"
        },
        "id": "BuKqlapr-HpS",
        "outputId": "2482cce1-22c9-436c-c4c2-b8e487424c9a"
      },
      "execution_count": 13,
      "outputs": [
        {
          "output_type": "stream",
          "name": "stdout",
          "text": [
            "89996\n",
            "10004\n"
          ]
        }
      ]
    },
    {
      "cell_type": "markdown",
      "metadata": {
        "id": "ptmuEdE1p9MU"
      },
      "source": [
        "## Model Definition\n",
        "In this section we will define the neural network arcitecture."
      ]
    },
    {
      "cell_type": "code",
      "metadata": {
        "colab": {
          "base_uri": "https://localhost:8080/"
        },
        "id": "Ud-jcR_ZqE0V",
        "outputId": "3993de42-736e-47ce-cd0a-472874610fd0"
      },
      "source": [
        "# Define the input layer of the model with the size of an image.\n",
        "input = layers.Input(shape=train_x[0].shape)\n",
        "\n",
        "# Defines the first convolutional layer with max pooling.\n",
        "conv_1 = layers.Conv2D(filters=32, kernel_size=3, activation=\"relu\")(input)\n",
        "pool_1 = layers.MaxPool2D(pool_size=(2, 2))(conv_1)\n",
        "\n",
        "# Defines the second convolutional layer with max pooling.\n",
        "conv_2 = layers.Conv2D(filters=32, kernel_size=3, activation=\"relu\")(pool_1)\n",
        "pool_2 = layers.MaxPool2D(pool_size=(2, 2))(conv_2)\n",
        "\n",
        "# Flattens the outputs of the convolutoonal layers into a one dimensional array.\n",
        "flatten = layers.Flatten()(pool_2)\n",
        "\n",
        "#dense layer\n",
        "dense1 =  layers.Dense(units=500, activation=\"relu\")(flatten)\n",
        "dense2 =  layers.Dense(units=200, activation=\"relu\")(dense1)\n",
        "dense3 =  layers.Dense(units=50, activation=\"relu\")(dense2)\n",
        "# Defines the output layer of the model a number of output nodes equal to the number of classes.\n",
        "output = layers.Dense(units=len(np.unique(train_y)), activation=\"softmax\")(dense3)\n",
        "\n",
        "# Initilises the defined model and prints summary of the model.\n",
        "model = Model(inputs=input, outputs=output, name=\"Model\")\n",
        "model.summary()"
      ],
      "execution_count": 14,
      "outputs": [
        {
          "output_type": "stream",
          "name": "stdout",
          "text": [
            "Model: \"Model\"\n",
            "_________________________________________________________________\n",
            " Layer (type)                Output Shape              Param #   \n",
            "=================================================================\n",
            " input_1 (InputLayer)        [(None, 28, 28, 3)]       0         \n",
            "                                                                 \n",
            " conv2d (Conv2D)             (None, 26, 26, 32)        896       \n",
            "                                                                 \n",
            " max_pooling2d (MaxPooling2D  (None, 13, 13, 32)       0         \n",
            " )                                                               \n",
            "                                                                 \n",
            " conv2d_1 (Conv2D)           (None, 11, 11, 32)        9248      \n",
            "                                                                 \n",
            " max_pooling2d_1 (MaxPooling  (None, 5, 5, 32)         0         \n",
            " 2D)                                                             \n",
            "                                                                 \n",
            " flatten (Flatten)           (None, 800)               0         \n",
            "                                                                 \n",
            " dense (Dense)               (None, 500)               400500    \n",
            "                                                                 \n",
            " dense_1 (Dense)             (None, 200)               100200    \n",
            "                                                                 \n",
            " dense_2 (Dense)             (None, 50)                10050     \n",
            "                                                                 \n",
            " dense_3 (Dense)             (None, 9)                 459       \n",
            "                                                                 \n",
            "=================================================================\n",
            "Total params: 521,353\n",
            "Trainable params: 521,353\n",
            "Non-trainable params: 0\n",
            "_________________________________________________________________\n"
          ]
        }
      ]
    },
    {
      "cell_type": "markdown",
      "metadata": {
        "id": "SdMcAtCztO0b"
      },
      "source": [
        "## Model Training\n",
        "This is where we define the training options and then train the model.\n"
      ]
    },
    {
      "cell_type": "code",
      "metadata": {
        "id": "bEypwRiMuPCn"
      },
      "source": [
        "# Defines the parameters used during training.\n",
        "BATCH_SIZE = 64\n",
        "NUM_EPOCHS = 30\n",
        "LEARNING_RATE = 0.001"
      ],
      "execution_count": 15,
      "outputs": []
    },
    {
      "cell_type": "code",
      "metadata": {
        "id": "Qb9WcL7ZtPZE"
      },
      "source": [
        "# Defines the optimiser used to adjust the model weights and compiles the model.\n",
        "optimiser = SGD(learning_rate=LEARNING_RATE)\n",
        "model.compile(optimizer=optimiser, loss=\"categorical_crossentropy\", metrics=[\"accuracy\"])"
      ],
      "execution_count": 16,
      "outputs": []
    },
    {
      "cell_type": "code",
      "metadata": {
        "colab": {
          "base_uri": "https://localhost:8080/"
        },
        "id": "SOy4ArHyvIhR",
        "outputId": "e0054873-c7c3-476d-9aa4-e531e0d3d85d"
      },
      "source": [
        "# We use the data generator to pass the training and validation data to the model to train it.\n",
        "history = model.fit(data_generator.flow(train_x, to_categorical(train_y), batch_size=BATCH_SIZE), \n",
        "                    steps_per_epoch=len(train_x) / BATCH_SIZE,\n",
        "                    validation_data=data_generator.flow(val_x, to_categorical(val_y), batch_size=BATCH_SIZE),\n",
        "                    validation_steps=len(val_x) / BATCH_SIZE,\n",
        "                    epochs=NUM_EPOCHS)"
      ],
      "execution_count": 17,
      "outputs": [
        {
          "output_type": "stream",
          "name": "stdout",
          "text": [
            "Epoch 1/30\n",
            "1406/1406 [==============================] - 25s 11ms/step - loss: 1.9367 - accuracy: 0.3077 - val_loss: 1.7083 - val_accuracy: 0.3928\n",
            "Epoch 2/30\n",
            "1406/1406 [==============================] - 16s 11ms/step - loss: 1.5841 - accuracy: 0.4249 - val_loss: 1.5023 - val_accuracy: 0.4361\n",
            "Epoch 3/30\n",
            "1406/1406 [==============================] - 16s 12ms/step - loss: 1.4328 - accuracy: 0.4623 - val_loss: 1.3725 - val_accuracy: 0.4848\n",
            "Epoch 4/30\n",
            "1406/1406 [==============================] - 16s 11ms/step - loss: 1.3461 - accuracy: 0.4912 - val_loss: 1.3877 - val_accuracy: 0.4618\n",
            "Epoch 5/30\n",
            "1406/1406 [==============================] - 16s 11ms/step - loss: 1.2867 - accuracy: 0.5146 - val_loss: 1.2732 - val_accuracy: 0.5110\n",
            "Epoch 6/30\n",
            "1406/1406 [==============================] - 16s 11ms/step - loss: 1.2311 - accuracy: 0.5360 - val_loss: 1.2107 - val_accuracy: 0.5576\n",
            "Epoch 7/30\n",
            "1406/1406 [==============================] - 16s 11ms/step - loss: 1.1854 - accuracy: 0.5560 - val_loss: 1.1784 - val_accuracy: 0.5574\n",
            "Epoch 8/30\n",
            "1406/1406 [==============================] - 16s 11ms/step - loss: 1.1466 - accuracy: 0.5749 - val_loss: 1.1443 - val_accuracy: 0.5820\n",
            "Epoch 9/30\n",
            "1406/1406 [==============================] - 16s 11ms/step - loss: 1.1106 - accuracy: 0.5931 - val_loss: 1.0666 - val_accuracy: 0.6161\n",
            "Epoch 10/30\n",
            "1406/1406 [==============================] - 16s 11ms/step - loss: 1.0797 - accuracy: 0.6046 - val_loss: 1.0347 - val_accuracy: 0.6231\n",
            "Epoch 11/30\n",
            "1406/1406 [==============================] - 15s 11ms/step - loss: 1.0524 - accuracy: 0.6149 - val_loss: 1.1380 - val_accuracy: 0.5679\n",
            "Epoch 12/30\n",
            "1406/1406 [==============================] - 15s 11ms/step - loss: 1.0313 - accuracy: 0.6235 - val_loss: 1.0102 - val_accuracy: 0.6242\n",
            "Epoch 13/30\n",
            "1406/1406 [==============================] - 16s 11ms/step - loss: 1.0041 - accuracy: 0.6339 - val_loss: 0.9809 - val_accuracy: 0.6425\n",
            "Epoch 14/30\n",
            "1406/1406 [==============================] - 16s 11ms/step - loss: 0.9840 - accuracy: 0.6425 - val_loss: 0.9533 - val_accuracy: 0.6506\n",
            "Epoch 15/30\n",
            "1406/1406 [==============================] - 16s 11ms/step - loss: 0.9616 - accuracy: 0.6500 - val_loss: 0.9414 - val_accuracy: 0.6646\n",
            "Epoch 16/30\n",
            "1406/1406 [==============================] - 15s 11ms/step - loss: 0.9475 - accuracy: 0.6557 - val_loss: 0.9130 - val_accuracy: 0.6589\n",
            "Epoch 17/30\n",
            "1406/1406 [==============================] - 16s 11ms/step - loss: 0.9234 - accuracy: 0.6646 - val_loss: 0.8843 - val_accuracy: 0.6787\n",
            "Epoch 18/30\n",
            "1406/1406 [==============================] - 15s 11ms/step - loss: 0.9065 - accuracy: 0.6710 - val_loss: 0.8707 - val_accuracy: 0.6821\n",
            "Epoch 19/30\n",
            "1406/1406 [==============================] - 15s 11ms/step - loss: 0.8839 - accuracy: 0.6797 - val_loss: 0.8688 - val_accuracy: 0.6827\n",
            "Epoch 20/30\n",
            "1406/1406 [==============================] - 15s 11ms/step - loss: 0.8673 - accuracy: 0.6867 - val_loss: 0.8699 - val_accuracy: 0.6757\n",
            "Epoch 21/30\n",
            "1406/1406 [==============================] - 15s 11ms/step - loss: 0.8534 - accuracy: 0.6906 - val_loss: 0.8703 - val_accuracy: 0.6677\n",
            "Epoch 22/30\n",
            "1406/1406 [==============================] - 15s 11ms/step - loss: 0.8372 - accuracy: 0.6943 - val_loss: 0.8431 - val_accuracy: 0.6839\n",
            "Epoch 23/30\n",
            "1406/1406 [==============================] - 16s 11ms/step - loss: 0.8204 - accuracy: 0.7011 - val_loss: 0.8505 - val_accuracy: 0.6908\n",
            "Epoch 24/30\n",
            "1406/1406 [==============================] - 15s 11ms/step - loss: 0.8038 - accuracy: 0.7079 - val_loss: 0.7683 - val_accuracy: 0.7241\n",
            "Epoch 25/30\n",
            "1406/1406 [==============================] - 15s 11ms/step - loss: 0.7902 - accuracy: 0.7125 - val_loss: 0.7420 - val_accuracy: 0.7231\n",
            "Epoch 26/30\n",
            "1406/1406 [==============================] - 15s 11ms/step - loss: 0.7755 - accuracy: 0.7173 - val_loss: 0.7402 - val_accuracy: 0.7269\n",
            "Epoch 27/30\n",
            "1406/1406 [==============================] - 15s 11ms/step - loss: 0.7644 - accuracy: 0.7230 - val_loss: 0.7122 - val_accuracy: 0.7411\n",
            "Epoch 28/30\n",
            "1406/1406 [==============================] - 15s 11ms/step - loss: 0.7473 - accuracy: 0.7283 - val_loss: 0.7208 - val_accuracy: 0.7383\n",
            "Epoch 29/30\n",
            "1406/1406 [==============================] - 16s 11ms/step - loss: 0.7313 - accuracy: 0.7352 - val_loss: 0.7519 - val_accuracy: 0.7170\n",
            "Epoch 30/30\n",
            "1406/1406 [==============================] - 16s 11ms/step - loss: 0.7157 - accuracy: 0.7391 - val_loss: 0.6619 - val_accuracy: 0.7601\n"
          ]
        }
      ]
    },
    {
      "cell_type": "markdown",
      "metadata": {
        "id": "0bw_0oKy4UdI"
      },
      "source": [
        "## Plot Learning Curves\n",
        "This is where we visualise the training of the model."
      ]
    },
    {
      "cell_type": "code",
      "metadata": {
        "colab": {
          "base_uri": "https://localhost:8080/",
          "height": 295
        },
        "id": "8DOxQYV0oDmJ",
        "outputId": "dfe9ac16-6b4d-4b97-a840-e1c55dbe69a2"
      },
      "source": [
        "# Plots the training and validation accuracy over the number of epochs.\n",
        "plt.plot(history.history['accuracy'])\n",
        "plt.plot(history.history['val_accuracy'])\n",
        "plt.title('Model Accuracy')\n",
        "plt.ylabel('Accuracy')\n",
        "plt.xlabel('Epoch')\n",
        "plt.legend(['Train', 'Validation'], loc='lower right')\n",
        "plt.show()"
      ],
      "execution_count": 18,
      "outputs": [
        {
          "output_type": "display_data",
          "data": {
            "text/plain": [
              "<Figure size 432x288 with 1 Axes>"
            ],
            "image/png": "[encoded data removed]"
          },
          "metadata": {
            "needs_background": "light"
          }
        }
      ]
    },
    {
      "cell_type": "code",
      "metadata": {
        "id": "ZSQWVOnY4cdA",
        "colab": {
          "base_uri": "https://localhost:8080/",
          "height": 295
        },
        "outputId": "3aafb23a-8feb-495f-bf45-f65a14dff498"
      },
      "source": [
        "# Plots the training and validation loss over the number of epochs.\n",
        "plt.plot(history.history['loss'])\n",
        "plt.plot(history.history['val_loss'])\n",
        "plt.title('Model Loss')\n",
        "plt.ylabel('Loss')\n",
        "plt.xlabel('Epoch')\n",
        "plt.legend(['Train', 'Validation'], loc='upper right')\n",
        "plt.show()"
      ],
      "execution_count": 19,
      "outputs": [
        {
          "output_type": "display_data",
          "data": {
            "text/plain": [
              "<Figure size 432x288 with 1 Axes>"
            ],
            "image/png": "[encoded data removed]"
          },
          "metadata": {
            "needs_background": "light"
          }
        }
      ]
    },
    {
      "cell_type": "code",
      "source": [
        "score = model.evaluate(test_x, to_categorical(test_y), verbose = 0) \n",
        "\n",
        "print('Test loss:', score[0]) \n",
        "print('Test accuracy:', score[1])"
      ],
      "metadata": {
        "colab": {
          "base_uri": "https://localhost:8080/"
        },
        "id": "suUGMeJJnEUj",
        "outputId": "d92e6480-e029-4531-c23c-c0fe7294e783"
      },
      "execution_count": 20,
      "outputs": [
        {
          "output_type": "stream",
          "name": "stdout",
          "text": [
            "Test loss: 1093.4854736328125\n",
            "Test accuracy: 0.07980501651763916\n"
          ]
        }
      ]
    },
    {
      "cell_type": "code",
      "source": [
        "score = model.evaluate(data_generator.flow(test_x, to_categorical(test_y), verbose = 0)) \n",
        "\n",
        "#print('Test loss:', score[0]) \n",
        "#print('Test accuracy:', score[1])"
      ],
      "metadata": {
        "colab": {
          "base_uri": "https://localhost:8080/",
          "height": 228
        },
        "id": "AN3UkADbvzT4",
        "outputId": "c6990e77-53ef-4c57-c32c-1268bf72cd20"
      },
      "execution_count": 25,
      "outputs": [
        {
          "output_type": "error",
          "ename": "TypeError",
          "evalue": "ignored",
          "traceback": [
            "\u001b[0;31m---------------------------------------------------------------------------\u001b[0m",
            "\u001b[0;31mTypeError\u001b[0m                                 Traceback (most recent call last)",
            "\u001b[0;32m<ipython-input-25-ecc976186853>\u001b[0m in \u001b[0;36m<module>\u001b[0;34m()\u001b[0m\n\u001b[0;32m----> 1\u001b[0;31m \u001b[0mscore\u001b[0m \u001b[0;34m=\u001b[0m \u001b[0mmodel\u001b[0m\u001b[0;34m.\u001b[0m\u001b[0mevaluate\u001b[0m\u001b[0;34m(\u001b[0m\u001b[0mdata_generator\u001b[0m\u001b[0;34m.\u001b[0m\u001b[0mflow\u001b[0m\u001b[0;34m(\u001b[0m\u001b[0mtest_x\u001b[0m\u001b[0;34m,\u001b[0m \u001b[0mto_categorical\u001b[0m\u001b[0;34m(\u001b[0m\u001b[0mtest_y\u001b[0m\u001b[0;34m)\u001b[0m\u001b[0;34m,\u001b[0m \u001b[0mverbose\u001b[0m \u001b[0;34m=\u001b[0m \u001b[0;36m0\u001b[0m\u001b[0;34m)\u001b[0m\u001b[0;34m)\u001b[0m\u001b[0;34m\u001b[0m\u001b[0;34m\u001b[0m\u001b[0m\n\u001b[0m\u001b[1;32m      2\u001b[0m \u001b[0;34m\u001b[0m\u001b[0m\n\u001b[1;32m      3\u001b[0m \u001b[0;31m#print('Test loss:', score[0])\u001b[0m\u001b[0;34m\u001b[0m\u001b[0;34m\u001b[0m\u001b[0;34m\u001b[0m\u001b[0m\n\u001b[1;32m      4\u001b[0m \u001b[0;31m#print('Test accuracy:', score[1])\u001b[0m\u001b[0;34m\u001b[0m\u001b[0;34m\u001b[0m\u001b[0;34m\u001b[0m\u001b[0m\n",
            "\u001b[0;31mTypeError\u001b[0m: flow() got an unexpected keyword argument 'verbose'"
          ]
        }
      ]
    },
    {
      "cell_type": "code",
      "source": [
        "'''test_generator = test_datagen.flow_from_directory(\n",
        "        \"test\",\n",
        "        target_size=(150, 150),\n",
        "        batch_size=20,\n",
        "        class_mode='binary')\n",
        "\n",
        "test_loss, test_acc = model.evaluate(test_generator)\n",
        "print('test acc:', test_acc)'''"
      ],
      "metadata": {
        "colab": {
          "base_uri": "https://localhost:8080/",
          "height": 54
        },
        "id": "hWiN4N_czH32",
        "outputId": "30420912-f785-43c9-ee6b-73a3d31078fc"
      },
      "execution_count": 22,
      "outputs": [
        {
          "output_type": "execute_result",
          "data": {
            "text/plain": [
              "'test_generator = test_datagen.flow_from_directory(\\n        \"test\",\\n        target_size=(150, 150),\\n        batch_size=20,\\n        class_mode=\\'binary\\')\\n\\ntest_loss, test_acc = model.evaluate(test_generator)\\nprint(\\'test acc:\\', test_acc)'"
            ],
            "application/vnd.google.colaboratory.intrinsic+json": {
              "type": "string"
            }
          },
          "metadata": {},
          "execution_count": 22
        }
      ]
    }
  ]
}